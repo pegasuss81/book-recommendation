{
 "cells": [
  {
   "cell_type": "markdown",
   "metadata": {},
   "source": [
    "# Book Recommendation System with Amazon Review Data\n",
    "\n",
    "   ## Ratings Model\n",
    "   ## Description/Text Reviews Vectorization Model"
   ]
  },
  {
   "cell_type": "code",
   "execution_count": 3,
   "metadata": {},
   "outputs": [],
   "source": [
    "import os\n",
    "#import json\n",
    "import ujson as json\n",
    "import gzip\n",
    "import pandas as pd\n",
    "from urllib.request import urlopen"
   ]
  },
  {
   "cell_type": "code",
   "execution_count": 4,
   "metadata": {},
   "outputs": [],
   "source": [
    "import numpy as np\n",
    "import matplotlib.pyplot as plt\n",
    "from sklearn import base\n",
    "from sklearn.feature_extraction import DictVectorizer\n",
    "from sklearn.pipeline import Pipeline, FeatureUnion\n",
    "from sklearn.neighbors import NearestNeighbors\n",
    "from sklearn.linear_model import RidgeCV, LinearRegression, SGDRegressor, Ridge\n",
    "from sklearn.decomposition import TruncatedSVD\n",
    "from sklearn.model_selection import GridSearchCV\n",
    "from sklearn.metrics import mean_squared_error\n",
    "from sklearn.model_selection import train_test_split\n",
    "\n",
    "from scipy.sparse import csr_matrix\n",
    "import scipy.sparse"
   ]
  },
  {
   "cell_type": "markdown",
   "metadata": {},
   "source": [
    "## Loading Data\n",
    "\n",
    "Here, we are using Amazon review data that was crawled from user reviews in the range of 1996 to 2018. The size of data is big > a few GB, so I am using a subset of data first to check to model working."
   ]
  },
  {
   "cell_type": "code",
   "execution_count": 5,
   "metadata": {},
   "outputs": [],
   "source": [
    "children_books = []\n",
    "for line in gzip.open('../meta_Books.json.gz', 'rt'):\n",
    "    if \"Child\" in line:\n",
    "        children_books.append(line)"
   ]
  },
  {
   "cell_type": "code",
   "execution_count": 6,
   "metadata": {},
   "outputs": [
    {
     "data": {
      "text/plain": [
       "290993"
      ]
     },
     "execution_count": 6,
     "metadata": {},
     "output_type": "execute_result"
    }
   ],
   "source": [
    "len(children_books)"
   ]
  },
  {
   "cell_type": "code",
   "execution_count": 7,
   "metadata": {},
   "outputs": [],
   "source": [
    "cbooks = []\n",
    "for i in range(len(children_books)):\n",
    "    cbooks.append(json.loads(children_books[i]))"
   ]
  },
  {
   "cell_type": "code",
   "execution_count": 8,
   "metadata": {},
   "outputs": [
    {
     "data": {
      "text/html": [
       "<div>\n",
       "<style scoped>\n",
       "    .dataframe tbody tr th:only-of-type {\n",
       "        vertical-align: middle;\n",
       "    }\n",
       "\n",
       "    .dataframe tbody tr th {\n",
       "        vertical-align: top;\n",
       "    }\n",
       "\n",
       "    .dataframe thead th {\n",
       "        text-align: right;\n",
       "    }\n",
       "</style>\n",
       "<table border=\"1\" class=\"dataframe\">\n",
       "  <thead>\n",
       "    <tr style=\"text-align: right;\">\n",
       "      <th></th>\n",
       "      <th>category</th>\n",
       "      <th>tech1</th>\n",
       "      <th>description</th>\n",
       "      <th>fit</th>\n",
       "      <th>title</th>\n",
       "      <th>also_buy</th>\n",
       "      <th>tech2</th>\n",
       "      <th>brand</th>\n",
       "      <th>feature</th>\n",
       "      <th>rank</th>\n",
       "      <th>also_view</th>\n",
       "      <th>main_cat</th>\n",
       "      <th>similar_item</th>\n",
       "      <th>date</th>\n",
       "      <th>price</th>\n",
       "      <th>asin</th>\n",
       "      <th>imageURL</th>\n",
       "      <th>imageURLHighRes</th>\n",
       "      <th>details</th>\n",
       "    </tr>\n",
       "  </thead>\n",
       "  <tbody>\n",
       "    <tr>\n",
       "      <th>0</th>\n",
       "      <td>[Books, Children's Books, Activities, Crafts &amp;...</td>\n",
       "      <td></td>\n",
       "      <td>[]</td>\n",
       "      <td></td>\n",
       "      <td>Chess for Children</td>\n",
       "      <td>[]</td>\n",
       "      <td></td>\n",
       "      <td>Raymond Bott</td>\n",
       "      <td>[]</td>\n",
       "      <td>2,703,396 in Books (</td>\n",
       "      <td>[]</td>\n",
       "      <td>Books</td>\n",
       "      <td></td>\n",
       "      <td></td>\n",
       "      <td>$5.39</td>\n",
       "      <td>0001061100</td>\n",
       "      <td>[]</td>\n",
       "      <td>[]</td>\n",
       "      <td>NaN</td>\n",
       "    </tr>\n",
       "    <tr>\n",
       "      <th>1</th>\n",
       "      <td>[Books, Children's Books, Literature &amp; Fiction]</td>\n",
       "      <td></td>\n",
       "      <td>[Collection of Poetry]</td>\n",
       "      <td></td>\n",
       "      <td>The golden treasury of poetry</td>\n",
       "      <td>[0140556125, 0307165221, 0689823827, 000255834...</td>\n",
       "      <td></td>\n",
       "      <td>Louis (ed) UNTERMEYER</td>\n",
       "      <td>[]</td>\n",
       "      <td>321,557 in Books (</td>\n",
       "      <td>[B001HDIKYW, B000LTQDP6, 0307168514, 039485010...</td>\n",
       "      <td>Books</td>\n",
       "      <td></td>\n",
       "      <td></td>\n",
       "      <td>$23.98</td>\n",
       "      <td>0001061240</td>\n",
       "      <td>[]</td>\n",
       "      <td>[]</td>\n",
       "      <td>NaN</td>\n",
       "    </tr>\n",
       "    <tr>\n",
       "      <th>2</th>\n",
       "      <td>[Books, Children's Books]</td>\n",
       "      <td></td>\n",
       "      <td>[]</td>\n",
       "      <td></td>\n",
       "      <td>Dinosaurs: a pop-up book</td>\n",
       "      <td>[]</td>\n",
       "      <td></td>\n",
       "      <td>Dorothea BARLOWE</td>\n",
       "      <td>[]</td>\n",
       "      <td>2,762,792 in Books (</td>\n",
       "      <td>[0763622281, 0763662356]</td>\n",
       "      <td>Books</td>\n",
       "      <td></td>\n",
       "      <td></td>\n",
       "      <td>$5.54</td>\n",
       "      <td>0001062395</td>\n",
       "      <td>[]</td>\n",
       "      <td>[]</td>\n",
       "      <td>NaN</td>\n",
       "    </tr>\n",
       "    <tr>\n",
       "      <th>3</th>\n",
       "      <td>[Books, Children's Books]</td>\n",
       "      <td></td>\n",
       "      <td>[]</td>\n",
       "      <td></td>\n",
       "      <td>Hilda Boswell's Treasury of Children's Stories</td>\n",
       "      <td>[0001203010, 083174474X, 0001934503, 0001203037]</td>\n",
       "      <td></td>\n",
       "      <td>Visit Amazon's Hilda Boswell Page</td>\n",
       "      <td>[]</td>\n",
       "      <td>2,214,417 in Books (</td>\n",
       "      <td>[0001203010, 0001203029]</td>\n",
       "      <td>Books</td>\n",
       "      <td></td>\n",
       "      <td></td>\n",
       "      <td>$62.47</td>\n",
       "      <td>0001203045</td>\n",
       "      <td>[]</td>\n",
       "      <td>[]</td>\n",
       "      <td>NaN</td>\n",
       "    </tr>\n",
       "    <tr>\n",
       "      <th>4</th>\n",
       "      <td>[Books, Children's Books, Education &amp; Reference]</td>\n",
       "      <td></td>\n",
       "      <td>[Sailing explores the world of small boats, in...</td>\n",
       "      <td></td>\n",
       "      <td>Sailing</td>\n",
       "      <td>[]</td>\n",
       "      <td></td>\n",
       "      <td>Visit Amazon's Robin Knox-Johnston Page</td>\n",
       "      <td>[]</td>\n",
       "      <td>15,464,546 in Books (</td>\n",
       "      <td>[]</td>\n",
       "      <td>Books</td>\n",
       "      <td></td>\n",
       "      <td></td>\n",
       "      <td>$6.47</td>\n",
       "      <td>0001001787</td>\n",
       "      <td>[]</td>\n",
       "      <td>[]</td>\n",
       "      <td>NaN</td>\n",
       "    </tr>\n",
       "  </tbody>\n",
       "</table>\n",
       "</div>"
      ],
      "text/plain": [
       "                                            category tech1  \\\n",
       "0  [Books, Children's Books, Activities, Crafts &...         \n",
       "1    [Books, Children's Books, Literature & Fiction]         \n",
       "2                          [Books, Children's Books]         \n",
       "3                          [Books, Children's Books]         \n",
       "4   [Books, Children's Books, Education & Reference]         \n",
       "\n",
       "                                         description fit  \\\n",
       "0                                                 []       \n",
       "1                             [Collection of Poetry]       \n",
       "2                                                 []       \n",
       "3                                                 []       \n",
       "4  [Sailing explores the world of small boats, in...       \n",
       "\n",
       "                                            title  \\\n",
       "0                              Chess for Children   \n",
       "1                   The golden treasury of poetry   \n",
       "2                        Dinosaurs: a pop-up book   \n",
       "3  Hilda Boswell's Treasury of Children's Stories   \n",
       "4                                         Sailing   \n",
       "\n",
       "                                            also_buy tech2  \\\n",
       "0                                                 []         \n",
       "1  [0140556125, 0307165221, 0689823827, 000255834...         \n",
       "2                                                 []         \n",
       "3   [0001203010, 083174474X, 0001934503, 0001203037]         \n",
       "4                                                 []         \n",
       "\n",
       "                                     brand feature                   rank  \\\n",
       "0                             Raymond Bott      []   2,703,396 in Books (   \n",
       "1                    Louis (ed) UNTERMEYER      []     321,557 in Books (   \n",
       "2                         Dorothea BARLOWE      []   2,762,792 in Books (   \n",
       "3        Visit Amazon's Hilda Boswell Page      []   2,214,417 in Books (   \n",
       "4  Visit Amazon's Robin Knox-Johnston Page      []  15,464,546 in Books (   \n",
       "\n",
       "                                           also_view main_cat similar_item  \\\n",
       "0                                                 []    Books                \n",
       "1  [B001HDIKYW, B000LTQDP6, 0307168514, 039485010...    Books                \n",
       "2                           [0763622281, 0763662356]    Books                \n",
       "3                           [0001203010, 0001203029]    Books                \n",
       "4                                                 []    Books                \n",
       "\n",
       "  date   price        asin imageURL imageURLHighRes details  \n",
       "0        $5.39  0001061100       []              []     NaN  \n",
       "1       $23.98  0001061240       []              []     NaN  \n",
       "2        $5.54  0001062395       []              []     NaN  \n",
       "3       $62.47  0001203045       []              []     NaN  \n",
       "4        $6.47  0001001787       []              []     NaN  "
      ]
     },
     "execution_count": 8,
     "metadata": {},
     "output_type": "execute_result"
    }
   ],
   "source": [
    "df_meta = pd.DataFrame(cbooks)\n",
    "df_meta.head()"
   ]
  },
  {
   "cell_type": "code",
   "execution_count": 9,
   "metadata": {
    "scrolled": true
   },
   "outputs": [],
   "source": [
    "asin_list = df_meta['asin'].unique()"
   ]
  },
  {
   "cell_type": "code",
   "execution_count": 10,
   "metadata": {
    "scrolled": false
   },
   "outputs": [],
   "source": [
    "asin_set = set(df_meta['asin'].unique().flatten())"
   ]
  },
  {
   "cell_type": "code",
   "execution_count": 11,
   "metadata": {},
   "outputs": [],
   "source": [
    "children_review = []\n",
    "for line in gzip.open('reviews_Books_5.json.gz', 'rt'):\n",
    "    row = json.loads(line)\n",
    "    if row['asin'] in asin_set:\n",
    "        children_review.append(row)"
   ]
  },
  {
   "cell_type": "code",
   "execution_count": 12,
   "metadata": {},
   "outputs": [],
   "source": [
    "df_review = pd.DataFrame(children_review)"
   ]
  },
  {
   "cell_type": "code",
   "execution_count": 13,
   "metadata": {},
   "outputs": [
    {
     "name": "stdout",
     "output_type": "stream",
     "text": [
      "<class 'pandas.core.frame.DataFrame'>\n",
      "RangeIndex: 396210 entries, 0 to 396209\n",
      "Data columns (total 9 columns):\n",
      " #   Column          Non-Null Count   Dtype  \n",
      "---  ------          --------------   -----  \n",
      " 0   reviewerID      396210 non-null  object \n",
      " 1   asin            396210 non-null  object \n",
      " 2   reviewerName    395483 non-null  object \n",
      " 3   helpful         396210 non-null  object \n",
      " 4   reviewText      396210 non-null  object \n",
      " 5   overall         396210 non-null  float64\n",
      " 6   summary         396210 non-null  object \n",
      " 7   unixReviewTime  396210 non-null  int64  \n",
      " 8   reviewTime      396210 non-null  object \n",
      "dtypes: float64(1), int64(1), object(7)\n",
      "memory usage: 27.2+ MB\n"
     ]
    }
   ],
   "source": [
    "df_review.info()"
   ]
  },
  {
   "cell_type": "code",
   "execution_count": 14,
   "metadata": {},
   "outputs": [],
   "source": [
    "df_meta_part = df_meta[['category', 'description', 'title', 'also_buy', 'brand', \n",
    "                             'also_view', 'asin']]"
   ]
  },
  {
   "cell_type": "code",
   "execution_count": 16,
   "metadata": {},
   "outputs": [],
   "source": [
    "df_merge = df_review.merge(df_meta_part, how='inner', on='asin')"
   ]
  },
  {
   "cell_type": "code",
   "execution_count": 17,
   "metadata": {},
   "outputs": [
    {
     "data": {
      "text/html": [
       "<div>\n",
       "<style scoped>\n",
       "    .dataframe tbody tr th:only-of-type {\n",
       "        vertical-align: middle;\n",
       "    }\n",
       "\n",
       "    .dataframe tbody tr th {\n",
       "        vertical-align: top;\n",
       "    }\n",
       "\n",
       "    .dataframe thead th {\n",
       "        text-align: right;\n",
       "    }\n",
       "</style>\n",
       "<table border=\"1\" class=\"dataframe\">\n",
       "  <thead>\n",
       "    <tr style=\"text-align: right;\">\n",
       "      <th></th>\n",
       "      <th>reviewerID</th>\n",
       "      <th>asin</th>\n",
       "      <th>reviewerName</th>\n",
       "      <th>helpful</th>\n",
       "      <th>reviewText</th>\n",
       "      <th>overall</th>\n",
       "      <th>summary</th>\n",
       "      <th>unixReviewTime</th>\n",
       "      <th>reviewTime</th>\n",
       "      <th>category</th>\n",
       "      <th>description</th>\n",
       "      <th>title</th>\n",
       "      <th>also_buy</th>\n",
       "      <th>brand</th>\n",
       "      <th>also_view</th>\n",
       "    </tr>\n",
       "  </thead>\n",
       "  <tbody>\n",
       "    <tr>\n",
       "      <th>0</th>\n",
       "      <td>A3RZNH3OPW1XMB</td>\n",
       "      <td>000171287X</td>\n",
       "      <td>CA_Kathy</td>\n",
       "      <td>[0, 0]</td>\n",
       "      <td>for getting your kid introduced to his/her ABC...</td>\n",
       "      <td>5.0</td>\n",
       "      <td>Great</td>\n",
       "      <td>1375401600</td>\n",
       "      <td>08 2, 2013</td>\n",
       "      <td>[Books, Children's Books, Literature &amp; Fiction]</td>\n",
       "      <td>[In the B Book, the youngest child will be ent...</td>\n",
       "      <td>The Berenstains' B Book (Bright &amp;amp; Early Bo...</td>\n",
       "      <td>[067988632X, 0679887059, 0679886303, B000RAEBL...</td>\n",
       "      <td>Visit Amazon's Stan Berenstain Page</td>\n",
       "      <td>[0394823249, B0015R555M, 0679890483, 067988705...</td>\n",
       "    </tr>\n",
       "    <tr>\n",
       "      <th>1</th>\n",
       "      <td>AZGXZ2UUK6X</td>\n",
       "      <td>000171287X</td>\n",
       "      <td>Catherine Hallberg \"(Kate)\"</td>\n",
       "      <td>[1, 3]</td>\n",
       "      <td>This Book is funny and is full of B words, lik...</td>\n",
       "      <td>3.0</td>\n",
       "      <td>A celebration of B</td>\n",
       "      <td>1061078400</td>\n",
       "      <td>08 17, 2003</td>\n",
       "      <td>[Books, Children's Books, Literature &amp; Fiction]</td>\n",
       "      <td>[In the B Book, the youngest child will be ent...</td>\n",
       "      <td>The Berenstains' B Book (Bright &amp;amp; Early Bo...</td>\n",
       "      <td>[067988632X, 0679887059, 0679886303, B000RAEBL...</td>\n",
       "      <td>Visit Amazon's Stan Berenstain Page</td>\n",
       "      <td>[0394823249, B0015R555M, 0679890483, 067988705...</td>\n",
       "    </tr>\n",
       "    <tr>\n",
       "      <th>2</th>\n",
       "      <td>A2K28JHMIY3XKZ</td>\n",
       "      <td>000171287X</td>\n",
       "      <td>Charles Andrews</td>\n",
       "      <td>[2, 2]</td>\n",
       "      <td>A favorite Berenstain book of my children I wa...</td>\n",
       "      <td>5.0</td>\n",
       "      <td>Big B Believer</td>\n",
       "      <td>1001894400</td>\n",
       "      <td>10 1, 2001</td>\n",
       "      <td>[Books, Children's Books, Literature &amp; Fiction]</td>\n",
       "      <td>[In the B Book, the youngest child will be ent...</td>\n",
       "      <td>The Berenstains' B Book (Bright &amp;amp; Early Bo...</td>\n",
       "      <td>[067988632X, 0679887059, 0679886303, B000RAEBL...</td>\n",
       "      <td>Visit Amazon's Stan Berenstain Page</td>\n",
       "      <td>[0394823249, B0015R555M, 0679890483, 067988705...</td>\n",
       "    </tr>\n",
       "    <tr>\n",
       "      <th>3</th>\n",
       "      <td>A1Z54EM24Y40LL</td>\n",
       "      <td>000171287X</td>\n",
       "      <td>csm</td>\n",
       "      <td>[0, 0]</td>\n",
       "      <td>This book is quite funny.  Especially when you...</td>\n",
       "      <td>5.0</td>\n",
       "      <td>Very funny book, sad ending though!</td>\n",
       "      <td>1108080000</td>\n",
       "      <td>02 11, 2005</td>\n",
       "      <td>[Books, Children's Books, Literature &amp; Fiction]</td>\n",
       "      <td>[In the B Book, the youngest child will be ent...</td>\n",
       "      <td>The Berenstains' B Book (Bright &amp;amp; Early Bo...</td>\n",
       "      <td>[067988632X, 0679887059, 0679886303, B000RAEBL...</td>\n",
       "      <td>Visit Amazon's Stan Berenstain Page</td>\n",
       "      <td>[0394823249, B0015R555M, 0679890483, 067988705...</td>\n",
       "    </tr>\n",
       "    <tr>\n",
       "      <th>4</th>\n",
       "      <td>A179R0UL62Q36Z</td>\n",
       "      <td>000171287X</td>\n",
       "      <td>Gena R Kyle</td>\n",
       "      <td>[0, 0]</td>\n",
       "      <td>Teaching the next generation to love books!  M...</td>\n",
       "      <td>5.0</td>\n",
       "      <td>Child's book</td>\n",
       "      <td>1345680000</td>\n",
       "      <td>08 23, 2012</td>\n",
       "      <td>[Books, Children's Books, Literature &amp; Fiction]</td>\n",
       "      <td>[In the B Book, the youngest child will be ent...</td>\n",
       "      <td>The Berenstains' B Book (Bright &amp;amp; Early Bo...</td>\n",
       "      <td>[067988632X, 0679887059, 0679886303, B000RAEBL...</td>\n",
       "      <td>Visit Amazon's Stan Berenstain Page</td>\n",
       "      <td>[0394823249, B0015R555M, 0679890483, 067988705...</td>\n",
       "    </tr>\n",
       "  </tbody>\n",
       "</table>\n",
       "</div>"
      ],
      "text/plain": [
       "       reviewerID        asin                 reviewerName helpful  \\\n",
       "0  A3RZNH3OPW1XMB  000171287X                     CA_Kathy  [0, 0]   \n",
       "1     AZGXZ2UUK6X  000171287X  Catherine Hallberg \"(Kate)\"  [1, 3]   \n",
       "2  A2K28JHMIY3XKZ  000171287X              Charles Andrews  [2, 2]   \n",
       "3  A1Z54EM24Y40LL  000171287X                          csm  [0, 0]   \n",
       "4  A179R0UL62Q36Z  000171287X                  Gena R Kyle  [0, 0]   \n",
       "\n",
       "                                          reviewText  overall  \\\n",
       "0  for getting your kid introduced to his/her ABC...      5.0   \n",
       "1  This Book is funny and is full of B words, lik...      3.0   \n",
       "2  A favorite Berenstain book of my children I wa...      5.0   \n",
       "3  This book is quite funny.  Especially when you...      5.0   \n",
       "4  Teaching the next generation to love books!  M...      5.0   \n",
       "\n",
       "                               summary  unixReviewTime   reviewTime  \\\n",
       "0                                Great      1375401600   08 2, 2013   \n",
       "1                   A celebration of B      1061078400  08 17, 2003   \n",
       "2                       Big B Believer      1001894400   10 1, 2001   \n",
       "3  Very funny book, sad ending though!      1108080000  02 11, 2005   \n",
       "4                         Child's book      1345680000  08 23, 2012   \n",
       "\n",
       "                                          category  \\\n",
       "0  [Books, Children's Books, Literature & Fiction]   \n",
       "1  [Books, Children's Books, Literature & Fiction]   \n",
       "2  [Books, Children's Books, Literature & Fiction]   \n",
       "3  [Books, Children's Books, Literature & Fiction]   \n",
       "4  [Books, Children's Books, Literature & Fiction]   \n",
       "\n",
       "                                         description  \\\n",
       "0  [In the B Book, the youngest child will be ent...   \n",
       "1  [In the B Book, the youngest child will be ent...   \n",
       "2  [In the B Book, the youngest child will be ent...   \n",
       "3  [In the B Book, the youngest child will be ent...   \n",
       "4  [In the B Book, the youngest child will be ent...   \n",
       "\n",
       "                                               title  \\\n",
       "0  The Berenstains' B Book (Bright &amp; Early Bo...   \n",
       "1  The Berenstains' B Book (Bright &amp; Early Bo...   \n",
       "2  The Berenstains' B Book (Bright &amp; Early Bo...   \n",
       "3  The Berenstains' B Book (Bright &amp; Early Bo...   \n",
       "4  The Berenstains' B Book (Bright &amp; Early Bo...   \n",
       "\n",
       "                                            also_buy  \\\n",
       "0  [067988632X, 0679887059, 0679886303, B000RAEBL...   \n",
       "1  [067988632X, 0679887059, 0679886303, B000RAEBL...   \n",
       "2  [067988632X, 0679887059, 0679886303, B000RAEBL...   \n",
       "3  [067988632X, 0679887059, 0679886303, B000RAEBL...   \n",
       "4  [067988632X, 0679887059, 0679886303, B000RAEBL...   \n",
       "\n",
       "                                 brand  \\\n",
       "0  Visit Amazon's Stan Berenstain Page   \n",
       "1  Visit Amazon's Stan Berenstain Page   \n",
       "2  Visit Amazon's Stan Berenstain Page   \n",
       "3  Visit Amazon's Stan Berenstain Page   \n",
       "4  Visit Amazon's Stan Berenstain Page   \n",
       "\n",
       "                                           also_view  \n",
       "0  [0394823249, B0015R555M, 0679890483, 067988705...  \n",
       "1  [0394823249, B0015R555M, 0679890483, 067988705...  \n",
       "2  [0394823249, B0015R555M, 0679890483, 067988705...  \n",
       "3  [0394823249, B0015R555M, 0679890483, 067988705...  \n",
       "4  [0394823249, B0015R555M, 0679890483, 067988705...  "
      ]
     },
     "execution_count": 17,
     "metadata": {},
     "output_type": "execute_result"
    }
   ],
   "source": [
    "df_merge.head()"
   ]
  },
  {
   "cell_type": "markdown",
   "metadata": {},
   "source": [
    "## Start Recommending Books"
   ]
  },
  {
   "cell_type": "code",
   "execution_count": 18,
   "metadata": {},
   "outputs": [],
   "source": [
    "# drop one user reviewing the same book multiple times\n",
    "df_merge_new = df_merge.drop_duplicates(['title', 'reviewerID'])"
   ]
  },
  {
   "cell_type": "code",
   "execution_count": 17,
   "metadata": {},
   "outputs": [],
   "source": [
    "# os.makedirs('data', exist_ok=True)  \n",
    "# df_merge_new.to_csv('data/df_merge.csv', index=False) "
   ]
  },
  {
   "cell_type": "code",
   "execution_count": 5,
   "metadata": {},
   "outputs": [],
   "source": [
    "df_merge_new_in = pd.read_csv('data/df_merge.csv')"
   ]
  },
  {
   "cell_type": "code",
   "execution_count": 130,
   "metadata": {},
   "outputs": [
    {
     "data": {
      "text/html": [
       "<div>\n",
       "<style scoped>\n",
       "    .dataframe tbody tr th:only-of-type {\n",
       "        vertical-align: middle;\n",
       "    }\n",
       "\n",
       "    .dataframe tbody tr th {\n",
       "        vertical-align: top;\n",
       "    }\n",
       "\n",
       "    .dataframe thead th {\n",
       "        text-align: right;\n",
       "    }\n",
       "</style>\n",
       "<table border=\"1\" class=\"dataframe\">\n",
       "  <thead>\n",
       "    <tr style=\"text-align: right;\">\n",
       "      <th></th>\n",
       "      <th>reviewerID</th>\n",
       "      <th>asin</th>\n",
       "      <th>reviewerName</th>\n",
       "      <th>helpful</th>\n",
       "      <th>reviewText</th>\n",
       "      <th>overall</th>\n",
       "      <th>summary</th>\n",
       "      <th>unixReviewTime</th>\n",
       "      <th>reviewTime</th>\n",
       "      <th>category</th>\n",
       "      <th>description</th>\n",
       "      <th>title</th>\n",
       "      <th>also_buy</th>\n",
       "      <th>brand</th>\n",
       "      <th>also_view</th>\n",
       "    </tr>\n",
       "  </thead>\n",
       "  <tbody>\n",
       "    <tr>\n",
       "      <th>0</th>\n",
       "      <td>A3RZNH3OPW1XMB</td>\n",
       "      <td>000171287X</td>\n",
       "      <td>CA_Kathy</td>\n",
       "      <td>[0, 0]</td>\n",
       "      <td>for getting your kid introduced to his/her ABC...</td>\n",
       "      <td>5.0</td>\n",
       "      <td>Great</td>\n",
       "      <td>1375401600</td>\n",
       "      <td>08 2, 2013</td>\n",
       "      <td>['Books', \"Children's Books\", 'Literature &amp; Fi...</td>\n",
       "      <td>[\"In the B Book, the youngest child will be en...</td>\n",
       "      <td>The Berenstains' B Book (Bright &amp;amp; Early Bo...</td>\n",
       "      <td>['067988632X', '0679887059', '0679886303', 'B0...</td>\n",
       "      <td>Visit Amazon's Stan Berenstain Page</td>\n",
       "      <td>['0394823249', 'B0015R555M', '0679890483', '06...</td>\n",
       "    </tr>\n",
       "    <tr>\n",
       "      <th>1</th>\n",
       "      <td>AZGXZ2UUK6X</td>\n",
       "      <td>000171287X</td>\n",
       "      <td>Catherine Hallberg \"(Kate)\"</td>\n",
       "      <td>[1, 3]</td>\n",
       "      <td>This Book is funny and is full of B words, lik...</td>\n",
       "      <td>3.0</td>\n",
       "      <td>A celebration of B</td>\n",
       "      <td>1061078400</td>\n",
       "      <td>08 17, 2003</td>\n",
       "      <td>['Books', \"Children's Books\", 'Literature &amp; Fi...</td>\n",
       "      <td>[\"In the B Book, the youngest child will be en...</td>\n",
       "      <td>The Berenstains' B Book (Bright &amp;amp; Early Bo...</td>\n",
       "      <td>['067988632X', '0679887059', '0679886303', 'B0...</td>\n",
       "      <td>Visit Amazon's Stan Berenstain Page</td>\n",
       "      <td>['0394823249', 'B0015R555M', '0679890483', '06...</td>\n",
       "    </tr>\n",
       "    <tr>\n",
       "      <th>2</th>\n",
       "      <td>A2K28JHMIY3XKZ</td>\n",
       "      <td>000171287X</td>\n",
       "      <td>Charles Andrews</td>\n",
       "      <td>[2, 2]</td>\n",
       "      <td>A favorite Berenstain book of my children I wa...</td>\n",
       "      <td>5.0</td>\n",
       "      <td>Big B Believer</td>\n",
       "      <td>1001894400</td>\n",
       "      <td>10 1, 2001</td>\n",
       "      <td>['Books', \"Children's Books\", 'Literature &amp; Fi...</td>\n",
       "      <td>[\"In the B Book, the youngest child will be en...</td>\n",
       "      <td>The Berenstains' B Book (Bright &amp;amp; Early Bo...</td>\n",
       "      <td>['067988632X', '0679887059', '0679886303', 'B0...</td>\n",
       "      <td>Visit Amazon's Stan Berenstain Page</td>\n",
       "      <td>['0394823249', 'B0015R555M', '0679890483', '06...</td>\n",
       "    </tr>\n",
       "    <tr>\n",
       "      <th>3</th>\n",
       "      <td>A1Z54EM24Y40LL</td>\n",
       "      <td>000171287X</td>\n",
       "      <td>csm</td>\n",
       "      <td>[0, 0]</td>\n",
       "      <td>This book is quite funny.  Especially when you...</td>\n",
       "      <td>5.0</td>\n",
       "      <td>Very funny book, sad ending though!</td>\n",
       "      <td>1108080000</td>\n",
       "      <td>02 11, 2005</td>\n",
       "      <td>['Books', \"Children's Books\", 'Literature &amp; Fi...</td>\n",
       "      <td>[\"In the B Book, the youngest child will be en...</td>\n",
       "      <td>The Berenstains' B Book (Bright &amp;amp; Early Bo...</td>\n",
       "      <td>['067988632X', '0679887059', '0679886303', 'B0...</td>\n",
       "      <td>Visit Amazon's Stan Berenstain Page</td>\n",
       "      <td>['0394823249', 'B0015R555M', '0679890483', '06...</td>\n",
       "    </tr>\n",
       "    <tr>\n",
       "      <th>4</th>\n",
       "      <td>A179R0UL62Q36Z</td>\n",
       "      <td>000171287X</td>\n",
       "      <td>Gena R Kyle</td>\n",
       "      <td>[0, 0]</td>\n",
       "      <td>Teaching the next generation to love books!  M...</td>\n",
       "      <td>5.0</td>\n",
       "      <td>Child's book</td>\n",
       "      <td>1345680000</td>\n",
       "      <td>08 23, 2012</td>\n",
       "      <td>['Books', \"Children's Books\", 'Literature &amp; Fi...</td>\n",
       "      <td>[\"In the B Book, the youngest child will be en...</td>\n",
       "      <td>The Berenstains' B Book (Bright &amp;amp; Early Bo...</td>\n",
       "      <td>['067988632X', '0679887059', '0679886303', 'B0...</td>\n",
       "      <td>Visit Amazon's Stan Berenstain Page</td>\n",
       "      <td>['0394823249', 'B0015R555M', '0679890483', '06...</td>\n",
       "    </tr>\n",
       "  </tbody>\n",
       "</table>\n",
       "</div>"
      ],
      "text/plain": [
       "       reviewerID        asin                 reviewerName helpful  \\\n",
       "0  A3RZNH3OPW1XMB  000171287X                     CA_Kathy  [0, 0]   \n",
       "1     AZGXZ2UUK6X  000171287X  Catherine Hallberg \"(Kate)\"  [1, 3]   \n",
       "2  A2K28JHMIY3XKZ  000171287X              Charles Andrews  [2, 2]   \n",
       "3  A1Z54EM24Y40LL  000171287X                          csm  [0, 0]   \n",
       "4  A179R0UL62Q36Z  000171287X                  Gena R Kyle  [0, 0]   \n",
       "\n",
       "                                          reviewText  overall  \\\n",
       "0  for getting your kid introduced to his/her ABC...      5.0   \n",
       "1  This Book is funny and is full of B words, lik...      3.0   \n",
       "2  A favorite Berenstain book of my children I wa...      5.0   \n",
       "3  This book is quite funny.  Especially when you...      5.0   \n",
       "4  Teaching the next generation to love books!  M...      5.0   \n",
       "\n",
       "                               summary  unixReviewTime   reviewTime  \\\n",
       "0                                Great      1375401600   08 2, 2013   \n",
       "1                   A celebration of B      1061078400  08 17, 2003   \n",
       "2                       Big B Believer      1001894400   10 1, 2001   \n",
       "3  Very funny book, sad ending though!      1108080000  02 11, 2005   \n",
       "4                         Child's book      1345680000  08 23, 2012   \n",
       "\n",
       "                                            category  \\\n",
       "0  ['Books', \"Children's Books\", 'Literature & Fi...   \n",
       "1  ['Books', \"Children's Books\", 'Literature & Fi...   \n",
       "2  ['Books', \"Children's Books\", 'Literature & Fi...   \n",
       "3  ['Books', \"Children's Books\", 'Literature & Fi...   \n",
       "4  ['Books', \"Children's Books\", 'Literature & Fi...   \n",
       "\n",
       "                                         description  \\\n",
       "0  [\"In the B Book, the youngest child will be en...   \n",
       "1  [\"In the B Book, the youngest child will be en...   \n",
       "2  [\"In the B Book, the youngest child will be en...   \n",
       "3  [\"In the B Book, the youngest child will be en...   \n",
       "4  [\"In the B Book, the youngest child will be en...   \n",
       "\n",
       "                                               title  \\\n",
       "0  The Berenstains' B Book (Bright &amp; Early Bo...   \n",
       "1  The Berenstains' B Book (Bright &amp; Early Bo...   \n",
       "2  The Berenstains' B Book (Bright &amp; Early Bo...   \n",
       "3  The Berenstains' B Book (Bright &amp; Early Bo...   \n",
       "4  The Berenstains' B Book (Bright &amp; Early Bo...   \n",
       "\n",
       "                                            also_buy  \\\n",
       "0  ['067988632X', '0679887059', '0679886303', 'B0...   \n",
       "1  ['067988632X', '0679887059', '0679886303', 'B0...   \n",
       "2  ['067988632X', '0679887059', '0679886303', 'B0...   \n",
       "3  ['067988632X', '0679887059', '0679886303', 'B0...   \n",
       "4  ['067988632X', '0679887059', '0679886303', 'B0...   \n",
       "\n",
       "                                 brand  \\\n",
       "0  Visit Amazon's Stan Berenstain Page   \n",
       "1  Visit Amazon's Stan Berenstain Page   \n",
       "2  Visit Amazon's Stan Berenstain Page   \n",
       "3  Visit Amazon's Stan Berenstain Page   \n",
       "4  Visit Amazon's Stan Berenstain Page   \n",
       "\n",
       "                                           also_view  \n",
       "0  ['0394823249', 'B0015R555M', '0679890483', '06...  \n",
       "1  ['0394823249', 'B0015R555M', '0679890483', '06...  \n",
       "2  ['0394823249', 'B0015R555M', '0679890483', '06...  \n",
       "3  ['0394823249', 'B0015R555M', '0679890483', '06...  \n",
       "4  ['0394823249', 'B0015R555M', '0679890483', '06...  "
      ]
     },
     "execution_count": 130,
     "metadata": {},
     "output_type": "execute_result"
    }
   ],
   "source": [
    "df_merge_new_in.head()"
   ]
  },
  {
   "cell_type": "markdown",
   "metadata": {},
   "source": [
    "### 1. By Ratings\n",
    "Here, we create a pivot table which has indices of book titles, columns of reviewer ID and the values of the overall ratings. We fill the null values with zeroes. This is to use collaborative-filtering based on user ratings for each book. "
   ]
  },
  {
   "cell_type": "code",
   "execution_count": 4,
   "metadata": {},
   "outputs": [],
   "source": [
    "chunk_size = 5000\n",
    "chunks = [x for x in range(0, df_merge_new_in.shape[0], chunk_size)]\n",
    "\n",
    "# for i in range(0, len(chunks) - 1):\n",
    "#     print(chunks[i], chunks[i + 1] - 1)"
   ]
  },
  {
   "cell_type": "code",
   "execution_count": 5,
   "metadata": {},
   "outputs": [],
   "source": [
    "df_merge_pivot = pd.concat([df_merge_new_in.iloc[ chunks[i]:chunks[i + 1] - 1 ].pivot_table(index='title', columns='reviewerID', values='overall') for i in range(0, len(chunks) - 1)])\n",
    "#df_merge_pivot = df_merge_new.pivot_table(index='title', columns='reviewerID', values='overall')\n"
   ]
  },
  {
   "cell_type": "code",
   "execution_count": 6,
   "metadata": {},
   "outputs": [],
   "source": [
    "df_merge_pivot.fillna(0, inplace=True)\n",
    "#df_merge_pivot"
   ]
  },
  {
   "cell_type": "code",
   "execution_count": null,
   "metadata": {},
   "outputs": [],
   "source": [
    "#df_merge_pivot.to_csv('data/pivot_table.csv')"
   ]
  },
  {
   "cell_type": "code",
   "execution_count": 7,
   "metadata": {},
   "outputs": [
    {
     "data": {
      "text/plain": [
       "21908"
      ]
     },
     "execution_count": 7,
     "metadata": {},
     "output_type": "execute_result"
    }
   ],
   "source": [
    "len(df_merge_pivot)"
   ]
  },
  {
   "cell_type": "code",
   "execution_count": 7,
   "metadata": {},
   "outputs": [],
   "source": [
    "df_merge_matrix = csr_matrix(df_merge_pivot)"
   ]
  },
  {
   "cell_type": "code",
   "execution_count": 8,
   "metadata": {},
   "outputs": [
    {
     "data": {
      "text/plain": [
       "matrix([[0., 0., 0., ..., 0., 0., 0.],\n",
       "        [0., 0., 0., ..., 0., 0., 0.],\n",
       "        [0., 0., 0., ..., 0., 0., 0.],\n",
       "        ...,\n",
       "        [0., 0., 0., ..., 0., 0., 0.],\n",
       "        [0., 0., 0., ..., 0., 0., 0.],\n",
       "        [0., 0., 0., ..., 0., 0., 0.]])"
      ]
     },
     "execution_count": 8,
     "metadata": {},
     "output_type": "execute_result"
    }
   ],
   "source": [
    "df_merge_matrix.todense()"
   ]
  },
  {
   "cell_type": "code",
   "execution_count": null,
   "metadata": {},
   "outputs": [],
   "source": [
    "scipy.sparse.save_npz('data/sparse_matrix.npz', df_merge_matrix)"
   ]
  },
  {
   "cell_type": "code",
   "execution_count": 9,
   "metadata": {},
   "outputs": [],
   "source": [
    "sparse_matrix = scipy.sparse.load_npz('data/sparse_matrix.npz')"
   ]
  },
  {
   "cell_type": "code",
   "execution_count": 10,
   "metadata": {},
   "outputs": [
    {
     "data": {
      "text/plain": [
       "NearestNeighbors(algorithm='brute', metric='cosine')"
      ]
     },
     "execution_count": 10,
     "metadata": {},
     "output_type": "execute_result"
    }
   ],
   "source": [
    "model_knn = NearestNeighbors(metric='cosine', algorithm='brute')\n",
    "#model_knn = NearestNeighbors(metric='cosine', algorithm='ball_tree')\n",
    "model_knn.fit(sparse_matrix)"
   ]
  },
  {
   "cell_type": "code",
   "execution_count": 40,
   "metadata": {},
   "outputs": [],
   "source": [
    "df_merge_review = pd.read_csv('data/df_merge_review_title.csv')"
   ]
  },
  {
   "cell_type": "code",
   "execution_count": 41,
   "metadata": {},
   "outputs": [
    {
     "data": {
      "text/plain": [
       "Int64Index([ 2837,  3492,  5396,  5498,  5565,  5630,  5650,  5652,  5821,\n",
       "             5835,  7258,  7703, 10230, 13691, 13865, 16094, 16095, 16363,\n",
       "            16870, 18237, 18259, 19101, 19380],\n",
       "           dtype='int64')"
      ]
     },
     "execution_count": 41,
     "metadata": {},
     "output_type": "execute_result"
    }
   ],
   "source": [
    "df_merge_review[df_merge_review['title'].str.contains(\"Harry Potter\") == True].index"
   ]
  },
  {
   "cell_type": "code",
   "execution_count": 65,
   "metadata": {},
   "outputs": [
    {
     "data": {
      "text/plain": [
       "'The Hidden Myths in Harry Potter: Spellbinding Map and Book of Secrets'"
      ]
     },
     "execution_count": 65,
     "metadata": {},
     "output_type": "execute_result"
    }
   ],
   "source": [
    "df_merge_pivot[df_merge_pivot.index.str.contains(\"Harry Potter\")].index[0]"
   ]
  },
  {
   "cell_type": "code",
   "execution_count": 55,
   "metadata": {},
   "outputs": [
    {
     "data": {
      "text/plain": [
       "Index(['A07432233RGSKVLKZTDUU', 'A096397832YCY1JYVK054', 'A1003CRD5N6PZJ',\n",
       "       'A100YDQ9DIP06P', 'A101Z08FI05HQ', 'A104SG9QZ92UAH', 'A104ZX2R5HXCEE',\n",
       "       'A10ACNM7Y2KO2O', 'A10BZSGALQPS0V', 'A10C4Q0FLZRZK6',\n",
       "       ...\n",
       "       'AYPFNMBYBLBT9', 'AYQRKUZZY963I', 'AYWTGSJENF6WY', 'AYXU3HAWNK3P6',\n",
       "       'AZ3XZ4B4WKO7G', 'AZ5FW7APGJIE5', 'AZFX0H02QOUWV', 'AZMIP2BFHWEIC',\n",
       "       'AZUVVOA72SEVZ', 'AZZ4JH7T3QV4W'],\n",
       "      dtype='object', length=164123)"
      ]
     },
     "execution_count": 55,
     "metadata": {},
     "output_type": "execute_result"
    }
   ],
   "source": [
    "df_merge_pivot.loc[\"Harry Potter And The Goblet Of Fire\", :]"
   ]
  },
  {
   "cell_type": "code",
   "execution_count": 17,
   "metadata": {
    "scrolled": true
   },
   "outputs": [],
   "source": [
    "# select random book from data\n",
    "query_index = np.random.choice(df_merge_pivot.shape[0])"
   ]
  },
  {
   "cell_type": "code",
   "execution_count": 18,
   "metadata": {},
   "outputs": [
    {
     "name": "stdout",
     "output_type": "stream",
     "text": [
      "926\n"
     ]
    }
   ],
   "source": [
    "print(query_index)"
   ]
  },
  {
   "cell_type": "code",
   "execution_count": 51,
   "metadata": {},
   "outputs": [],
   "source": [
    "#distances, indices = model_knn.kneighbors(df_merge_pivot.iloc[19593,:].values.reshape(1, -1), n_neighbors = 6)\n",
    "distances, indices = model_knn.kneighbors(df_merge_pivot.loc[\"Harry Potter And The Goblet Of Fire\", :].values.reshape(1, -1))"
   ]
  },
  {
   "cell_type": "code",
   "execution_count": 52,
   "metadata": {},
   "outputs": [
    {
     "data": {
      "text/plain": [
       "(array([[7.77156117e-16, 8.48597567e-01, 8.89235500e-01, 9.05603736e-01,\n",
       "         9.06361951e-01]]),\n",
       " array([[ 5528,  5529,  8777,  3248, 21079]]))"
      ]
     },
     "execution_count": 52,
     "metadata": {},
     "output_type": "execute_result"
    }
   ],
   "source": [
    "distances, indices"
   ]
  },
  {
   "cell_type": "code",
   "execution_count": 53,
   "metadata": {
    "scrolled": true
   },
   "outputs": [
    {
     "name": "stdout",
     "output_type": "stream",
     "text": [
      "Recommendations for Little Blog on the Prairie:\n",
      "1: Harry Potter and the Chamber of Secrets, with distance of 0.8485975672659916:\n",
      "2: Star Trek: First Contact (Star Trek: All), with distance of 0.8892354998356735:\n",
      "3: Arthur Turns Green (Arthur Adventures), with distance of 0.9056037360486355:\n",
      "4: Tacos Anyone? An Autism Story (2005 Barbara Jordan Media Award) (English and Spanish Text) (Spanish and English Edition), with distance of 0.9063619512505303:\n"
     ]
    }
   ],
   "source": [
    "for i in range(0, len(distances.flatten())):\n",
    "    if i == 0:\n",
    "        print(f'Recommendations for {df_merge_pivot.index[19593]}:')\n",
    "    else:\n",
    "        print('{0}: {1}, with distance of {2}:'.format(i, df_merge_pivot.index[indices.flatten()[i]], distances.flatten()[i]))\n",
    "    "
   ]
  },
  {
   "cell_type": "code",
   "execution_count": 11,
   "metadata": {},
   "outputs": [],
   "source": [
    "def book_recommender(string):\n",
    "    \n",
    "    title = df_merge_pivot[df_merge_pivot.index.str.contains(string)].index[0]\n",
    "    \n",
    "    distances, indices = model_knn.kneighbors(df_merge_pivot.loc[title, :].values.reshape(1, -1))\n",
    "    \n",
    "    for i in range(0, len(distances.flatten())):\n",
    "        if i == 0:\n",
    "            print(f'Recommendations for {title}:')\n",
    "        else:\n",
    "            print('{0}: {1}, with distance of {2}:'.format(i, df_merge_pivot.index[indices.flatten()[i]], distances.flatten()[i]))"
   ]
  },
  {
   "cell_type": "code",
   "execution_count": 12,
   "metadata": {},
   "outputs": [
    {
     "name": "stdout",
     "output_type": "stream",
     "text": [
      "Recommendations for Before Green Gables:\n",
      "1: The Truth Behind A Series of Unfortunate Events: Eyeballs, Leeches, Hypnotism and Orphans --- Exploring Lemony Snicket's World, with distance of 0.8383552281759026:\n",
      "2: Being, with distance of 0.8813115147887584:\n",
      "3: Brendan Buckley's Universe and Everything in It, with distance of 0.8818242104262497:\n",
      "4: That Girl Lucy Moon, with distance of 0.8845299461620748:\n"
     ]
    }
   ],
   "source": [
    "book_recommender('Green Gables')"
   ]
  },
  {
   "cell_type": "markdown",
   "metadata": {},
   "source": [
    "## Vectorizer with ReviewText and Description Columns"
   ]
  },
  {
   "cell_type": "markdown",
   "metadata": {},
   "source": [
    "### 1. Feature Union with Description and Review Text - for each reviews"
   ]
  },
  {
   "cell_type": "code",
   "execution_count": 57,
   "metadata": {},
   "outputs": [
    {
     "data": {
      "text/html": [
       "<div>\n",
       "<style scoped>\n",
       "    .dataframe tbody tr th:only-of-type {\n",
       "        vertical-align: middle;\n",
       "    }\n",
       "\n",
       "    .dataframe tbody tr th {\n",
       "        vertical-align: top;\n",
       "    }\n",
       "\n",
       "    .dataframe thead th {\n",
       "        text-align: right;\n",
       "    }\n",
       "</style>\n",
       "<table border=\"1\" class=\"dataframe\">\n",
       "  <thead>\n",
       "    <tr style=\"text-align: right;\">\n",
       "      <th></th>\n",
       "      <th>mean</th>\n",
       "      <th>count</th>\n",
       "    </tr>\n",
       "    <tr>\n",
       "      <th>asin</th>\n",
       "      <th></th>\n",
       "      <th></th>\n",
       "    </tr>\n",
       "  </thead>\n",
       "  <tbody>\n",
       "    <tr>\n",
       "      <th>000171287X</th>\n",
       "      <td>4.583333</td>\n",
       "      <td>12</td>\n",
       "    </tr>\n",
       "    <tr>\n",
       "      <th>0001714538</th>\n",
       "      <td>3.714286</td>\n",
       "      <td>7</td>\n",
       "    </tr>\n",
       "    <tr>\n",
       "      <th>0006479286</th>\n",
       "      <td>3.888889</td>\n",
       "      <td>9</td>\n",
       "    </tr>\n",
       "    <tr>\n",
       "      <th>0006485944</th>\n",
       "      <td>4.285714</td>\n",
       "      <td>77</td>\n",
       "    </tr>\n",
       "    <tr>\n",
       "      <th>0006547192</th>\n",
       "      <td>4.200000</td>\n",
       "      <td>5</td>\n",
       "    </tr>\n",
       "    <tr>\n",
       "      <th>...</th>\n",
       "      <td>...</td>\n",
       "      <td>...</td>\n",
       "    </tr>\n",
       "    <tr>\n",
       "      <th>B00KLQH5XI</th>\n",
       "      <td>5.000000</td>\n",
       "      <td>5</td>\n",
       "    </tr>\n",
       "    <tr>\n",
       "      <th>B00KVWSNIS</th>\n",
       "      <td>4.857143</td>\n",
       "      <td>7</td>\n",
       "    </tr>\n",
       "    <tr>\n",
       "      <th>B00KWF93O2</th>\n",
       "      <td>4.800000</td>\n",
       "      <td>5</td>\n",
       "    </tr>\n",
       "    <tr>\n",
       "      <th>B00KWWDT1S</th>\n",
       "      <td>4.882353</td>\n",
       "      <td>17</td>\n",
       "    </tr>\n",
       "    <tr>\n",
       "      <th>B00KXUWRTE</th>\n",
       "      <td>3.666667</td>\n",
       "      <td>6</td>\n",
       "    </tr>\n",
       "  </tbody>\n",
       "</table>\n",
       "<p>21951 rows × 2 columns</p>\n",
       "</div>"
      ],
      "text/plain": [
       "                mean  count\n",
       "asin                       \n",
       "000171287X  4.583333     12\n",
       "0001714538  3.714286      7\n",
       "0006479286  3.888889      9\n",
       "0006485944  4.285714     77\n",
       "0006547192  4.200000      5\n",
       "...              ...    ...\n",
       "B00KLQH5XI  5.000000      5\n",
       "B00KVWSNIS  4.857143      7\n",
       "B00KWF93O2  4.800000      5\n",
       "B00KWWDT1S  4.882353     17\n",
       "B00KXUWRTE  3.666667      6\n",
       "\n",
       "[21951 rows x 2 columns]"
      ]
     },
     "execution_count": 57,
     "metadata": {},
     "output_type": "execute_result"
    }
   ],
   "source": [
    "df_merge_new_in.groupby('asin')['overall'].agg({\"mean\", \"count\"})"
   ]
  },
  {
   "cell_type": "code",
   "execution_count": 32,
   "metadata": {},
   "outputs": [],
   "source": [
    "df_text = df_merge_new_in[['reviewerID', 'asin', 'reviewText', 'title', 'description']].dropna()"
   ]
  },
  {
   "cell_type": "code",
   "execution_count": 33,
   "metadata": {},
   "outputs": [
    {
     "data": {
      "text/plain": [
       "asin\n",
       "000171287X    for getting your kid introduced to his/her ABC...\n",
       "0001714538    This book is so cute and so much fun! We borro...\n",
       "0006479286    As I read this book in the wake of rereading T...\n",
       "0006485944    I got 80% of the way thru this book and put it...\n",
       "0006547192    Shikasta is my all-time favorite sci-fi book -...\n",
       "                                    ...                        \n",
       "B00KLQH5XI    The jokes are funny and appropriate. It's simp...\n",
       "B00KVWSNIS    'Horribly Ever After' is a delightfully twiste...\n",
       "B00KWF93O2    Annalisa Crawford's crisp style and clever twi...\n",
       "B00KWWDT1S    This excellent book is the beginning of a new ...\n",
       "B00KXUWRTE    I confess, I didn't know that much about socce...\n",
       "Name: reviewText, Length: 21951, dtype: object"
      ]
     },
     "execution_count": 33,
     "metadata": {},
     "output_type": "execute_result"
    }
   ],
   "source": [
    "df_text.groupby('asin')['reviewText'].apply(', '.join)"
   ]
  },
  {
   "cell_type": "code",
   "execution_count": 9,
   "metadata": {},
   "outputs": [],
   "source": [
    "# we want to format our data to dictionary for the DictVectorizer to be able to handle\n",
    "class DictEncoder(base.BaseEstimator, base.TransformerMixin):\n",
    "    \n",
    "    def __init__(self, col):\n",
    "        self.col = col\n",
    "    \n",
    "    def fit(self, X, y=None):\n",
    "        return self\n",
    "    \n",
    "    def transform(self, X):\n",
    "        \n",
    "        def to_dict(l):\n",
    "            try:\n",
    "                return {x: 1 for x in l}\n",
    "            except TypeError:\n",
    "                return {}\n",
    "        \n",
    "        return X[self.col].apply(to_dict)"
   ]
  },
  {
   "cell_type": "code",
   "execution_count": 35,
   "metadata": {},
   "outputs": [],
   "source": [
    "review_pipe = Pipeline([\n",
    "    ('encoder', DictEncoder('reviewText')),\n",
    "    ('vectorizer', DictVectorizer())\n",
    "])"
   ]
  },
  {
   "cell_type": "code",
   "execution_count": 36,
   "metadata": {},
   "outputs": [],
   "source": [
    "desc_pipe = Pipeline([\n",
    "    ('encoder', DictEncoder('description')),\n",
    "    ('vectorizer', DictVectorizer())\n",
    "])"
   ]
  },
  {
   "cell_type": "code",
   "execution_count": 38,
   "metadata": {},
   "outputs": [],
   "source": [
    "union = FeatureUnion([('reviewText', review_pipe),\n",
    "                      ('description', desc_pipe)],\n",
    "                    transformer_weights={\n",
    "            'reviewText': 0.5,\n",
    "            'description': 1.5\n",
    "        })"
   ]
  },
  {
   "cell_type": "code",
   "execution_count": 39,
   "metadata": {},
   "outputs": [],
   "source": [
    "features = union.fit_transform(df_text)"
   ]
  },
  {
   "cell_type": "code",
   "execution_count": 40,
   "metadata": {},
   "outputs": [
    {
     "data": {
      "text/plain": [
       "NearestNeighbors()"
      ]
     },
     "execution_count": 40,
     "metadata": {},
     "output_type": "execute_result"
    }
   ],
   "source": [
    "union_model = NearestNeighbors(algorithm='auto')\n",
    "union_model.fit(features)"
   ]
  },
  {
   "cell_type": "code",
   "execution_count": 41,
   "metadata": {},
   "outputs": [
    {
     "data": {
      "text/plain": [
       "Int64Index([ 68873,  68874,  68875,  68876,  68877,  68878,  68879,  68880,\n",
       "             68881,  85551,\n",
       "            ...\n",
       "            360098, 360099, 360100, 360101, 360102, 360103, 360104, 360105,\n",
       "            360106, 360107],\n",
       "           dtype='int64', length=2000)"
      ]
     },
     "execution_count": 41,
     "metadata": {},
     "output_type": "execute_result"
    }
   ],
   "source": [
    "df_text[df_text['title'].str.contains('Harry Potter')].index"
   ]
  },
  {
   "cell_type": "code",
   "execution_count": 62,
   "metadata": {},
   "outputs": [
    {
     "name": "stdout",
     "output_type": "stream",
     "text": [
      "71326\n"
     ]
    }
   ],
   "source": [
    "# select random book from data\n",
    "query_index = np.random.choice(df_text.index)\n",
    "print(query_index)"
   ]
  },
  {
   "cell_type": "code",
   "execution_count": 63,
   "metadata": {},
   "outputs": [],
   "source": [
    "distances, indices = union_model.kneighbors(features[query_index], n_neighbors=6)"
   ]
  },
  {
   "cell_type": "code",
   "execution_count": 64,
   "metadata": {},
   "outputs": [
    {
     "data": {
      "text/plain": [
       "(array([[0.        , 1.58113883, 1.6583124 , 1.80277564, 1.80277564,\n",
       "         1.87082869]]),\n",
       " array([[71326, 71328, 71317, 71329, 71330, 71327]]))"
      ]
     },
     "execution_count": 64,
     "metadata": {},
     "output_type": "execute_result"
    }
   ],
   "source": [
    "distances, indices"
   ]
  },
  {
   "cell_type": "code",
   "execution_count": 71,
   "metadata": {},
   "outputs": [
    {
     "name": "stdout",
     "output_type": "stream",
     "text": [
      "Recommendations for So Silver Bright (Theatre Illuminata):\n",
      "\n",
      "1: So Silver Bright (Theatre Illuminata), with distance of 1.5811388300841898:\n",
      "2: So Silver Bright (Theatre Illuminata), with distance of 1.6583123951777:\n",
      "3: So Silver Bright (Theatre Illuminata), with distance of 1.8027756377319946:\n",
      "4: So Silver Bright (Theatre Illuminata), with distance of 1.8027756377319946:\n",
      "5: So Silver Bright (Theatre Illuminata), with distance of 1.8708286933869707:\n"
     ]
    }
   ],
   "source": [
    "for i in range(0, len(distances.flatten())):\n",
    "    if i == 0:\n",
    "        print('Recommendations for {0}:\\n'.format(df_text['title'][df_text.index[query_index]]))\n",
    "        #print(f'Recommendations for {df_merge_pivot.index[query_index]}:')\n",
    "    else:\n",
    "        print('{0}: {1}, with distance of {2}:'.format(i, df_text['title'][df_text.index[indices.flatten()[i]]], distances.flatten()[i]))"
   ]
  },
  {
   "cell_type": "markdown",
   "metadata": {},
   "source": [
    "The model recommends the same book as the distance for the same book (but with reviews from different readers) would be the closest. This makes sense, but does not help us making useful recommendations."
   ]
  },
  {
   "cell_type": "markdown",
   "metadata": {},
   "source": [
    "### 2. Feature Union with Description and Review Text - But with reviews merged for each book"
   ]
  },
  {
   "cell_type": "code",
   "execution_count": 79,
   "metadata": {},
   "outputs": [],
   "source": [
    "df_merge_review = pd.read_csv('data/df_merge_review.csv')"
   ]
  },
  {
   "cell_type": "code",
   "execution_count": 103,
   "metadata": {},
   "outputs": [
    {
     "data": {
      "text/html": [
       "<div>\n",
       "<style scoped>\n",
       "    .dataframe tbody tr th:only-of-type {\n",
       "        vertical-align: middle;\n",
       "    }\n",
       "\n",
       "    .dataframe tbody tr th {\n",
       "        vertical-align: top;\n",
       "    }\n",
       "\n",
       "    .dataframe thead th {\n",
       "        text-align: right;\n",
       "    }\n",
       "</style>\n",
       "<table border=\"1\" class=\"dataframe\">\n",
       "  <thead>\n",
       "    <tr style=\"text-align: right;\">\n",
       "      <th></th>\n",
       "      <th>asin</th>\n",
       "      <th>reviewText</th>\n",
       "      <th>description</th>\n",
       "      <th>overall</th>\n",
       "    </tr>\n",
       "  </thead>\n",
       "  <tbody>\n",
       "    <tr>\n",
       "      <th>0</th>\n",
       "      <td>000171287X</td>\n",
       "      <td>for getting your kid introduced to his/her ABC...</td>\n",
       "      <td>\"In the B Book, the youngest child will be ent...</td>\n",
       "      <td>4.583333</td>\n",
       "    </tr>\n",
       "  </tbody>\n",
       "</table>\n",
       "</div>"
      ],
      "text/plain": [
       "         asin                                         reviewText  \\\n",
       "0  000171287X  for getting your kid introduced to his/her ABC...   \n",
       "\n",
       "                                         description   overall  \n",
       "0  \"In the B Book, the youngest child will be ent...  4.583333  "
      ]
     },
     "execution_count": 103,
     "metadata": {},
     "output_type": "execute_result"
    }
   ],
   "source": [
    "df_merge_review[df_merge_review['asin'] == '000171287X' ]"
   ]
  },
  {
   "cell_type": "code",
   "execution_count": 80,
   "metadata": {},
   "outputs": [],
   "source": [
    "df_title = df_merge_new_in[['asin', 'title']].groupby('asin').last()"
   ]
  },
  {
   "cell_type": "code",
   "execution_count": 108,
   "metadata": {},
   "outputs": [
    {
     "data": {
      "text/html": [
       "<div>\n",
       "<style scoped>\n",
       "    .dataframe tbody tr th:only-of-type {\n",
       "        vertical-align: middle;\n",
       "    }\n",
       "\n",
       "    .dataframe tbody tr th {\n",
       "        vertical-align: top;\n",
       "    }\n",
       "\n",
       "    .dataframe thead th {\n",
       "        text-align: right;\n",
       "    }\n",
       "</style>\n",
       "<table border=\"1\" class=\"dataframe\">\n",
       "  <thead>\n",
       "    <tr style=\"text-align: right;\">\n",
       "      <th></th>\n",
       "      <th>title</th>\n",
       "    </tr>\n",
       "    <tr>\n",
       "      <th>asin</th>\n",
       "      <th></th>\n",
       "    </tr>\n",
       "  </thead>\n",
       "  <tbody>\n",
       "    <tr>\n",
       "      <th>000171287X</th>\n",
       "      <td>The Berenstains' B Book (Bright &amp;amp; Early Bo...</td>\n",
       "    </tr>\n",
       "    <tr>\n",
       "      <th>0001714538</th>\n",
       "      <td>The Berenstain Bears On the Moon (Bright and E...</td>\n",
       "    </tr>\n",
       "    <tr>\n",
       "      <th>0006479286</th>\n",
       "      <td>On the Edge of Darkness</td>\n",
       "    </tr>\n",
       "    <tr>\n",
       "      <th>0006485944</th>\n",
       "      <td>Dust</td>\n",
       "    </tr>\n",
       "    <tr>\n",
       "      <th>0006547192</th>\n",
       "      <td>Shikasta : Re-Colonised Planet 5</td>\n",
       "    </tr>\n",
       "  </tbody>\n",
       "</table>\n",
       "</div>"
      ],
      "text/plain": [
       "                                                        title\n",
       "asin                                                         \n",
       "000171287X  The Berenstains' B Book (Bright &amp; Early Bo...\n",
       "0001714538  The Berenstain Bears On the Moon (Bright and E...\n",
       "0006479286                            On the Edge of Darkness\n",
       "0006485944                                               Dust\n",
       "0006547192                   Shikasta : Re-Colonised Planet 5"
      ]
     },
     "execution_count": 108,
     "metadata": {},
     "output_type": "execute_result"
    }
   ],
   "source": [
    "df_title.head()"
   ]
  },
  {
   "cell_type": "code",
   "execution_count": 109,
   "metadata": {},
   "outputs": [],
   "source": [
    "df_merge_review = pd.merge(df_merge_review, df_title, how='inner', on='asin')"
   ]
  },
  {
   "cell_type": "code",
   "execution_count": 111,
   "metadata": {},
   "outputs": [],
   "source": [
    "df_merge_review.to_csv('data/df_merge_review_title.csv', index=False)"
   ]
  },
  {
   "cell_type": "code",
   "execution_count": 14,
   "metadata": {},
   "outputs": [],
   "source": [
    "df_merge_review = pd.read_csv('data/df_merge_review_title.csv')"
   ]
  },
  {
   "cell_type": "code",
   "execution_count": 82,
   "metadata": {},
   "outputs": [
    {
     "data": {
      "text/html": [
       "<div>\n",
       "<style scoped>\n",
       "    .dataframe tbody tr th:only-of-type {\n",
       "        vertical-align: middle;\n",
       "    }\n",
       "\n",
       "    .dataframe tbody tr th {\n",
       "        vertical-align: top;\n",
       "    }\n",
       "\n",
       "    .dataframe thead th {\n",
       "        text-align: right;\n",
       "    }\n",
       "</style>\n",
       "<table border=\"1\" class=\"dataframe\">\n",
       "  <thead>\n",
       "    <tr style=\"text-align: right;\">\n",
       "      <th></th>\n",
       "      <th>asin</th>\n",
       "      <th>reviewText</th>\n",
       "      <th>description</th>\n",
       "      <th>overall</th>\n",
       "      <th>title</th>\n",
       "    </tr>\n",
       "  </thead>\n",
       "  <tbody>\n",
       "    <tr>\n",
       "      <th>0</th>\n",
       "      <td>000171287X</td>\n",
       "      <td>for getting your kid introduced to his/her ABC...</td>\n",
       "      <td>\"In the B Book, the youngest child will be ent...</td>\n",
       "      <td>4.583333</td>\n",
       "      <td>The Berenstains' B Book (Bright &amp;amp; Early Bo...</td>\n",
       "    </tr>\n",
       "    <tr>\n",
       "      <th>1</th>\n",
       "      <td>0001714538</td>\n",
       "      <td>This book is so cute and so much fun! We borro...</td>\n",
       "      <td>'By Stan Berenstain, Illustrated by Stan Beren...</td>\n",
       "      <td>3.714286</td>\n",
       "      <td>The Berenstain Bears On the Moon (Bright and E...</td>\n",
       "    </tr>\n",
       "    <tr>\n",
       "      <th>2</th>\n",
       "      <td>0006479286</td>\n",
       "      <td>As I read this book in the wake of rereading T...</td>\n",
       "      <td>\"'STEPHEN KING MEETING WITH RUTH RENDELL' - Fr...</td>\n",
       "      <td>3.888889</td>\n",
       "      <td>On the Edge of Darkness</td>\n",
       "    </tr>\n",
       "    <tr>\n",
       "      <th>3</th>\n",
       "      <td>0006485944</td>\n",
       "      <td>I got 80% of the way thru this book and put it...</td>\n",
       "      <td>'Grade 6-9-In a bone-dry summer during the Gre...</td>\n",
       "      <td>4.285714</td>\n",
       "      <td>Dust</td>\n",
       "    </tr>\n",
       "    <tr>\n",
       "      <th>4</th>\n",
       "      <td>0006547192</td>\n",
       "      <td>Shikasta is my all-time favorite sci-fi book -...</td>\n",
       "      <td>\"'Magnificent...an astounding book that sets o...</td>\n",
       "      <td>4.200000</td>\n",
       "      <td>Shikasta : Re-Colonised Planet 5</td>\n",
       "    </tr>\n",
       "  </tbody>\n",
       "</table>\n",
       "</div>"
      ],
      "text/plain": [
       "         asin                                         reviewText  \\\n",
       "0  000171287X  for getting your kid introduced to his/her ABC...   \n",
       "1  0001714538  This book is so cute and so much fun! We borro...   \n",
       "2  0006479286  As I read this book in the wake of rereading T...   \n",
       "3  0006485944  I got 80% of the way thru this book and put it...   \n",
       "4  0006547192  Shikasta is my all-time favorite sci-fi book -...   \n",
       "\n",
       "                                         description   overall  \\\n",
       "0  \"In the B Book, the youngest child will be ent...  4.583333   \n",
       "1  'By Stan Berenstain, Illustrated by Stan Beren...  3.714286   \n",
       "2  \"'STEPHEN KING MEETING WITH RUTH RENDELL' - Fr...  3.888889   \n",
       "3  'Grade 6-9-In a bone-dry summer during the Gre...  4.285714   \n",
       "4  \"'Magnificent...an astounding book that sets o...  4.200000   \n",
       "\n",
       "                                               title  \n",
       "0  The Berenstains' B Book (Bright &amp; Early Bo...  \n",
       "1  The Berenstain Bears On the Moon (Bright and E...  \n",
       "2                            On the Edge of Darkness  \n",
       "3                                               Dust  \n",
       "4                   Shikasta : Re-Colonised Planet 5  "
      ]
     },
     "execution_count": 82,
     "metadata": {},
     "output_type": "execute_result"
    }
   ],
   "source": [
    "df_merge_review.head()"
   ]
  },
  {
   "cell_type": "code",
   "execution_count": 10,
   "metadata": {},
   "outputs": [],
   "source": [
    "merge_review_pipe = Pipeline([\n",
    "    ('encoder', DictEncoder('reviewText')),\n",
    "    ('vectorizer', DictVectorizer())\n",
    "])"
   ]
  },
  {
   "cell_type": "code",
   "execution_count": 11,
   "metadata": {},
   "outputs": [],
   "source": [
    "merge_desc_pipe = Pipeline([\n",
    "    ('encoder', DictEncoder('description')),\n",
    "    ('vectorizer', DictVectorizer())\n",
    "])"
   ]
  },
  {
   "cell_type": "code",
   "execution_count": 18,
   "metadata": {},
   "outputs": [],
   "source": [
    "union_merge = FeatureUnion([('reviewText', merge_review_pipe),\n",
    "                      ('description', merge_desc_pipe)],\n",
    "                    transformer_weights={\n",
    "            'reviewText': 0.2,\n",
    "            'description': 1.5\n",
    "        })"
   ]
  },
  {
   "cell_type": "code",
   "execution_count": 88,
   "metadata": {},
   "outputs": [],
   "source": [
    "features_merge_review = union_merge.fit_transform(df_merge_review)"
   ]
  },
  {
   "cell_type": "code",
   "execution_count": 89,
   "metadata": {},
   "outputs": [
    {
     "data": {
      "text/plain": [
       "NearestNeighbors(algorithm='brute', metric='cosine')"
      ]
     },
     "execution_count": 89,
     "metadata": {},
     "output_type": "execute_result"
    }
   ],
   "source": [
    "union_merge_review_model = NearestNeighbors(metric='cosine', algorithm='brute')\n",
    "union_merge_review_model.fit(features_merge_review)"
   ]
  },
  {
   "cell_type": "code",
   "execution_count": 90,
   "metadata": {},
   "outputs": [
    {
     "name": "stdout",
     "output_type": "stream",
     "text": [
      "16373\n"
     ]
    }
   ],
   "source": [
    "# select random book from data\n",
    "query_index = np.random.choice(df_merge_review.index)\n",
    "print(query_index)"
   ]
  },
  {
   "cell_type": "code",
   "execution_count": 94,
   "metadata": {},
   "outputs": [],
   "source": [
    "distances, indices = union_merge_review_model.kneighbors(features_merge_review[query_index], n_neighbors=6)"
   ]
  },
  {
   "cell_type": "code",
   "execution_count": 95,
   "metadata": {
    "scrolled": true
   },
   "outputs": [
    {
     "data": {
      "text/plain": [
       "(array([[0.        , 0.0387729 , 0.038876  , 0.04432696, 0.04459384,\n",
       "         0.04490145]]),\n",
       " array([[16373,  3362, 16726, 19995,  4837, 16158]]))"
      ]
     },
     "execution_count": 95,
     "metadata": {},
     "output_type": "execute_result"
    }
   ],
   "source": [
    "distances, indices"
   ]
  },
  {
   "cell_type": "code",
   "execution_count": 96,
   "metadata": {},
   "outputs": [
    {
     "name": "stdout",
     "output_type": "stream",
     "text": [
      "Recommendations for Tempestuous (Twisted Lit):\n",
      "\n",
      "1: The Boy: A Novel, with distance of 0.03877290201735528:\n",
      "2: ChopChop: The Kids' Guide to Cooking Real Food with Your Family, with distance of 0.038876001543934:\n",
      "3: What Makes a Baby, with distance of 0.044326956825906594:\n",
      "4: The Mirk and Midnight Hour, with distance of 0.04459383545217799:\n",
      "5: National Geographic Book of Animal Poetry: 200 Poems with Photographs That Squeak, Soar, and Roar!, with distance of 0.044901446227473385:\n"
     ]
    }
   ],
   "source": [
    "for i in range(0, len(distances.flatten())):\n",
    "    if i == 0:\n",
    "        print('Recommendations for {0}:\\n'.format(df_merge_review['title'][df_merge_review.index[query_index]]))\n",
    "        #print(f'Recommendations for {df_merge_pivot.index[query_index]}:')\n",
    "    else:\n",
    "        print('{0}: {1}, with distance of {2}:'.format(i, df_merge_review['title'][df_merge_review.index[indices.flatten()[i]]], distances.flatten()[i]))"
   ]
  },
  {
   "cell_type": "code",
   "execution_count": null,
   "metadata": {},
   "outputs": [],
   "source": [
    "df_merge_pivot[df_merge_pivot.index.str.contains(string)].index[0]"
   ]
  },
  {
   "cell_type": "code",
   "execution_count": 100,
   "metadata": {},
   "outputs": [
    {
     "data": {
      "text/html": [
       "<div>\n",
       "<style scoped>\n",
       "    .dataframe tbody tr th:only-of-type {\n",
       "        vertical-align: middle;\n",
       "    }\n",
       "\n",
       "    .dataframe tbody tr th {\n",
       "        vertical-align: top;\n",
       "    }\n",
       "\n",
       "    .dataframe thead th {\n",
       "        text-align: right;\n",
       "    }\n",
       "</style>\n",
       "<table border=\"1\" class=\"dataframe\">\n",
       "  <thead>\n",
       "    <tr style=\"text-align: right;\">\n",
       "      <th></th>\n",
       "      <th>0</th>\n",
       "      <th>1</th>\n",
       "      <th>2</th>\n",
       "      <th>3</th>\n",
       "      <th>4</th>\n",
       "      <th>5</th>\n",
       "      <th>6</th>\n",
       "      <th>7</th>\n",
       "      <th>8</th>\n",
       "      <th>9</th>\n",
       "      <th>...</th>\n",
       "      <th>192</th>\n",
       "      <th>193</th>\n",
       "      <th>194</th>\n",
       "      <th>195</th>\n",
       "      <th>196</th>\n",
       "      <th>197</th>\n",
       "      <th>198</th>\n",
       "      <th>199</th>\n",
       "      <th>200</th>\n",
       "      <th>201</th>\n",
       "    </tr>\n",
       "  </thead>\n",
       "  <tbody>\n",
       "    <tr>\n",
       "      <th>0</th>\n",
       "      <td>0.0</td>\n",
       "      <td>0.0</td>\n",
       "      <td>0.0</td>\n",
       "      <td>0.0</td>\n",
       "      <td>0.0</td>\n",
       "      <td>0.0</td>\n",
       "      <td>0.0</td>\n",
       "      <td>0.0</td>\n",
       "      <td>0.0</td>\n",
       "      <td>0.0</td>\n",
       "      <td>...</td>\n",
       "      <td>1.5</td>\n",
       "      <td>0.0</td>\n",
       "      <td>1.5</td>\n",
       "      <td>0.0</td>\n",
       "      <td>1.5</td>\n",
       "      <td>0.0</td>\n",
       "      <td>0.0</td>\n",
       "      <td>0.0</td>\n",
       "      <td>0.0</td>\n",
       "      <td>0.0</td>\n",
       "    </tr>\n",
       "    <tr>\n",
       "      <th>1</th>\n",
       "      <td>0.0</td>\n",
       "      <td>0.0</td>\n",
       "      <td>0.0</td>\n",
       "      <td>0.0</td>\n",
       "      <td>0.0</td>\n",
       "      <td>0.0</td>\n",
       "      <td>0.0</td>\n",
       "      <td>0.0</td>\n",
       "      <td>0.0</td>\n",
       "      <td>0.0</td>\n",
       "      <td>...</td>\n",
       "      <td>1.5</td>\n",
       "      <td>0.0</td>\n",
       "      <td>0.0</td>\n",
       "      <td>0.0</td>\n",
       "      <td>1.5</td>\n",
       "      <td>0.0</td>\n",
       "      <td>0.0</td>\n",
       "      <td>0.0</td>\n",
       "      <td>0.0</td>\n",
       "      <td>0.0</td>\n",
       "    </tr>\n",
       "    <tr>\n",
       "      <th>2</th>\n",
       "      <td>0.0</td>\n",
       "      <td>0.0</td>\n",
       "      <td>0.0</td>\n",
       "      <td>0.0</td>\n",
       "      <td>0.0</td>\n",
       "      <td>0.0</td>\n",
       "      <td>0.0</td>\n",
       "      <td>0.0</td>\n",
       "      <td>0.0</td>\n",
       "      <td>0.0</td>\n",
       "      <td>...</td>\n",
       "      <td>1.5</td>\n",
       "      <td>1.5</td>\n",
       "      <td>1.5</td>\n",
       "      <td>1.5</td>\n",
       "      <td>1.5</td>\n",
       "      <td>0.0</td>\n",
       "      <td>0.0</td>\n",
       "      <td>0.0</td>\n",
       "      <td>0.0</td>\n",
       "      <td>0.0</td>\n",
       "    </tr>\n",
       "    <tr>\n",
       "      <th>3</th>\n",
       "      <td>0.0</td>\n",
       "      <td>0.0</td>\n",
       "      <td>0.0</td>\n",
       "      <td>0.0</td>\n",
       "      <td>0.0</td>\n",
       "      <td>0.0</td>\n",
       "      <td>0.0</td>\n",
       "      <td>0.0</td>\n",
       "      <td>0.0</td>\n",
       "      <td>0.0</td>\n",
       "      <td>...</td>\n",
       "      <td>1.5</td>\n",
       "      <td>1.5</td>\n",
       "      <td>1.5</td>\n",
       "      <td>1.5</td>\n",
       "      <td>1.5</td>\n",
       "      <td>1.5</td>\n",
       "      <td>0.0</td>\n",
       "      <td>0.0</td>\n",
       "      <td>0.0</td>\n",
       "      <td>0.0</td>\n",
       "    </tr>\n",
       "    <tr>\n",
       "      <th>4</th>\n",
       "      <td>0.0</td>\n",
       "      <td>0.0</td>\n",
       "      <td>0.0</td>\n",
       "      <td>0.0</td>\n",
       "      <td>0.0</td>\n",
       "      <td>0.0</td>\n",
       "      <td>0.0</td>\n",
       "      <td>0.0</td>\n",
       "      <td>0.0</td>\n",
       "      <td>0.0</td>\n",
       "      <td>...</td>\n",
       "      <td>1.5</td>\n",
       "      <td>1.5</td>\n",
       "      <td>1.5</td>\n",
       "      <td>0.0</td>\n",
       "      <td>1.5</td>\n",
       "      <td>1.5</td>\n",
       "      <td>0.0</td>\n",
       "      <td>0.0</td>\n",
       "      <td>0.0</td>\n",
       "      <td>0.0</td>\n",
       "    </tr>\n",
       "    <tr>\n",
       "      <th>...</th>\n",
       "      <td>...</td>\n",
       "      <td>...</td>\n",
       "      <td>...</td>\n",
       "      <td>...</td>\n",
       "      <td>...</td>\n",
       "      <td>...</td>\n",
       "      <td>...</td>\n",
       "      <td>...</td>\n",
       "      <td>...</td>\n",
       "      <td>...</td>\n",
       "      <td>...</td>\n",
       "      <td>...</td>\n",
       "      <td>...</td>\n",
       "      <td>...</td>\n",
       "      <td>...</td>\n",
       "      <td>...</td>\n",
       "      <td>...</td>\n",
       "      <td>...</td>\n",
       "      <td>...</td>\n",
       "      <td>...</td>\n",
       "      <td>...</td>\n",
       "    </tr>\n",
       "    <tr>\n",
       "      <th>21946</th>\n",
       "      <td>0.0</td>\n",
       "      <td>0.0</td>\n",
       "      <td>0.0</td>\n",
       "      <td>0.0</td>\n",
       "      <td>0.0</td>\n",
       "      <td>0.0</td>\n",
       "      <td>0.0</td>\n",
       "      <td>0.0</td>\n",
       "      <td>0.0</td>\n",
       "      <td>0.0</td>\n",
       "      <td>...</td>\n",
       "      <td>0.0</td>\n",
       "      <td>0.0</td>\n",
       "      <td>0.0</td>\n",
       "      <td>0.0</td>\n",
       "      <td>0.0</td>\n",
       "      <td>0.0</td>\n",
       "      <td>0.0</td>\n",
       "      <td>0.0</td>\n",
       "      <td>0.0</td>\n",
       "      <td>0.0</td>\n",
       "    </tr>\n",
       "    <tr>\n",
       "      <th>21947</th>\n",
       "      <td>0.0</td>\n",
       "      <td>0.0</td>\n",
       "      <td>0.0</td>\n",
       "      <td>0.0</td>\n",
       "      <td>0.0</td>\n",
       "      <td>0.0</td>\n",
       "      <td>0.0</td>\n",
       "      <td>0.0</td>\n",
       "      <td>0.0</td>\n",
       "      <td>0.0</td>\n",
       "      <td>...</td>\n",
       "      <td>0.0</td>\n",
       "      <td>0.0</td>\n",
       "      <td>0.0</td>\n",
       "      <td>0.0</td>\n",
       "      <td>0.0</td>\n",
       "      <td>0.0</td>\n",
       "      <td>0.0</td>\n",
       "      <td>0.0</td>\n",
       "      <td>0.0</td>\n",
       "      <td>0.0</td>\n",
       "    </tr>\n",
       "    <tr>\n",
       "      <th>21948</th>\n",
       "      <td>0.0</td>\n",
       "      <td>0.0</td>\n",
       "      <td>0.0</td>\n",
       "      <td>0.0</td>\n",
       "      <td>0.0</td>\n",
       "      <td>0.0</td>\n",
       "      <td>0.0</td>\n",
       "      <td>0.0</td>\n",
       "      <td>0.0</td>\n",
       "      <td>0.0</td>\n",
       "      <td>...</td>\n",
       "      <td>0.0</td>\n",
       "      <td>0.0</td>\n",
       "      <td>0.0</td>\n",
       "      <td>0.0</td>\n",
       "      <td>0.0</td>\n",
       "      <td>0.0</td>\n",
       "      <td>0.0</td>\n",
       "      <td>0.0</td>\n",
       "      <td>0.0</td>\n",
       "      <td>0.0</td>\n",
       "    </tr>\n",
       "    <tr>\n",
       "      <th>21949</th>\n",
       "      <td>0.0</td>\n",
       "      <td>0.0</td>\n",
       "      <td>0.0</td>\n",
       "      <td>0.0</td>\n",
       "      <td>0.0</td>\n",
       "      <td>0.0</td>\n",
       "      <td>0.0</td>\n",
       "      <td>0.0</td>\n",
       "      <td>0.0</td>\n",
       "      <td>0.0</td>\n",
       "      <td>...</td>\n",
       "      <td>0.0</td>\n",
       "      <td>0.0</td>\n",
       "      <td>0.0</td>\n",
       "      <td>0.0</td>\n",
       "      <td>0.0</td>\n",
       "      <td>0.0</td>\n",
       "      <td>0.0</td>\n",
       "      <td>0.0</td>\n",
       "      <td>0.0</td>\n",
       "      <td>0.0</td>\n",
       "    </tr>\n",
       "    <tr>\n",
       "      <th>21950</th>\n",
       "      <td>0.0</td>\n",
       "      <td>0.0</td>\n",
       "      <td>0.0</td>\n",
       "      <td>0.0</td>\n",
       "      <td>0.0</td>\n",
       "      <td>0.0</td>\n",
       "      <td>0.0</td>\n",
       "      <td>0.0</td>\n",
       "      <td>0.0</td>\n",
       "      <td>0.0</td>\n",
       "      <td>...</td>\n",
       "      <td>0.0</td>\n",
       "      <td>0.0</td>\n",
       "      <td>0.0</td>\n",
       "      <td>0.0</td>\n",
       "      <td>0.0</td>\n",
       "      <td>0.0</td>\n",
       "      <td>0.0</td>\n",
       "      <td>0.0</td>\n",
       "      <td>0.0</td>\n",
       "      <td>0.0</td>\n",
       "    </tr>\n",
       "  </tbody>\n",
       "</table>\n",
       "<p>21951 rows × 202 columns</p>\n",
       "</div>"
      ],
      "text/plain": [
       "       0    1    2    3    4    5    6    7    8    9    ...  192  193  194  \\\n",
       "0      0.0  0.0  0.0  0.0  0.0  0.0  0.0  0.0  0.0  0.0  ...  1.5  0.0  1.5   \n",
       "1      0.0  0.0  0.0  0.0  0.0  0.0  0.0  0.0  0.0  0.0  ...  1.5  0.0  0.0   \n",
       "2      0.0  0.0  0.0  0.0  0.0  0.0  0.0  0.0  0.0  0.0  ...  1.5  1.5  1.5   \n",
       "3      0.0  0.0  0.0  0.0  0.0  0.0  0.0  0.0  0.0  0.0  ...  1.5  1.5  1.5   \n",
       "4      0.0  0.0  0.0  0.0  0.0  0.0  0.0  0.0  0.0  0.0  ...  1.5  1.5  1.5   \n",
       "...    ...  ...  ...  ...  ...  ...  ...  ...  ...  ...  ...  ...  ...  ...   \n",
       "21946  0.0  0.0  0.0  0.0  0.0  0.0  0.0  0.0  0.0  0.0  ...  0.0  0.0  0.0   \n",
       "21947  0.0  0.0  0.0  0.0  0.0  0.0  0.0  0.0  0.0  0.0  ...  0.0  0.0  0.0   \n",
       "21948  0.0  0.0  0.0  0.0  0.0  0.0  0.0  0.0  0.0  0.0  ...  0.0  0.0  0.0   \n",
       "21949  0.0  0.0  0.0  0.0  0.0  0.0  0.0  0.0  0.0  0.0  ...  0.0  0.0  0.0   \n",
       "21950  0.0  0.0  0.0  0.0  0.0  0.0  0.0  0.0  0.0  0.0  ...  0.0  0.0  0.0   \n",
       "\n",
       "       195  196  197  198  199  200  201  \n",
       "0      0.0  1.5  0.0  0.0  0.0  0.0  0.0  \n",
       "1      0.0  1.5  0.0  0.0  0.0  0.0  0.0  \n",
       "2      1.5  1.5  0.0  0.0  0.0  0.0  0.0  \n",
       "3      1.5  1.5  1.5  0.0  0.0  0.0  0.0  \n",
       "4      0.0  1.5  1.5  0.0  0.0  0.0  0.0  \n",
       "...    ...  ...  ...  ...  ...  ...  ...  \n",
       "21946  0.0  0.0  0.0  0.0  0.0  0.0  0.0  \n",
       "21947  0.0  0.0  0.0  0.0  0.0  0.0  0.0  \n",
       "21948  0.0  0.0  0.0  0.0  0.0  0.0  0.0  \n",
       "21949  0.0  0.0  0.0  0.0  0.0  0.0  0.0  \n",
       "21950  0.0  0.0  0.0  0.0  0.0  0.0  0.0  \n",
       "\n",
       "[21951 rows x 202 columns]"
      ]
     },
     "execution_count": 100,
     "metadata": {},
     "output_type": "execute_result"
    }
   ],
   "source": [
    "pd.DataFrame(features_merge_review.toarray())"
   ]
  },
  {
   "cell_type": "code",
   "execution_count": null,
   "metadata": {},
   "outputs": [],
   "source": [
    "title = df_merge_pivot[df_merge_pivot.index.str.contains(string)].index[0]"
   ]
  },
  {
   "cell_type": "code",
   "execution_count": 38,
   "metadata": {},
   "outputs": [
    {
     "data": {
      "text/plain": [
       "'The Hidden Myths in Harry Potter: Spellbinding Map and Book of Secrets'"
      ]
     },
     "execution_count": 38,
     "metadata": {},
     "output_type": "execute_result"
    }
   ],
   "source": [
    "df_merge_review[df_merge_review['title'].str.contains('Harry Potter')]"
   ]
  },
  {
   "cell_type": "code",
   "execution_count": 15,
   "metadata": {},
   "outputs": [],
   "source": [
    "def book_recommender_text_features(w1, w2, string):\n",
    "    \"\"\"\n",
    "    book recommendation system using\n",
    "    w1: weight for review feature\n",
    "    w2: weight for description feature\n",
    "    string: substring of a title\n",
    "    \"\"\"\n",
    "    union_merge = FeatureUnion([('reviewText', merge_review_pipe),\n",
    "                      ('description', merge_desc_pipe)],\n",
    "                    transformer_weights={\n",
    "            'reviewText': w1,\n",
    "            'description': w2\n",
    "        })\n",
    "    features_merge_review = union_merge.fit_transform(df_merge_review)\n",
    "    \n",
    "    union_merge_review_model = NearestNeighbors(metric='cosine', algorithm='brute')\n",
    "    union_merge_review_model.fit(features_merge_review)\n",
    "    \n",
    "    distances, indices = union_merge_review_model.kneighbors(features_merge_review[query_index], n_neighbors=6)\n",
    "    \n",
    "    for i in range(0, len(distances.flatten())):\n",
    "        if i == 0:\n",
    "            print('Recommendations for {0}:\\n'.format(df_merge_review[title][df_merge_review.index[query_index]]))\n",
    "        #print(f'Recommendations for {df_merge_pivot.index[query_index]}:')\n",
    "        else:\n",
    "            print('{0}: {1}, with distance of {2}:'.format(i, df_merge_review[title][df_merge_review.index[indices.flatten()[i]]], distances.flatten()[i]))"
   ]
  },
  {
   "cell_type": "code",
   "execution_count": null,
   "metadata": {},
   "outputs": [],
   "source": [
    "book_recommender_text_features(0.2, 1, 'The Snowy Day')"
   ]
  },
  {
   "cell_type": "code",
   "execution_count": null,
   "metadata": {},
   "outputs": [],
   "source": [
    "## include links for each book\n",
    "# ASIN, TITLE = df_merge_review['asin','title'][indices.flatten()[0]]\n",
    "# f'https://www.amazon.com/{TITLE}/dp/{ASIN}/'"
   ]
  },
  {
   "cell_type": "markdown",
   "metadata": {},
   "source": [
    "## Exploratory Data Analysis"
   ]
  },
  {
   "cell_type": "code",
   "execution_count": 8,
   "metadata": {},
   "outputs": [
    {
     "name": "stdout",
     "output_type": "stream",
     "text": [
      "<class 'pandas.core.frame.DataFrame'>\n",
      "RangeIndex: 396159 entries, 0 to 396158\n",
      "Data columns (total 15 columns):\n",
      " #   Column          Non-Null Count   Dtype  \n",
      "---  ------          --------------   -----  \n",
      " 0   reviewerID      396159 non-null  object \n",
      " 1   asin            396159 non-null  object \n",
      " 2   reviewerName    395427 non-null  object \n",
      " 3   helpful         396159 non-null  object \n",
      " 4   reviewText      396104 non-null  object \n",
      " 5   overall         396159 non-null  float64\n",
      " 6   summary         396154 non-null  object \n",
      " 7   unixReviewTime  396159 non-null  int64  \n",
      " 8   reviewTime      396159 non-null  object \n",
      " 9   category        396159 non-null  object \n",
      " 10  description     396159 non-null  object \n",
      " 11  title           396159 non-null  object \n",
      " 12  also_buy        396159 non-null  object \n",
      " 13  brand           395929 non-null  object \n",
      " 14  also_view       396159 non-null  object \n",
      "dtypes: float64(1), int64(1), object(13)\n",
      "memory usage: 45.3+ MB\n"
     ]
    }
   ],
   "source": [
    "df_merge_new_in.info()"
   ]
  },
  {
   "cell_type": "markdown",
   "metadata": {},
   "source": [
    "### 1. How ratings are distributed?"
   ]
  },
  {
   "cell_type": "code",
   "execution_count": 14,
   "metadata": {
    "scrolled": true
   },
   "outputs": [
    {
     "data": {
      "text/plain": [
       "<AxesSubplot:xlabel='overall'>"
      ]
     },
     "execution_count": 14,
     "metadata": {},
     "output_type": "execute_result"
    },
    {
     "data": {
      "image/png": "[encoded data removed]",
      "text/plain": [
       "<Figure size 432x288 with 1 Axes>"
      ]
     },
     "metadata": {
      "needs_background": "light"
     },
     "output_type": "display_data"
    }
   ],
   "source": [
    "df_merge_new_in.groupby('overall')['reviewerID'].nunique().plot(y='reviewerID', kind='bar')"
   ]
  },
  {
   "cell_type": "code",
   "execution_count": 19,
   "metadata": {},
   "outputs": [
    {
     "data": {
      "text/plain": [
       "asin\n",
       "0763638943    5.000000\n",
       "1780995865    5.000000\n",
       "1570544972    5.000000\n",
       "0687052572    5.000000\n",
       "0688008488    5.000000\n",
       "                ...   \n",
       "0882708627    1.324324\n",
       "1589894006    1.111111\n",
       "055348768X    1.000000\n",
       "0545341043    1.000000\n",
       "1419643797    1.000000\n",
       "Name: overall, Length: 21951, dtype: float64"
      ]
     },
     "execution_count": 19,
     "metadata": {},
     "output_type": "execute_result"
    }
   ],
   "source": [
    "df_merge_new_in.groupby('asin')['overall'].mean().sort_values(ascending=False)"
   ]
  },
  {
   "cell_type": "markdown",
   "metadata": {},
   "source": [
    "### 2. When did we have a lot of reviews?"
   ]
  },
  {
   "cell_type": "code",
   "execution_count": 23,
   "metadata": {},
   "outputs": [],
   "source": [
    "df_merge_new_in['reviewTime_dt'] = pd.to_datetime(df_merge_new_in['reviewTime'])\n"
   ]
  },
  {
   "cell_type": "code",
   "execution_count": 24,
   "metadata": {},
   "outputs": [
    {
     "data": {
      "text/plain": [
       "DatetimeIndex(['2013-08-02', '2003-08-17', '2001-10-01', '2005-02-11',\n",
       "               '2012-08-23', '2012-02-27', '2013-12-19', '2013-06-22',\n",
       "               '2013-07-30', '2008-10-03',\n",
       "               ...\n",
       "               '2014-06-18', '2014-07-12', '2014-07-11', '2014-07-11',\n",
       "               '2014-06-16', '2014-06-23', '2014-06-23', '2014-06-23',\n",
       "               '2014-06-23', '2014-06-28'],\n",
       "              dtype='datetime64[ns]', name='reviewTime_dt', length=396159, freq=None)"
      ]
     },
     "execution_count": 24,
     "metadata": {},
     "output_type": "execute_result"
    }
   ],
   "source": [
    "df_date = df_merge_new_in.set_index(['reviewTime_dt'])\n",
    "df_date.index"
   ]
  },
  {
   "cell_type": "code",
   "execution_count": 26,
   "metadata": {
    "scrolled": true
   },
   "outputs": [
    {
     "data": {
      "text/plain": [
       "<AxesSubplot:xlabel='reviewTime_dt'>"
      ]
     },
     "execution_count": 26,
     "metadata": {},
     "output_type": "execute_result"
    },
    {
     "data": {
      "image/png": "[encoded data removed]",
      "text/plain": [
       "<Figure size 1080x504 with 1 Axes>"
      ]
     },
     "metadata": {
      "needs_background": "light"
     },
     "output_type": "display_data"
    }
   ],
   "source": [
    "df_date.groupby('reviewTime_dt')['reviewerID'].nunique().plot(figsize=(15,7))"
   ]
  },
  {
   "cell_type": "code",
   "execution_count": null,
   "metadata": {},
   "outputs": [],
   "source": []
  }
 ],
 "metadata": {
  "kernelspec": {
   "display_name": "Python 3",
   "language": "python",
   "name": "python3"
  },
  "language_info": {
   "codemirror_mode": {
    "name": "ipython",
    "version": 3
   },
   "file_extension": ".py",
   "mimetype": "text/x-python",
   "name": "python",
   "nbconvert_exporter": "python",
   "pygments_lexer": "ipython3",
   "version": "3.8.5"
  }
 },
 "nbformat": 4,
 "nbformat_minor": 4
}
