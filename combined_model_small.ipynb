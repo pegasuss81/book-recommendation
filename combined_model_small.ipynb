{
 "cells": [
  {
   "cell_type": "code",
   "execution_count": 1,
   "metadata": {},
   "outputs": [],
   "source": [
    "import os\n",
    "import ujson as json\n",
    "import gzip\n",
    "import pandas as pd\n",
    "\n",
    "#from urllib.request import urlopen\n",
    "#import requests\n",
    "#from bs4 import BeautifulSoup"
   ]
  },
  {
   "cell_type": "code",
   "execution_count": 2,
   "metadata": {},
   "outputs": [],
   "source": [
    "import numpy as np\n",
    "import matplotlib.pyplot as plt\n",
    "\n",
    "from sklearn import base\n",
    "from sklearn.feature_extraction import DictVectorizer\n",
    "from sklearn.neighbors import NearestNeighbors\n",
    "#from sklearn.metrics import mean_squared_error\n",
    "#from sklearn.model_selection import train_test_split\n",
    "from sklearn.pipeline import Pipeline, FeatureUnion\n",
    "from sklearn.metrics.pairwise import cosine_similarity\n",
    "#from sklearn.decomposition import PCA\n",
    "from scipy.sparse import csr_matrix\n",
    "import scipy.sparse"
   ]
  },
  {
   "cell_type": "code",
   "execution_count": 3,
   "metadata": {},
   "outputs": [],
   "source": [
    "from gensim.models import Word2Vec\n",
    "from gensim.utils import simple_preprocess\n",
    "import re"
   ]
  },
  {
   "cell_type": "code",
   "execution_count": 4,
   "metadata": {},
   "outputs": [],
   "source": [
    "from spacy.lang.en.stop_words import STOP_WORDS\n",
    "import spacy\n",
    "\n",
    "import dill \n",
    "from functools import reduce"
   ]
  },
  {
   "cell_type": "code",
   "execution_count": 5,
   "metadata": {},
   "outputs": [],
   "source": [
    "df_merge_new_in = pd.read_csv('data/df_merge_with_URL_1.csv')"
   ]
  },
  {
   "cell_type": "code",
   "execution_count": 7,
   "metadata": {},
   "outputs": [
    {
     "data": {
      "text/html": [
       "<div>\n",
       "<style scoped>\n",
       "    .dataframe tbody tr th:only-of-type {\n",
       "        vertical-align: middle;\n",
       "    }\n",
       "\n",
       "    .dataframe tbody tr th {\n",
       "        vertical-align: top;\n",
       "    }\n",
       "\n",
       "    .dataframe thead th {\n",
       "        text-align: right;\n",
       "    }\n",
       "</style>\n",
       "<table border=\"1\" class=\"dataframe\">\n",
       "  <thead>\n",
       "    <tr style=\"text-align: right;\">\n",
       "      <th></th>\n",
       "      <th>reviewerID</th>\n",
       "      <th>asin</th>\n",
       "      <th>reviewerName</th>\n",
       "      <th>helpful</th>\n",
       "      <th>reviewText</th>\n",
       "      <th>overall</th>\n",
       "      <th>summary</th>\n",
       "      <th>unixReviewTime</th>\n",
       "      <th>reviewTime</th>\n",
       "      <th>category</th>\n",
       "      <th>description</th>\n",
       "      <th>title</th>\n",
       "      <th>also_buy</th>\n",
       "      <th>brand</th>\n",
       "      <th>also_view</th>\n",
       "      <th>URL</th>\n",
       "    </tr>\n",
       "  </thead>\n",
       "  <tbody>\n",
       "    <tr>\n",
       "      <th>0</th>\n",
       "      <td>A3RZNH3OPW1XMB</td>\n",
       "      <td>000171287X</td>\n",
       "      <td>CA_Kathy</td>\n",
       "      <td>[0, 0]</td>\n",
       "      <td>for getting your kid introduced to his/her ABC...</td>\n",
       "      <td>5.0</td>\n",
       "      <td>Great</td>\n",
       "      <td>1375401600</td>\n",
       "      <td>08 2, 2013</td>\n",
       "      <td>['Books', \"Children's Books\", 'Literature &amp; Fi...</td>\n",
       "      <td>[\"In the B Book, the youngest child will be en...</td>\n",
       "      <td>The Berenstains' B Book (Bright &amp;amp; Early Bo...</td>\n",
       "      <td>['067988632X', '0679887059', '0679886303', 'B0...</td>\n",
       "      <td>Visit Amazon's Stan Berenstain Page</td>\n",
       "      <td>['0394823249', 'B0015R555M', '0679890483', '06...</td>\n",
       "      <td>https://www.amazon.com/dp/000171287X</td>\n",
       "    </tr>\n",
       "    <tr>\n",
       "      <th>1</th>\n",
       "      <td>AZGXZ2UUK6X</td>\n",
       "      <td>000171287X</td>\n",
       "      <td>Catherine Hallberg \"(Kate)\"</td>\n",
       "      <td>[1, 3]</td>\n",
       "      <td>This Book is funny and is full of B words, lik...</td>\n",
       "      <td>3.0</td>\n",
       "      <td>A celebration of B</td>\n",
       "      <td>1061078400</td>\n",
       "      <td>08 17, 2003</td>\n",
       "      <td>['Books', \"Children's Books\", 'Literature &amp; Fi...</td>\n",
       "      <td>[\"In the B Book, the youngest child will be en...</td>\n",
       "      <td>The Berenstains' B Book (Bright &amp;amp; Early Bo...</td>\n",
       "      <td>['067988632X', '0679887059', '0679886303', 'B0...</td>\n",
       "      <td>Visit Amazon's Stan Berenstain Page</td>\n",
       "      <td>['0394823249', 'B0015R555M', '0679890483', '06...</td>\n",
       "      <td>https://www.amazon.com/dp/000171287X</td>\n",
       "    </tr>\n",
       "    <tr>\n",
       "      <th>2</th>\n",
       "      <td>A2K28JHMIY3XKZ</td>\n",
       "      <td>000171287X</td>\n",
       "      <td>Charles Andrews</td>\n",
       "      <td>[2, 2]</td>\n",
       "      <td>A favorite Berenstain book of my children I wa...</td>\n",
       "      <td>5.0</td>\n",
       "      <td>Big B Believer</td>\n",
       "      <td>1001894400</td>\n",
       "      <td>10 1, 2001</td>\n",
       "      <td>['Books', \"Children's Books\", 'Literature &amp; Fi...</td>\n",
       "      <td>[\"In the B Book, the youngest child will be en...</td>\n",
       "      <td>The Berenstains' B Book (Bright &amp;amp; Early Bo...</td>\n",
       "      <td>['067988632X', '0679887059', '0679886303', 'B0...</td>\n",
       "      <td>Visit Amazon's Stan Berenstain Page</td>\n",
       "      <td>['0394823249', 'B0015R555M', '0679890483', '06...</td>\n",
       "      <td>https://www.amazon.com/dp/000171287X</td>\n",
       "    </tr>\n",
       "    <tr>\n",
       "      <th>3</th>\n",
       "      <td>A1Z54EM24Y40LL</td>\n",
       "      <td>000171287X</td>\n",
       "      <td>csm</td>\n",
       "      <td>[0, 0]</td>\n",
       "      <td>This book is quite funny.  Especially when you...</td>\n",
       "      <td>5.0</td>\n",
       "      <td>Very funny book, sad ending though!</td>\n",
       "      <td>1108080000</td>\n",
       "      <td>02 11, 2005</td>\n",
       "      <td>['Books', \"Children's Books\", 'Literature &amp; Fi...</td>\n",
       "      <td>[\"In the B Book, the youngest child will be en...</td>\n",
       "      <td>The Berenstains' B Book (Bright &amp;amp; Early Bo...</td>\n",
       "      <td>['067988632X', '0679887059', '0679886303', 'B0...</td>\n",
       "      <td>Visit Amazon's Stan Berenstain Page</td>\n",
       "      <td>['0394823249', 'B0015R555M', '0679890483', '06...</td>\n",
       "      <td>https://www.amazon.com/dp/000171287X</td>\n",
       "    </tr>\n",
       "    <tr>\n",
       "      <th>4</th>\n",
       "      <td>A179R0UL62Q36Z</td>\n",
       "      <td>000171287X</td>\n",
       "      <td>Gena R Kyle</td>\n",
       "      <td>[0, 0]</td>\n",
       "      <td>Teaching the next generation to love books!  M...</td>\n",
       "      <td>5.0</td>\n",
       "      <td>Child's book</td>\n",
       "      <td>1345680000</td>\n",
       "      <td>08 23, 2012</td>\n",
       "      <td>['Books', \"Children's Books\", 'Literature &amp; Fi...</td>\n",
       "      <td>[\"In the B Book, the youngest child will be en...</td>\n",
       "      <td>The Berenstains' B Book (Bright &amp;amp; Early Bo...</td>\n",
       "      <td>['067988632X', '0679887059', '0679886303', 'B0...</td>\n",
       "      <td>Visit Amazon's Stan Berenstain Page</td>\n",
       "      <td>['0394823249', 'B0015R555M', '0679890483', '06...</td>\n",
       "      <td>https://www.amazon.com/dp/000171287X</td>\n",
       "    </tr>\n",
       "  </tbody>\n",
       "</table>\n",
       "</div>"
      ],
      "text/plain": [
       "       reviewerID        asin                 reviewerName helpful  \\\n",
       "0  A3RZNH3OPW1XMB  000171287X                     CA_Kathy  [0, 0]   \n",
       "1     AZGXZ2UUK6X  000171287X  Catherine Hallberg \"(Kate)\"  [1, 3]   \n",
       "2  A2K28JHMIY3XKZ  000171287X              Charles Andrews  [2, 2]   \n",
       "3  A1Z54EM24Y40LL  000171287X                          csm  [0, 0]   \n",
       "4  A179R0UL62Q36Z  000171287X                  Gena R Kyle  [0, 0]   \n",
       "\n",
       "                                          reviewText  overall  \\\n",
       "0  for getting your kid introduced to his/her ABC...      5.0   \n",
       "1  This Book is funny and is full of B words, lik...      3.0   \n",
       "2  A favorite Berenstain book of my children I wa...      5.0   \n",
       "3  This book is quite funny.  Especially when you...      5.0   \n",
       "4  Teaching the next generation to love books!  M...      5.0   \n",
       "\n",
       "                               summary  unixReviewTime   reviewTime  \\\n",
       "0                                Great      1375401600   08 2, 2013   \n",
       "1                   A celebration of B      1061078400  08 17, 2003   \n",
       "2                       Big B Believer      1001894400   10 1, 2001   \n",
       "3  Very funny book, sad ending though!      1108080000  02 11, 2005   \n",
       "4                         Child's book      1345680000  08 23, 2012   \n",
       "\n",
       "                                            category  \\\n",
       "0  ['Books', \"Children's Books\", 'Literature & Fi...   \n",
       "1  ['Books', \"Children's Books\", 'Literature & Fi...   \n",
       "2  ['Books', \"Children's Books\", 'Literature & Fi...   \n",
       "3  ['Books', \"Children's Books\", 'Literature & Fi...   \n",
       "4  ['Books', \"Children's Books\", 'Literature & Fi...   \n",
       "\n",
       "                                         description  \\\n",
       "0  [\"In the B Book, the youngest child will be en...   \n",
       "1  [\"In the B Book, the youngest child will be en...   \n",
       "2  [\"In the B Book, the youngest child will be en...   \n",
       "3  [\"In the B Book, the youngest child will be en...   \n",
       "4  [\"In the B Book, the youngest child will be en...   \n",
       "\n",
       "                                               title  \\\n",
       "0  The Berenstains' B Book (Bright &amp; Early Bo...   \n",
       "1  The Berenstains' B Book (Bright &amp; Early Bo...   \n",
       "2  The Berenstains' B Book (Bright &amp; Early Bo...   \n",
       "3  The Berenstains' B Book (Bright &amp; Early Bo...   \n",
       "4  The Berenstains' B Book (Bright &amp; Early Bo...   \n",
       "\n",
       "                                            also_buy  \\\n",
       "0  ['067988632X', '0679887059', '0679886303', 'B0...   \n",
       "1  ['067988632X', '0679887059', '0679886303', 'B0...   \n",
       "2  ['067988632X', '0679887059', '0679886303', 'B0...   \n",
       "3  ['067988632X', '0679887059', '0679886303', 'B0...   \n",
       "4  ['067988632X', '0679887059', '0679886303', 'B0...   \n",
       "\n",
       "                                 brand  \\\n",
       "0  Visit Amazon's Stan Berenstain Page   \n",
       "1  Visit Amazon's Stan Berenstain Page   \n",
       "2  Visit Amazon's Stan Berenstain Page   \n",
       "3  Visit Amazon's Stan Berenstain Page   \n",
       "4  Visit Amazon's Stan Berenstain Page   \n",
       "\n",
       "                                           also_view  \\\n",
       "0  ['0394823249', 'B0015R555M', '0679890483', '06...   \n",
       "1  ['0394823249', 'B0015R555M', '0679890483', '06...   \n",
       "2  ['0394823249', 'B0015R555M', '0679890483', '06...   \n",
       "3  ['0394823249', 'B0015R555M', '0679890483', '06...   \n",
       "4  ['0394823249', 'B0015R555M', '0679890483', '06...   \n",
       "\n",
       "                                    URL  \n",
       "0  https://www.amazon.com/dp/000171287X  \n",
       "1  https://www.amazon.com/dp/000171287X  \n",
       "2  https://www.amazon.com/dp/000171287X  \n",
       "3  https://www.amazon.com/dp/000171287X  \n",
       "4  https://www.amazon.com/dp/000171287X  "
      ]
     },
     "execution_count": 7,
     "metadata": {},
     "output_type": "execute_result"
    }
   ],
   "source": [
    "df_merge_new_in.head()"
   ]
  },
  {
   "cell_type": "code",
   "execution_count": 102,
   "metadata": {},
   "outputs": [
    {
     "data": {
      "text/plain": [
       "'https://www.amazon.com/dp/000171287X'"
      ]
     },
     "execution_count": 102,
     "metadata": {},
     "output_type": "execute_result"
    }
   ],
   "source": [
    "df_merge_new_in[\"URL\"][0]"
   ]
  },
  {
   "cell_type": "code",
   "execution_count": 103,
   "metadata": {},
   "outputs": [],
   "source": [
    "response = requests.get(df_merge_new_in[\"URL\"][0])"
   ]
  },
  {
   "cell_type": "code",
   "execution_count": 104,
   "metadata": {},
   "outputs": [],
   "source": [
    "soup = BeautifulSoup(response.content, \"html.parser\")"
   ]
  },
  {
   "cell_type": "code",
   "execution_count": 109,
   "metadata": {},
   "outputs": [],
   "source": [
    "soup.find(\"div\", {\"id\":\"img-canvas\"})"
   ]
  },
  {
   "cell_type": "code",
   "execution_count": 98,
   "metadata": {},
   "outputs": [
    {
     "data": {
      "text/plain": [
       "[<img alt=\"Amazon.com\" id=\"b\" src=\"https://images-na.ssl-images-amazon.com/images/G/01/error/logo._TTD_.png\"/>,\n",
       " <img alt=\"Sorry! Something went wrong on our end. Please go back and try again or go to Amazon's home page.\" src=\"https://images-na.ssl-images-amazon.com/images/G/01/error/500_503.png\"/>,\n",
       " <img alt=\"Dogs of Amazon\" id=\"d\"/>]"
      ]
     },
     "execution_count": 98,
     "metadata": {},
     "output_type": "execute_result"
    }
   ],
   "source": [
    "soup.find_all(\"img\")"
   ]
  },
  {
   "cell_type": "code",
   "execution_count": 87,
   "metadata": {},
   "outputs": [],
   "source": [
    "import shutil\n",
    "\n",
    "r = requests.get(\"https://images-na.ssl-images-amazon.com/images/I/512WMEZXG6L._SX304_BO1,204,203,200_.jpg\", stream=True)\n",
    "\n",
    "if r.status_code == 200:\n",
    "    with open(\"image1.jpg\", \"wb\") as f:\n",
    "        r.raw.decode_content = True\n",
    "        shutil.copyfileobj(r.raw, f)"
   ]
  },
  {
   "cell_type": "code",
   "execution_count": 79,
   "metadata": {},
   "outputs": [],
   "source": [
    "html_page = requests.get('http://books.toscrape.com/')\n",
    "soup = BeautifulSoup(html_page.content, 'html.parser')\n",
    "warning = soup.find('div', class_=\"alert alert-warning\")\n",
    "book_container = warning.nextSibling.nextSibling"
   ]
  },
  {
   "cell_type": "code",
   "execution_count": 80,
   "metadata": {},
   "outputs": [
    {
     "data": {
      "text/plain": [
       "<img alt=\"A Light in the Attic\" class=\"thumbnail\" src=\"media/cache/2c/da/2cdad67c44b002e7ead0cc35693c0e8b.jpg\"/>"
      ]
     },
     "execution_count": 80,
     "metadata": {},
     "output_type": "execute_result"
    }
   ],
   "source": [
    "images = book_container.findAll('img')\n",
    "example = images[0]\n",
    "example"
   ]
  },
  {
   "cell_type": "code",
   "execution_count": 82,
   "metadata": {},
   "outputs": [],
   "source": [
    "url_base = \"http://books.toscrape.com/\" #Original website\n",
    "url_ext = example.attrs['src'] #The extension you pulled earlier\n",
    "full_url = url_base + url_ext #Combining first 2 variables to create       a complete URL\n",
    "r = requests.get(full_url, stream=True) #Get request on full_url\n",
    "if r.status_code == 200:                     #200 status code = OK\n",
    "   with open(\"book1.jpg\", 'wb') as f: \n",
    "      r.raw.decode_content = True\n",
    "      shutil.copyfileobj(r.raw, f)"
   ]
  },
  {
   "cell_type": "code",
   "execution_count": 85,
   "metadata": {},
   "outputs": [
    {
     "data": {
      "text/plain": [
       "'http://books.toscrape.com/media/cache/2c/da/2cdad67c44b002e7ead0cc35693c0e8b.jpg'"
      ]
     },
     "execution_count": 85,
     "metadata": {},
     "output_type": "execute_result"
    }
   ],
   "source": [
    "full_url"
   ]
  },
  {
   "cell_type": "code",
   "execution_count": 76,
   "metadata": {},
   "outputs": [],
   "source": [
    "import matplotlib.pyplot as plt\n",
    "import matplotlib.image as mpimg\n",
    "from PIL import Image"
   ]
  },
  {
   "cell_type": "code",
   "execution_count": 88,
   "metadata": {},
   "outputs": [
    {
     "data": {
      "image/png": "[encoded data removed]",
      "text/plain": [
       "<Figure size 432x288 with 1 Axes>"
      ]
     },
     "metadata": {
      "needs_background": "light"
     },
     "output_type": "display_data"
    }
   ],
   "source": [
    "#img = mpimg.imread('book1.jpg')\n",
    "img = mpimg.imread('image1.jpg')\n",
    "imgplot = plt.imshow(img)\n",
    "plt.show()"
   ]
  },
  {
   "cell_type": "code",
   "execution_count": 89,
   "metadata": {},
   "outputs": [
    {
     "data": {
      "text/html": [
       "<table border=\"1\" class=\"dataframe\">\n",
       "  <thead>\n",
       "    <tr style=\"text-align: right;\">\n",
       "      <th></th>\n",
       "      <th>Title</th>\n",
       "      <th>Cover</th>\n",
       "    </tr>\n",
       "  </thead>\n",
       "  <tbody>\n",
       "    <tr>\n",
       "      <th>0</th>\n",
       "      <td>A Light in the Attic</td>\n",
       "      <td><img src=\"book1.jpg\"/></td>\n",
       "    </tr>\n",
       "  </tbody>\n",
       "</table>"
      ],
      "text/plain": [
       "<IPython.core.display.HTML object>"
      ]
     },
     "execution_count": 89,
     "metadata": {},
     "output_type": "execute_result"
    }
   ],
   "source": [
    "#\n",
    "# import pandas as pd\n",
    "# from IPython.display import Image, HTML\n",
    "# row_1 = [example.attrs['alt'], '<img src=\"book1.jpg\"/>']\n",
    "# df = pd.DataFrame(row_1).transpose()\n",
    "# df.columns = ['Title', 'Cover']\n",
    "# HTML(df.to_html(escape=False))"
   ]
  },
  {
   "cell_type": "code",
   "execution_count": null,
   "metadata": {},
   "outputs": [],
   "source": []
  },
  {
   "cell_type": "code",
   "execution_count": 207,
   "metadata": {
    "tags": []
   },
   "outputs": [],
   "source": [
    "chunk_size = 5000\n",
    "chunks = [x for x in range(0, df_merge_new_in.shape[0], chunk_size)]\n",
    "\n",
    "df_merge_pivot = pd.concat([df_merge_new_in.iloc[ chunks[i]:chunks[i + 1] - 1 ].pivot_table(index='title', columns='reviewerID', values='overall') for i in range(0, len(chunks) - 1)])"
   ]
  },
  {
   "cell_type": "code",
   "execution_count": 208,
   "metadata": {},
   "outputs": [],
   "source": [
    "df_merge_pivot.fillna(0, inplace=True)"
   ]
  },
  {
   "cell_type": "code",
   "execution_count": 209,
   "metadata": {},
   "outputs": [],
   "source": [
    "df_merge_matrix = csr_matrix(df_merge_pivot)\n",
    "df_merge_matrix.todense()\n",
    "scipy.sparse.save_npz('data/sparse_matrix_with_URL.npz', df_merge_matrix)"
   ]
  },
  {
   "cell_type": "code",
   "execution_count": 210,
   "metadata": {},
   "outputs": [
    {
     "data": {
      "text/plain": [
       "<21908x164123 sparse matrix of type '<class 'numpy.float64'>'\n",
       "\twith 394921 stored elements in Compressed Sparse Row format>"
      ]
     },
     "execution_count": 210,
     "metadata": {},
     "output_type": "execute_result"
    }
   ],
   "source": [
    "#df_merge_matrix = csr_matrix(df_merge_pivot)\n",
    "sparse_matrix = scipy.sparse.load_npz('data/sparse_matrix_with_URL.npz')\n",
    "sparse_matrix"
   ]
  },
  {
   "cell_type": "code",
   "execution_count": 211,
   "metadata": {},
   "outputs": [
    {
     "data": {
      "text/plain": [
       "NearestNeighbors(algorithm='brute', metric='cosine')"
      ]
     },
     "execution_count": 211,
     "metadata": {},
     "output_type": "execute_result"
    }
   ],
   "source": [
    "model_knn = NearestNeighbors(metric='cosine', algorithm='brute')\n",
    "#model_knn = NearestNeighbors(metric='cosine', algorithm='ball_tree')\n",
    "model_knn.fit(sparse_matrix)"
   ]
  },
  {
   "cell_type": "code",
   "execution_count": 215,
   "metadata": {},
   "outputs": [],
   "source": [
    "distances, indices = model_knn.kneighbors(df_merge_pivot.loc[\"Harry Potter And The Goblet Of Fire\", :].values.reshape(1, -1))"
   ]
  },
  {
   "cell_type": "code",
   "execution_count": 350,
   "metadata": {},
   "outputs": [],
   "source": [
    "# Recommender from user ratings - collaborative filtering. pivot table + NearestNeighbors\n",
    "def book_recommender(string):\n",
    "    \n",
    "    title = df_merge_pivot[df_merge_pivot.index.str.contains(string)].index[0]\n",
    "    \n",
    "    distances, indices = model_knn.kneighbors(df_merge_pivot.loc[title, :].values.reshape(1, -1), n_neighbors=21908)\n",
    "    titles = df_merge_pivot.index[np.array(indices.flatten())]\n",
    "    \n",
    "    return titles, distances.flatten()\n",
    "    # for i in range(0, len(distances.flatten())):\n",
    "    #     if i == 0:\n",
    "    #         print(f'Recommendations for {title}:')\n",
    "    #     else:\n",
    "    #         #print('{0}: {1}, with distance of {2}:'.format(i, df_merge_pivot.index[indices.flatten()[i]], distances.flatten()[i]))\n",
    "    #         print(f\"{i}: {df_merge_pivot.index[indices.flatten()[i]]}, with distance of {distances.flatten()[i]}\")"
   ]
  },
  {
   "cell_type": "code",
   "execution_count": 351,
   "metadata": {},
   "outputs": [],
   "source": [
    "bambi_rec_collab = book_recommender(\"Bambi\")"
   ]
  },
  {
   "cell_type": "code",
   "execution_count": 352,
   "metadata": {},
   "outputs": [
    {
     "data": {
      "text/plain": [
       "(Index(['Bambi (Disney Classic) (Little Golden Book)',\n",
       "        'Lady and the Tramp (Disney Lady and the Tramp) (Little Golden Book)',\n",
       "        'Phineas and Ferb: Runaway Hit',\n",
       "        'Dumbo (Disney Classic) (Little Golden Book)',\n",
       "        'Toy Story 3 (Disney/Pixar Toy Story 3) (Little Golden Book)',\n",
       "        'Monsters University Little Golden Book (Disney/Pixar Monsters University)',\n",
       "        'Carl Goes Shopping', 'The Pop-Up Mice of Mr. Brice',\n",
       "        'Spider-Man: Spider-Man versus the Vulture (Spider-Man: I Can Read. Level 2)',\n",
       "        'Cars 2 Little Golden Book (Disney/Pixar Cars 2)',\n",
       "        ...\n",
       "        'The Guys of Twilight (Unauthorized Scrapbook)',\n",
       "        'The Greedy Triangle (Scholastic Bookshelf)',\n",
       "        'The Girls' Book: How to Be the Best at Everything',\n",
       "        'The Girls' Book of Excellence: Even More Ways to Be the Best at Everything',\n",
       "        'The Girls' Book Of Glamour (Guide To Being A Goddess)',\n",
       "        'The Giant Diamond Robbery (Geronimo Stilton, No. 44)',\n",
       "        'The Ghosts Of Ashbury High',\n",
       "        'The Games Book: How to Play the Games of Yesterday (Best at Everything)',\n",
       "        'The Gym Teacher from the Black Lagoon',\n",
       "        'cuento infantiles : Andy Caramelo (descubrir como comer saludable) (libros en espaol para nios) (cuentos de nios n 1) (Spanish Edition) - Kindle edition'],\n",
       "       dtype='object', name='title', length=21908),\n",
       " array([1.11022302e-16, 7.76847969e-01, 7.93310771e-01, ...,\n",
       "        1.00000000e+00, 1.00000000e+00, 1.00000000e+00]))"
      ]
     },
     "execution_count": 352,
     "metadata": {},
     "output_type": "execute_result"
    }
   ],
   "source": [
    "bambi_rec_collab"
   ]
  },
  {
   "cell_type": "code",
   "execution_count": 18,
   "metadata": {},
   "outputs": [],
   "source": [
    "df_merge_review_URL = pd.read_csv('data/df_merge_review_title_with_URL.csv')"
   ]
  },
  {
   "cell_type": "code",
   "execution_count": 48,
   "metadata": {},
   "outputs": [],
   "source": [
    "class DictEncoder(base.BaseEstimator, base.TransformerMixin):\n",
    "    \n",
    "    def __init__(self, col):\n",
    "        self.col = col\n",
    "    \n",
    "    def fit(self, X, y=None):\n",
    "        return self\n",
    "    \n",
    "    def transform(self, X):\n",
    "        \n",
    "        def to_dict(l):\n",
    "            try:\n",
    "                return {x: 1 for x in l}\n",
    "            except TypeError:\n",
    "                return {}\n",
    "        \n",
    "        return X[self.col].apply(to_dict)"
   ]
  },
  {
   "cell_type": "code",
   "execution_count": 49,
   "metadata": {},
   "outputs": [],
   "source": [
    "merge_review_pipe = Pipeline([\n",
    "    ('encoder', DictEncoder('reviewText')),\n",
    "    ('vectorizer', DictVectorizer())\n",
    "])\n",
    "merge_desc_pipe = Pipeline([\n",
    "    ('encoder', DictEncoder('description')),\n",
    "    ('vectorizer', DictVectorizer())\n",
    "])"
   ]
  },
  {
   "cell_type": "code",
   "execution_count": 330,
   "metadata": {
    "tags": []
   },
   "outputs": [],
   "source": [
    "# Recommender using reviewText and description for each book. vectorizer + FeatureUnion + NearestNeighbors\n",
    "def book_recommender_text_features(w1, w2, string):\n",
    "    \"\"\"\n",
    "    book recommendation system using\n",
    "    w1: weight for review feature\n",
    "    w2: weight for description feature\n",
    "    string: substring of a title\n",
    "    \"\"\"\n",
    "    union_merge = FeatureUnion([('reviewText', merge_review_pipe),\n",
    "                      ('description', merge_desc_pipe)],\n",
    "                    transformer_weights={\n",
    "            'reviewText': w1,\n",
    "            'description': w2\n",
    "        })\n",
    "    features_merge_review = union_merge.fit_transform(df_merge_review_URL)\n",
    "    \n",
    "    union_merge_review_model = NearestNeighbors(metric='cosine', algorithm='brute')\n",
    "    union_merge_review_model.fit(features_merge_review)\n",
    "    \n",
    "    index1 = df_merge_review[df_merge_review.title.str.contains(string)].index[0]\n",
    "    title1 = df_merge_review[df_merge_review.title.str.contains(string)]['title'].values[0]\n",
    "    \n",
    "    #distances, indices = union_merge_review_model.kneighbors(features_merge_review[index1], n_neighbors=6)\n",
    "    distances, indices = union_merge_review_model.kneighbors(features_merge_review[index1], n_neighbors=df_merge_review_URL.shape[0])\n",
    "    titles = df_merge_review['title'][df_merge_review.index[np.array(indices.flatten())]].tolist()\n",
    "    #print(titles)\n",
    "    \n",
    "    #return distances, indices, titles\n",
    "    return titles, distances.flatten()\n",
    "    # for i in range(0, len(distances.flatten())):\n",
    "    #     if i == 0:\n",
    "    #         print(f\"Recommendations for {title1}\")\n",
    "    #     else:\n",
    "    #         print(f\"{i}: {df_merge_review['title'][df_merge_review.index[indices.flatten()[i]]]}, with distance of {distances.flatten()[i]}\")"
   ]
  },
  {
   "cell_type": "code",
   "execution_count": 166,
   "metadata": {},
   "outputs": [
    {
     "data": {
      "text/html": [
       "<div>\n",
       "<style scoped>\n",
       "    .dataframe tbody tr th:only-of-type {\n",
       "        vertical-align: middle;\n",
       "    }\n",
       "\n",
       "    .dataframe tbody tr th {\n",
       "        vertical-align: top;\n",
       "    }\n",
       "\n",
       "    .dataframe thead th {\n",
       "        text-align: right;\n",
       "    }\n",
       "</style>\n",
       "<table border=\"1\" class=\"dataframe\">\n",
       "  <thead>\n",
       "    <tr style=\"text-align: right;\">\n",
       "      <th></th>\n",
       "      <th>asin</th>\n",
       "      <th>reviewText</th>\n",
       "      <th>description</th>\n",
       "      <th>overall</th>\n",
       "      <th>title</th>\n",
       "    </tr>\n",
       "  </thead>\n",
       "  <tbody>\n",
       "    <tr>\n",
       "      <th>9647</th>\n",
       "      <td>0736423087</td>\n",
       "      <td>I remember being inconsolable when - as a 5 ye...</td>\n",
       "      <td>\"Beautiful artwork from the 1940s stunningly i...</td>\n",
       "      <td>4.571429</td>\n",
       "      <td>Bambi (Disney Classic) (Little Golden Book)</td>\n",
       "    </tr>\n",
       "    <tr>\n",
       "      <th>20168</th>\n",
       "      <td>1616366494</td>\n",
       "      <td>We love this book, the illustrations, the stor...</td>\n",
       "      <td>'', '', '', '', '', '</td>\n",
       "      <td>5.000000</td>\n",
       "      <td>Bambinelli Sunday: A Christmas Blessing</td>\n",
       "    </tr>\n",
       "  </tbody>\n",
       "</table>\n",
       "</div>"
      ],
      "text/plain": [
       "             asin                                         reviewText  \\\n",
       "9647   0736423087  I remember being inconsolable when - as a 5 ye...   \n",
       "20168  1616366494  We love this book, the illustrations, the stor...   \n",
       "\n",
       "                                             description   overall  \\\n",
       "9647   \"Beautiful artwork from the 1940s stunningly i...  4.571429   \n",
       "20168                              '', '', '', '', '', '  5.000000   \n",
       "\n",
       "                                             title  \n",
       "9647   Bambi (Disney Classic) (Little Golden Book)  \n",
       "20168      Bambinelli Sunday: A Christmas Blessing  "
      ]
     },
     "execution_count": 166,
     "metadata": {},
     "output_type": "execute_result"
    }
   ],
   "source": [
    "df_merge_review[df_merge_review.title.str.contains(\"Bambi\")]"
   ]
  },
  {
   "cell_type": "code",
   "execution_count": 331,
   "metadata": {},
   "outputs": [],
   "source": [
    "bambi_rec_vect = book_recommender_text_features(0.2, 1, \"Bambi\")"
   ]
  },
  {
   "cell_type": "code",
   "execution_count": 341,
   "metadata": {},
   "outputs": [],
   "source": [
    "def to_dataframe(rec_tuple):\n",
    "    df = pd.DataFrame(rec_tuple).T\n",
    "    df.columns = [\"title\", \"distance\"]\n",
    "    return df"
   ]
  },
  {
   "cell_type": "code",
   "execution_count": 345,
   "metadata": {},
   "outputs": [
    {
     "data": {
      "text/html": [
       "<div>\n",
       "<style scoped>\n",
       "    .dataframe tbody tr th:only-of-type {\n",
       "        vertical-align: middle;\n",
       "    }\n",
       "\n",
       "    .dataframe tbody tr th {\n",
       "        vertical-align: top;\n",
       "    }\n",
       "\n",
       "    .dataframe thead th {\n",
       "        text-align: right;\n",
       "    }\n",
       "</style>\n",
       "<table border=\"1\" class=\"dataframe\">\n",
       "  <thead>\n",
       "    <tr style=\"text-align: right;\">\n",
       "      <th></th>\n",
       "      <th>title</th>\n",
       "      <th>distance</th>\n",
       "    </tr>\n",
       "  </thead>\n",
       "  <tbody>\n",
       "    <tr>\n",
       "      <th>0</th>\n",
       "      <td>Bambi (Disney Classic) (Little Golden Book)</td>\n",
       "      <td>1.11022e-15</td>\n",
       "    </tr>\n",
       "    <tr>\n",
       "      <th>1</th>\n",
       "      <td>The Three Little Pigs (Disney Classic) (Little...</td>\n",
       "      <td>0.0429318</td>\n",
       "    </tr>\n",
       "    <tr>\n",
       "      <th>2</th>\n",
       "      <td>Pinocchio (Disney Classic) (Little Golden Book)</td>\n",
       "      <td>0.0658934</td>\n",
       "    </tr>\n",
       "    <tr>\n",
       "      <th>3</th>\n",
       "      <td>Dumbo (Disney Classic) (Little Golden Book)</td>\n",
       "      <td>0.0683234</td>\n",
       "    </tr>\n",
       "    <tr>\n",
       "      <th>4</th>\n",
       "      <td>What Really Happened to the Dinosaurs? (DJ and...</td>\n",
       "      <td>0.118022</td>\n",
       "    </tr>\n",
       "    <tr>\n",
       "      <th>...</th>\n",
       "      <td>...</td>\n",
       "      <td>...</td>\n",
       "    </tr>\n",
       "    <tr>\n",
       "      <th>21946</th>\n",
       "      <td>Big Trucks</td>\n",
       "      <td>0.822898</td>\n",
       "    </tr>\n",
       "    <tr>\n",
       "      <th>21947</th>\n",
       "      <td>I Love You Book - I Love You Because You&amp;#39;r...</td>\n",
       "      <td>0.82369</td>\n",
       "    </tr>\n",
       "    <tr>\n",
       "      <th>21948</th>\n",
       "      <td>Seby The Dino : Rhyming Images Book For kids -...</td>\n",
       "      <td>0.825624</td>\n",
       "    </tr>\n",
       "    <tr>\n",
       "      <th>21949</th>\n",
       "      <td>The Animal Collection - Kindle edition</td>\n",
       "      <td>0.827167</td>\n",
       "    </tr>\n",
       "    <tr>\n",
       "      <th>21950</th>\n",
       "      <td>Bedtime Stories: Danny and Lampert the King of...</td>\n",
       "      <td>0.828875</td>\n",
       "    </tr>\n",
       "  </tbody>\n",
       "</table>\n",
       "<p>21951 rows × 2 columns</p>\n",
       "</div>"
      ],
      "text/plain": [
       "                                                   title     distance\n",
       "0            Bambi (Disney Classic) (Little Golden Book)  1.11022e-15\n",
       "1      The Three Little Pigs (Disney Classic) (Little...    0.0429318\n",
       "2        Pinocchio (Disney Classic) (Little Golden Book)    0.0658934\n",
       "3            Dumbo (Disney Classic) (Little Golden Book)    0.0683234\n",
       "4      What Really Happened to the Dinosaurs? (DJ and...     0.118022\n",
       "...                                                  ...          ...\n",
       "21946                                         Big Trucks     0.822898\n",
       "21947  I Love You Book - I Love You Because You&#39;r...      0.82369\n",
       "21948  Seby The Dino : Rhyming Images Book For kids -...     0.825624\n",
       "21949             The Animal Collection - Kindle edition     0.827167\n",
       "21950  Bedtime Stories: Danny and Lampert the King of...     0.828875\n",
       "\n",
       "[21951 rows x 2 columns]"
      ]
     },
     "execution_count": 345,
     "metadata": {},
     "output_type": "execute_result"
    }
   ],
   "source": [
    "to_dataframe(bambi_rec_vect)"
   ]
  },
  {
   "cell_type": "code",
   "execution_count": 353,
   "metadata": {},
   "outputs": [
    {
     "data": {
      "text/html": [
       "<div>\n",
       "<style scoped>\n",
       "    .dataframe tbody tr th:only-of-type {\n",
       "        vertical-align: middle;\n",
       "    }\n",
       "\n",
       "    .dataframe tbody tr th {\n",
       "        vertical-align: top;\n",
       "    }\n",
       "\n",
       "    .dataframe thead th {\n",
       "        text-align: right;\n",
       "    }\n",
       "</style>\n",
       "<table border=\"1\" class=\"dataframe\">\n",
       "  <thead>\n",
       "    <tr style=\"text-align: right;\">\n",
       "      <th></th>\n",
       "      <th>title</th>\n",
       "      <th>distance</th>\n",
       "    </tr>\n",
       "  </thead>\n",
       "  <tbody>\n",
       "    <tr>\n",
       "      <th>0</th>\n",
       "      <td>Bambi (Disney Classic) (Little Golden Book)</td>\n",
       "      <td>1.11022e-16</td>\n",
       "    </tr>\n",
       "    <tr>\n",
       "      <th>1</th>\n",
       "      <td>Lady and the Tramp (Disney Lady and the Tramp)...</td>\n",
       "      <td>0.776848</td>\n",
       "    </tr>\n",
       "    <tr>\n",
       "      <th>2</th>\n",
       "      <td>Phineas and Ferb: Runaway Hit</td>\n",
       "      <td>0.793311</td>\n",
       "    </tr>\n",
       "    <tr>\n",
       "      <th>3</th>\n",
       "      <td>Dumbo (Disney Classic) (Little Golden Book)</td>\n",
       "      <td>0.818905</td>\n",
       "    </tr>\n",
       "    <tr>\n",
       "      <th>4</th>\n",
       "      <td>Toy Story 3 (Disney/Pixar Toy Story 3) (Little...</td>\n",
       "      <td>0.819813</td>\n",
       "    </tr>\n",
       "    <tr>\n",
       "      <th>...</th>\n",
       "      <td>...</td>\n",
       "      <td>...</td>\n",
       "    </tr>\n",
       "    <tr>\n",
       "      <th>21903</th>\n",
       "      <td>The Giant Diamond Robbery (Geronimo Stilton, N...</td>\n",
       "      <td>1</td>\n",
       "    </tr>\n",
       "    <tr>\n",
       "      <th>21904</th>\n",
       "      <td>The Ghosts Of Ashbury High</td>\n",
       "      <td>1</td>\n",
       "    </tr>\n",
       "    <tr>\n",
       "      <th>21905</th>\n",
       "      <td>The Games Book: How to Play the Games of Yeste...</td>\n",
       "      <td>1</td>\n",
       "    </tr>\n",
       "    <tr>\n",
       "      <th>21906</th>\n",
       "      <td>The Gym Teacher from the Black Lagoon</td>\n",
       "      <td>1</td>\n",
       "    </tr>\n",
       "    <tr>\n",
       "      <th>21907</th>\n",
       "      <td>cuento infantiles : Andy Caramelo (descubrir c...</td>\n",
       "      <td>1</td>\n",
       "    </tr>\n",
       "  </tbody>\n",
       "</table>\n",
       "<p>21908 rows × 2 columns</p>\n",
       "</div>"
      ],
      "text/plain": [
       "                                                   title     distance\n",
       "0            Bambi (Disney Classic) (Little Golden Book)  1.11022e-16\n",
       "1      Lady and the Tramp (Disney Lady and the Tramp)...     0.776848\n",
       "2                          Phineas and Ferb: Runaway Hit     0.793311\n",
       "3            Dumbo (Disney Classic) (Little Golden Book)     0.818905\n",
       "4      Toy Story 3 (Disney/Pixar Toy Story 3) (Little...     0.819813\n",
       "...                                                  ...          ...\n",
       "21903  The Giant Diamond Robbery (Geronimo Stilton, N...            1\n",
       "21904                         The Ghosts Of Ashbury High            1\n",
       "21905  The Games Book: How to Play the Games of Yeste...            1\n",
       "21906              The Gym Teacher from the Black Lagoon            1\n",
       "21907  cuento infantiles : Andy Caramelo (descubrir c...            1\n",
       "\n",
       "[21908 rows x 2 columns]"
      ]
     },
     "execution_count": 353,
     "metadata": {},
     "output_type": "execute_result"
    }
   ],
   "source": [
    "to_dataframe(bambi_rec_collab)"
   ]
  },
  {
   "cell_type": "code",
   "execution_count": 283,
   "metadata": {},
   "outputs": [],
   "source": [
    "def create_list(rec_list):\n",
    "    list_ = []\n",
    "    for i in range(len(rec_list[0].flatten())):\n",
    "        dist_ind = rec_list[0][0][i], rec_list[2][i]\n",
    "        list_.append(dist_ind)\n",
    "    return list_"
   ]
  },
  {
   "cell_type": "code",
   "execution_count": 270,
   "metadata": {},
   "outputs": [],
   "source": [
    "#sorted(create_list(bambi_rec_vect), key=lambda x: x[1])"
   ]
  },
  {
   "cell_type": "code",
   "execution_count": 282,
   "metadata": {},
   "outputs": [
    {
     "data": {
      "text/plain": [
       "21908"
      ]
     },
     "execution_count": 282,
     "metadata": {},
     "output_type": "execute_result"
    }
   ],
   "source": [
    "len(bambi_rec_collab[0].flatten())"
   ]
  },
  {
   "cell_type": "code",
   "execution_count": 286,
   "metadata": {},
   "outputs": [],
   "source": [
    "#sorted(create_list(bambi_rec_collab), key=lambda x:x[1])"
   ]
  },
  {
   "cell_type": "code",
   "execution_count": 162,
   "metadata": {},
   "outputs": [
    {
     "data": {
      "text/plain": [
       "21951"
      ]
     },
     "execution_count": 162,
     "metadata": {},
     "output_type": "execute_result"
    }
   ],
   "source": [
    "df_merge_review_URL.shape[0]"
   ]
  },
  {
   "cell_type": "code",
   "execution_count": 163,
   "metadata": {},
   "outputs": [
    {
     "data": {
      "text/plain": [
       "21951"
      ]
     },
     "execution_count": 163,
     "metadata": {},
     "output_type": "execute_result"
    }
   ],
   "source": [
    "len(bambi_rec_wv_sort)"
   ]
  },
  {
   "cell_type": "code",
   "execution_count": 129,
   "metadata": {},
   "outputs": [],
   "source": [
    "list_collab = []\n",
    "for i in range(21908):\n",
    "    dist_ind = bambi_rec_collab[0][0][i],  bambi_rec_collab[1][0][i]\n",
    "    list_collab.append(dist_ind)"
   ]
  },
  {
   "cell_type": "code",
   "execution_count": 136,
   "metadata": {},
   "outputs": [],
   "source": [
    "# list_vect, list_collab, bambi_rec_wv -> list of (index, ie.distances)"
   ]
  },
  {
   "cell_type": "code",
   "execution_count": 141,
   "metadata": {},
   "outputs": [],
   "source": [
    "bambi_rec_vect_sort = sorted(list_vect, key=lambda x: x[1])\n",
    "bambi_rec_collab_sort = sorted(list_collab, key=lambda x:x[1])\n",
    "bambi_rec_wv_sort = sorted(bambi_rec_wv, key=lambda x:x[0])"
   ]
  },
  {
   "cell_type": "code",
   "execution_count": 148,
   "metadata": {},
   "outputs": [],
   "source": [
    "metric_tot = [bambi_rec_vect_sort[i][0] + bambi_rec_collab_sort[i][0] + bambi_rec_wv_sort[i][1] for i in range(21908)]"
   ]
  },
  {
   "cell_type": "code",
   "execution_count": 158,
   "metadata": {},
   "outputs": [],
   "source": [
    "ind_final = np.argsort(metric_tot)[:6]"
   ]
  },
  {
   "cell_type": "code",
   "execution_count": 161,
   "metadata": {},
   "outputs": [
    {
     "name": "stdout",
     "output_type": "stream",
     "text": [
      "Recommendations for Bambi\n",
      "1: Bambi (Disney Classic) (Little Golden Book)\n",
      "2: Child Of Her Heart (Logan's Legacy)\n",
      "3: Holiday With a Vampire: Christmas Cravings/Fate Calls (Harlequin Nocturne)\n",
      "4: The Berenstain Bears' New Baby\n",
      "5: Richard Scarry's Please and Thank You Book (Pictureback(R))\n"
     ]
    }
   ],
   "source": [
    "for i in range(6):\n",
    "        if i == 0:\n",
    "            print(f\"Recommendations for Bambi\")\n",
    "        else:\n",
    "            print(f\"{i}: {df_merge_review['title'][df_merge_review.index[ind_final.flatten()[i]]]}\")"
   ]
  },
  {
   "cell_type": "code",
   "execution_count": null,
   "metadata": {},
   "outputs": [],
   "source": [
    "def combined_model(w_collab, w_vect_desc, w_vect_review, w_feature_union, w_wv, string, n_rec):\n",
    "    rec_collab = book_recommender(string)\n",
    "    rec_vect = book_recommender_text_features(w_vect_desc, w_vect_review, string)\n",
    "    rec_wv = book_recommender_wv(string)\n",
    "    \n",
    "    metric = w_collab * rec_collab + w_feature_union * rec_vect + w_wv * rec_wv\n",
    "    \n",
    "    ind_f = np.argsort(metric)[:n_rec]\n",
    "    \n",
    "    for i in range(n_rec):\n",
    "        if i == 0:\n",
    "            print(f\"Recommendations for {title}\")\n",
    "        else:\n",
    "            print(f\"{i}: {df_merge_review['title'][df_merge_review.index[ind_final.flatten()[i]]]}\")\n",
    "        \n",
    "    "
   ]
  },
  {
   "cell_type": "code",
   "execution_count": 21,
   "metadata": {},
   "outputs": [],
   "source": [
    "#df_merge_review = pd.read_csv('data/df_merge_review_title.csv')"
   ]
  },
  {
   "cell_type": "code",
   "execution_count": 37,
   "metadata": {},
   "outputs": [
    {
     "name": "stdout",
     "output_type": "stream",
     "text": [
      "Shape of feature matrix: (21951, 100, 30)\n"
     ]
    }
   ],
   "source": [
    "w2v_review_each_book = Word2Vec.load('combined_review_children_books_w2v.model')\n",
    "\n",
    "def vectorize_combined_reviews(data, maxlen=100, embedding_dim=30):\n",
    "    \"\"\"\n",
    "    Returns a 3D array of shape\n",
    "    n reviews x maxlen x embedding_dim. \n",
    "    \"\"\"\n",
    "    # Create empty array\n",
    "    vectorized_data = np.zeros(shape=(len(data), maxlen, embedding_dim))\n",
    "    \n",
    "    for row, review in enumerate(data):\n",
    "        # Preprocess each review\n",
    "        tokens = simple_preprocess(review)\n",
    "        \n",
    "        # Truncate long reviews\n",
    "        if len(tokens) > maxlen:\n",
    "            tokens = tokens[:maxlen]\n",
    "        \n",
    "        # Get vector for each token in review\n",
    "        for col, token in enumerate(tokens):\n",
    "            try:\n",
    "                word_vector = w2v_review_each_book.wv[token]\n",
    "                # Add vector to array\n",
    "                vectorized_data[row, col] = word_vector[:embedding_dim]\n",
    "            except KeyError:\n",
    "                pass\n",
    "    \n",
    "    return vectorized_data\n",
    "\n",
    "maxlen = 100        # Our predetermined limit\n",
    "embedding_dim = 30 # The first 30 values in our w2v vectors\n",
    "\n",
    "X = vectorize_combined_reviews(df_merge_review_URL.reviewText, maxlen, embedding_dim)\n",
    "\n",
    "print('Shape of feature matrix:', X.shape)"
   ]
  },
  {
   "cell_type": "code",
   "execution_count": 38,
   "metadata": {},
   "outputs": [],
   "source": [
    "# calculate mean of vectors for each book\n",
    "average_vec = []\n",
    "\n",
    "for i in range(len(X)):\n",
    "    average = np.mean(X[i], axis=0)\n",
    "    average_vec.append(average)"
   ]
  },
  {
   "cell_type": "code",
   "execution_count": 409,
   "metadata": {},
   "outputs": [],
   "source": [
    "# Recommending the Top 5 similar books\n",
    "\n",
    "def recommendations_wv(string):\n",
    "    # finding cosine similarity for the vectors\n",
    "    cosine_similarities = cosine_similarity(average_vec, average_vec)\n",
    "    #print(type(cosine_similarities))\n",
    "    \n",
    "    #title\n",
    "    #books = df_merge_review_URL[['title']]\n",
    "    #print(books)\n",
    "    #Reverse mapping of the index\n",
    "    indices = pd.Series(df_merge_review_URL.index, index = df_merge_review_URL['title']).drop_duplicates()\n",
    "    #print(indices)\n",
    "    \n",
    "    title = df_merge_review_URL[df_merge_review_URL.title.str.contains(string) == True].index[0]\n",
    "    idx = indices[title]\n",
    "    #print(title, idx) # title == idx?\n",
    "    # sim_scores = list(enumerate(cosine_similarities[idx]))\n",
    "    # sim_scores = sorted(sim_scores, key = lambda x: x[1], reverse = True)\n",
    "    sim_scores = list(enumerate(1-cosine_similarities[idx]))\n",
    "    #print(sim_scores)\n",
    "    ##sim_scores = sorted(sim_scores, key = lambda x: x[1])\n",
    "    #print(sim_scores)\n",
    "    titles = df_merge_review_URL['title'][df_merge_review_URL.index[np.array(indices)]].tolist()\n",
    "    #sim_scores = sim_scores[1:6]\n",
    "    return titles, sim_scores\n",
    "#     book_indices = [i[0] for i in sim_scores]\n",
    "#     recommend = books.iloc[book_indices]\n",
    "#     #print(recommend, len(recommend))\n",
    "#     for index, row in recommend.iterrows():\n",
    "#         print(row['title'], index, row)\n",
    "        \n",
    "#     return np.min(cosine_similarities), np.max(cosine_similarities)"
   ]
  },
  {
   "cell_type": "code",
   "execution_count": 410,
   "metadata": {},
   "outputs": [],
   "source": [
    "bambi_rec_wv = recommendations_wv(\"Bambi\")"
   ]
  },
  {
   "cell_type": "code",
   "execution_count": 408,
   "metadata": {},
   "outputs": [],
   "source": [
    "#bambi_rec_wv"
   ]
  },
  {
   "cell_type": "code",
   "execution_count": 411,
   "metadata": {},
   "outputs": [],
   "source": [
    "def to_dataframe(rec_tuple):\n",
    "    df = pd.DataFrame(rec_tuple).T\n",
    "    df.columns = [\"title\", \"distance\"]\n",
    "    return df"
   ]
  },
  {
   "cell_type": "code",
   "execution_count": 412,
   "metadata": {},
   "outputs": [],
   "source": [
    "df_wv = to_dataframe(bambi_rec_wv)"
   ]
  },
  {
   "cell_type": "code",
   "execution_count": 413,
   "metadata": {},
   "outputs": [],
   "source": [
    "df_wv['distance'] = df_wv['distance'].str[1]"
   ]
  },
  {
   "cell_type": "code",
   "execution_count": 414,
   "metadata": {},
   "outputs": [
    {
     "data": {
      "text/html": [
       "<div>\n",
       "<style scoped>\n",
       "    .dataframe tbody tr th:only-of-type {\n",
       "        vertical-align: middle;\n",
       "    }\n",
       "\n",
       "    .dataframe tbody tr th {\n",
       "        vertical-align: top;\n",
       "    }\n",
       "\n",
       "    .dataframe thead th {\n",
       "        text-align: right;\n",
       "    }\n",
       "</style>\n",
       "<table border=\"1\" class=\"dataframe\">\n",
       "  <thead>\n",
       "    <tr style=\"text-align: right;\">\n",
       "      <th></th>\n",
       "      <th>title</th>\n",
       "      <th>distance</th>\n",
       "    </tr>\n",
       "  </thead>\n",
       "  <tbody>\n",
       "    <tr>\n",
       "      <th>0</th>\n",
       "      <td>The Berenstains' B Book (Bright &amp;amp; Early Bo...</td>\n",
       "      <td>0.148870</td>\n",
       "    </tr>\n",
       "    <tr>\n",
       "      <th>1</th>\n",
       "      <td>The Berenstain Bears On the Moon (Bright and E...</td>\n",
       "      <td>0.232019</td>\n",
       "    </tr>\n",
       "    <tr>\n",
       "      <th>2</th>\n",
       "      <td>On the Edge of Darkness</td>\n",
       "      <td>0.234494</td>\n",
       "    </tr>\n",
       "    <tr>\n",
       "      <th>3</th>\n",
       "      <td>Dust</td>\n",
       "      <td>0.207238</td>\n",
       "    </tr>\n",
       "    <tr>\n",
       "      <th>4</th>\n",
       "      <td>Shikasta : Re-Colonised Planet 5</td>\n",
       "      <td>0.193065</td>\n",
       "    </tr>\n",
       "    <tr>\n",
       "      <th>...</th>\n",
       "      <td>...</td>\n",
       "      <td>...</td>\n",
       "    </tr>\n",
       "    <tr>\n",
       "      <th>21946</th>\n",
       "      <td>Knock Knock Jokes (M. Joe King&amp;#39;s Knock Kno...</td>\n",
       "      <td>0.258456</td>\n",
       "    </tr>\n",
       "    <tr>\n",
       "      <th>21947</th>\n",
       "      <td>Horribly Ever After eBook</td>\n",
       "      <td>0.222594</td>\n",
       "    </tr>\n",
       "    <tr>\n",
       "      <th>21948</th>\n",
       "      <td>Our Beautiful Child eBook</td>\n",
       "      <td>0.281188</td>\n",
       "    </tr>\n",
       "    <tr>\n",
       "      <th>21949</th>\n",
       "      <td>Legends of The Vengeance: The First Adventure ...</td>\n",
       "      <td>0.276771</td>\n",
       "    </tr>\n",
       "    <tr>\n",
       "      <th>21950</th>\n",
       "      <td>Soccer</td>\n",
       "      <td>0.226859</td>\n",
       "    </tr>\n",
       "  </tbody>\n",
       "</table>\n",
       "<p>21951 rows × 2 columns</p>\n",
       "</div>"
      ],
      "text/plain": [
       "                                                   title  distance\n",
       "0      The Berenstains' B Book (Bright &amp; Early Bo...  0.148870\n",
       "1      The Berenstain Bears On the Moon (Bright and E...  0.232019\n",
       "2                                On the Edge of Darkness  0.234494\n",
       "3                                                   Dust  0.207238\n",
       "4                       Shikasta : Re-Colonised Planet 5  0.193065\n",
       "...                                                  ...       ...\n",
       "21946  Knock Knock Jokes (M. Joe King&#39;s Knock Kno...  0.258456\n",
       "21947                          Horribly Ever After eBook  0.222594\n",
       "21948                          Our Beautiful Child eBook  0.281188\n",
       "21949  Legends of The Vengeance: The First Adventure ...  0.276771\n",
       "21950                                            Soccer   0.226859\n",
       "\n",
       "[21951 rows x 2 columns]"
      ]
     },
     "execution_count": 414,
     "metadata": {},
     "output_type": "execute_result"
    }
   ],
   "source": [
    "df_wv"
   ]
  },
  {
   "cell_type": "code",
   "execution_count": null,
   "metadata": {},
   "outputs": [],
   "source": [
    "asin_list = df_merge_review_URL[\"asin\"].tolist()"
   ]
  },
  {
   "cell_type": "code",
   "execution_count": 115,
   "metadata": {},
   "outputs": [],
   "source": [
    "img_urls = [f\"http://images.amazon.com/images/P/{asin}.01._PE30_PI_SCMZZZZZZZ_.jpg\" for asin in asin_list]"
   ]
  },
  {
   "cell_type": "code",
   "execution_count": null,
   "metadata": {},
   "outputs": [],
   "source": [
    "for i, asin in enumerate(asin_list):\n",
    "    response = requests.get(img_urls[i], stream=True)\n",
    "\n",
    "    if response.status_code == 200:\n",
    "        with open(f\"images/{asin}.jpg\", \"wb\") as f:\n",
    "            response.raw.decode_content = True\n",
    "            shutil.copyfileobj(response.raw, f)"
   ]
  },
  {
   "cell_type": "code",
   "execution_count": null,
   "metadata": {},
   "outputs": [],
   "source": [
    "df_merge_review_URL[\"asin\"]"
   ]
  },
  {
   "cell_type": "code",
   "execution_count": null,
   "metadata": {},
   "outputs": [],
   "source": [
    "from IPython.display import Image, HTML\n",
    "\n",
    "row_1 = [example.attrs['alt'], '<img src=\"images/book1.jpg\"/>']\n",
    "df = pd.DataFrame(row_1).transpose()\n",
    "df.columns = ['Title', 'Cover']\n",
    "HTML(df.to_html(escape=False))"
   ]
  },
  {
   "cell_type": "markdown",
   "metadata": {},
   "source": [
    "## Data Processing for the Collaborative Filtering"
   ]
  },
  {
   "cell_type": "code",
   "execution_count": 6,
   "metadata": {},
   "outputs": [],
   "source": [
    "# Dataframe for every review\n",
    "df_merge_new_in = pd.read_csv('data/df_merge_with_URL_1.csv')"
   ]
  },
  {
   "cell_type": "code",
   "execution_count": 7,
   "metadata": {},
   "outputs": [],
   "source": [
    "chunk_size = 5000\n",
    "chunks = [x for x in range(0, df_merge_new_in.shape[0], chunk_size)]\n",
    "\n",
    "df_merge_pivot = pd.concat([df_merge_new_in.iloc[ chunks[i]:chunks[i + 1] - 1 ].pivot_table(index='title', columns='reviewerID', values='overall') for i in range(0, len(chunks) - 1)])"
   ]
  },
  {
   "cell_type": "code",
   "execution_count": 8,
   "metadata": {},
   "outputs": [],
   "source": [
    "df_merge_pivot.fillna(0, inplace=True)"
   ]
  },
  {
   "cell_type": "code",
   "execution_count": 11,
   "metadata": {},
   "outputs": [
    {
     "ename": "OSError",
     "evalue": "[Errno 28] No space left on device",
     "output_type": "error",
     "traceback": [
      "\u001b[0;31m---------------------------------------------------------------------------\u001b[0m",
      "\u001b[0;31mOSError\u001b[0m                                   Traceback (most recent call last)",
      "\u001b[0;32m/var/folders/sf/_m3jncf51zgdm38790_vm2pw0000gn/T/ipykernel_3403/726335441.py\u001b[0m in \u001b[0;36m<module>\u001b[0;34m\u001b[0m\n\u001b[1;32m      1\u001b[0m \u001b[0;32mimport\u001b[0m \u001b[0mdill\u001b[0m\u001b[0;34m\u001b[0m\u001b[0;34m\u001b[0m\u001b[0m\n\u001b[1;32m      2\u001b[0m \u001b[0;32mwith\u001b[0m \u001b[0mopen\u001b[0m\u001b[0;34m(\u001b[0m\u001b[0;34m\"data/df_merge_pivot.dill\"\u001b[0m\u001b[0;34m,\u001b[0m \u001b[0;34m\"wb\"\u001b[0m\u001b[0;34m)\u001b[0m \u001b[0;32mas\u001b[0m \u001b[0mf\u001b[0m\u001b[0;34m:\u001b[0m\u001b[0;34m\u001b[0m\u001b[0;34m\u001b[0m\u001b[0m\n\u001b[0;32m----> 3\u001b[0;31m     \u001b[0mdill\u001b[0m\u001b[0;34m.\u001b[0m\u001b[0mdump\u001b[0m\u001b[0;34m(\u001b[0m\u001b[0mdf_merge_pivot\u001b[0m\u001b[0;34m,\u001b[0m \u001b[0mf\u001b[0m\u001b[0;34m)\u001b[0m\u001b[0;34m\u001b[0m\u001b[0;34m\u001b[0m\u001b[0m\n\u001b[0m",
      "\u001b[0;32m~/opt/anaconda3/lib/python3.8/site-packages/dill/_dill.py\u001b[0m in \u001b[0;36mdump\u001b[0;34m(obj, file, protocol, byref, fmode, recurse, **kwds)\u001b[0m\n\u001b[1;32m    274\u001b[0m     \u001b[0m_kwds\u001b[0m \u001b[0;34m=\u001b[0m \u001b[0mkwds\u001b[0m\u001b[0;34m.\u001b[0m\u001b[0mcopy\u001b[0m\u001b[0;34m(\u001b[0m\u001b[0;34m)\u001b[0m\u001b[0;34m\u001b[0m\u001b[0;34m\u001b[0m\u001b[0m\n\u001b[1;32m    275\u001b[0m     \u001b[0m_kwds\u001b[0m\u001b[0;34m.\u001b[0m\u001b[0mupdate\u001b[0m\u001b[0;34m(\u001b[0m\u001b[0mdict\u001b[0m\u001b[0;34m(\u001b[0m\u001b[0mbyref\u001b[0m\u001b[0;34m=\u001b[0m\u001b[0mbyref\u001b[0m\u001b[0;34m,\u001b[0m \u001b[0mfmode\u001b[0m\u001b[0;34m=\u001b[0m\u001b[0mfmode\u001b[0m\u001b[0;34m,\u001b[0m \u001b[0mrecurse\u001b[0m\u001b[0;34m=\u001b[0m\u001b[0mrecurse\u001b[0m\u001b[0;34m)\u001b[0m\u001b[0;34m)\u001b[0m\u001b[0;34m\u001b[0m\u001b[0;34m\u001b[0m\u001b[0m\n\u001b[0;32m--> 276\u001b[0;31m     \u001b[0mPickler\u001b[0m\u001b[0;34m(\u001b[0m\u001b[0mfile\u001b[0m\u001b[0;34m,\u001b[0m \u001b[0mprotocol\u001b[0m\u001b[0;34m,\u001b[0m \u001b[0;34m**\u001b[0m\u001b[0m_kwds\u001b[0m\u001b[0;34m)\u001b[0m\u001b[0;34m.\u001b[0m\u001b[0mdump\u001b[0m\u001b[0;34m(\u001b[0m\u001b[0mobj\u001b[0m\u001b[0;34m)\u001b[0m\u001b[0;34m\u001b[0m\u001b[0;34m\u001b[0m\u001b[0m\n\u001b[0m\u001b[1;32m    277\u001b[0m     \u001b[0;32mreturn\u001b[0m\u001b[0;34m\u001b[0m\u001b[0;34m\u001b[0m\u001b[0m\n\u001b[1;32m    278\u001b[0m \u001b[0;34m\u001b[0m\u001b[0m\n",
      "\u001b[0;32m~/opt/anaconda3/lib/python3.8/site-packages/dill/_dill.py\u001b[0m in \u001b[0;36mdump\u001b[0;34m(self, obj)\u001b[0m\n\u001b[1;32m    496\u001b[0m             \u001b[0;32mraise\u001b[0m \u001b[0mPicklingError\u001b[0m\u001b[0;34m(\u001b[0m\u001b[0mmsg\u001b[0m\u001b[0;34m)\u001b[0m\u001b[0;34m\u001b[0m\u001b[0;34m\u001b[0m\u001b[0m\n\u001b[1;32m    497\u001b[0m         \u001b[0;32melse\u001b[0m\u001b[0;34m:\u001b[0m\u001b[0;34m\u001b[0m\u001b[0;34m\u001b[0m\u001b[0m\n\u001b[0;32m--> 498\u001b[0;31m             \u001b[0mStockPickler\u001b[0m\u001b[0;34m.\u001b[0m\u001b[0mdump\u001b[0m\u001b[0;34m(\u001b[0m\u001b[0mself\u001b[0m\u001b[0;34m,\u001b[0m \u001b[0mobj\u001b[0m\u001b[0;34m)\u001b[0m\u001b[0;34m\u001b[0m\u001b[0;34m\u001b[0m\u001b[0m\n\u001b[0m\u001b[1;32m    499\u001b[0m         \u001b[0mstack\u001b[0m\u001b[0;34m.\u001b[0m\u001b[0mclear\u001b[0m\u001b[0;34m(\u001b[0m\u001b[0;34m)\u001b[0m  \u001b[0;31m# clear record of 'recursion-sensitive' pickled objects\u001b[0m\u001b[0;34m\u001b[0m\u001b[0;34m\u001b[0m\u001b[0m\n\u001b[1;32m    500\u001b[0m         \u001b[0;32mreturn\u001b[0m\u001b[0;34m\u001b[0m\u001b[0;34m\u001b[0m\u001b[0m\n",
      "\u001b[0;32m~/opt/anaconda3/lib/python3.8/pickle.py\u001b[0m in \u001b[0;36mdump\u001b[0;34m(self, obj)\u001b[0m\n\u001b[1;32m    485\u001b[0m         \u001b[0;32mif\u001b[0m \u001b[0mself\u001b[0m\u001b[0;34m.\u001b[0m\u001b[0mproto\u001b[0m \u001b[0;34m>=\u001b[0m \u001b[0;36m4\u001b[0m\u001b[0;34m:\u001b[0m\u001b[0;34m\u001b[0m\u001b[0;34m\u001b[0m\u001b[0m\n\u001b[1;32m    486\u001b[0m             \u001b[0mself\u001b[0m\u001b[0;34m.\u001b[0m\u001b[0mframer\u001b[0m\u001b[0;34m.\u001b[0m\u001b[0mstart_framing\u001b[0m\u001b[0;34m(\u001b[0m\u001b[0;34m)\u001b[0m\u001b[0;34m\u001b[0m\u001b[0;34m\u001b[0m\u001b[0m\n\u001b[0;32m--> 487\u001b[0;31m         \u001b[0mself\u001b[0m\u001b[0;34m.\u001b[0m\u001b[0msave\u001b[0m\u001b[0;34m(\u001b[0m\u001b[0mobj\u001b[0m\u001b[0;34m)\u001b[0m\u001b[0;34m\u001b[0m\u001b[0;34m\u001b[0m\u001b[0m\n\u001b[0m\u001b[1;32m    488\u001b[0m         \u001b[0mself\u001b[0m\u001b[0;34m.\u001b[0m\u001b[0mwrite\u001b[0m\u001b[0;34m(\u001b[0m\u001b[0mSTOP\u001b[0m\u001b[0;34m)\u001b[0m\u001b[0;34m\u001b[0m\u001b[0;34m\u001b[0m\u001b[0m\n\u001b[1;32m    489\u001b[0m         \u001b[0mself\u001b[0m\u001b[0;34m.\u001b[0m\u001b[0mframer\u001b[0m\u001b[0;34m.\u001b[0m\u001b[0mend_framing\u001b[0m\u001b[0;34m(\u001b[0m\u001b[0;34m)\u001b[0m\u001b[0;34m\u001b[0m\u001b[0;34m\u001b[0m\u001b[0m\n",
      "\u001b[0;32m~/opt/anaconda3/lib/python3.8/pickle.py\u001b[0m in \u001b[0;36msave\u001b[0;34m(self, obj, save_persistent_id)\u001b[0m\n\u001b[1;32m    601\u001b[0m \u001b[0;34m\u001b[0m\u001b[0m\n\u001b[1;32m    602\u001b[0m         \u001b[0;31m# Save the reduce() output and finally memoize the object\u001b[0m\u001b[0;34m\u001b[0m\u001b[0;34m\u001b[0m\u001b[0;34m\u001b[0m\u001b[0m\n\u001b[0;32m--> 603\u001b[0;31m         \u001b[0mself\u001b[0m\u001b[0;34m.\u001b[0m\u001b[0msave_reduce\u001b[0m\u001b[0;34m(\u001b[0m\u001b[0mobj\u001b[0m\u001b[0;34m=\u001b[0m\u001b[0mobj\u001b[0m\u001b[0;34m,\u001b[0m \u001b[0;34m*\u001b[0m\u001b[0mrv\u001b[0m\u001b[0;34m)\u001b[0m\u001b[0;34m\u001b[0m\u001b[0;34m\u001b[0m\u001b[0m\n\u001b[0m\u001b[1;32m    604\u001b[0m \u001b[0;34m\u001b[0m\u001b[0m\n\u001b[1;32m    605\u001b[0m     \u001b[0;32mdef\u001b[0m \u001b[0mpersistent_id\u001b[0m\u001b[0;34m(\u001b[0m\u001b[0mself\u001b[0m\u001b[0;34m,\u001b[0m \u001b[0mobj\u001b[0m\u001b[0;34m)\u001b[0m\u001b[0;34m:\u001b[0m\u001b[0;34m\u001b[0m\u001b[0;34m\u001b[0m\u001b[0m\n",
      "\u001b[0;32m~/opt/anaconda3/lib/python3.8/pickle.py\u001b[0m in \u001b[0;36msave_reduce\u001b[0;34m(self, func, args, state, listitems, dictitems, state_setter, obj)\u001b[0m\n\u001b[1;32m    715\u001b[0m         \u001b[0;32mif\u001b[0m \u001b[0mstate\u001b[0m \u001b[0;32mis\u001b[0m \u001b[0;32mnot\u001b[0m \u001b[0;32mNone\u001b[0m\u001b[0;34m:\u001b[0m\u001b[0;34m\u001b[0m\u001b[0;34m\u001b[0m\u001b[0m\n\u001b[1;32m    716\u001b[0m             \u001b[0;32mif\u001b[0m \u001b[0mstate_setter\u001b[0m \u001b[0;32mis\u001b[0m \u001b[0;32mNone\u001b[0m\u001b[0;34m:\u001b[0m\u001b[0;34m\u001b[0m\u001b[0;34m\u001b[0m\u001b[0m\n\u001b[0;32m--> 717\u001b[0;31m                 \u001b[0msave\u001b[0m\u001b[0;34m(\u001b[0m\u001b[0mstate\u001b[0m\u001b[0;34m)\u001b[0m\u001b[0;34m\u001b[0m\u001b[0;34m\u001b[0m\u001b[0m\n\u001b[0m\u001b[1;32m    718\u001b[0m                 \u001b[0mwrite\u001b[0m\u001b[0;34m(\u001b[0m\u001b[0mBUILD\u001b[0m\u001b[0;34m)\u001b[0m\u001b[0;34m\u001b[0m\u001b[0;34m\u001b[0m\u001b[0m\n\u001b[1;32m    719\u001b[0m             \u001b[0;32melse\u001b[0m\u001b[0;34m:\u001b[0m\u001b[0;34m\u001b[0m\u001b[0;34m\u001b[0m\u001b[0m\n",
      "\u001b[0;32m~/opt/anaconda3/lib/python3.8/pickle.py\u001b[0m in \u001b[0;36msave\u001b[0;34m(self, obj, save_persistent_id)\u001b[0m\n\u001b[1;32m    558\u001b[0m             \u001b[0mf\u001b[0m \u001b[0;34m=\u001b[0m \u001b[0mself\u001b[0m\u001b[0;34m.\u001b[0m\u001b[0mdispatch\u001b[0m\u001b[0;34m.\u001b[0m\u001b[0mget\u001b[0m\u001b[0;34m(\u001b[0m\u001b[0mt\u001b[0m\u001b[0;34m)\u001b[0m\u001b[0;34m\u001b[0m\u001b[0;34m\u001b[0m\u001b[0m\n\u001b[1;32m    559\u001b[0m             \u001b[0;32mif\u001b[0m \u001b[0mf\u001b[0m \u001b[0;32mis\u001b[0m \u001b[0;32mnot\u001b[0m \u001b[0;32mNone\u001b[0m\u001b[0;34m:\u001b[0m\u001b[0;34m\u001b[0m\u001b[0;34m\u001b[0m\u001b[0m\n\u001b[0;32m--> 560\u001b[0;31m                 \u001b[0mf\u001b[0m\u001b[0;34m(\u001b[0m\u001b[0mself\u001b[0m\u001b[0;34m,\u001b[0m \u001b[0mobj\u001b[0m\u001b[0;34m)\u001b[0m  \u001b[0;31m# Call unbound method with explicit self\u001b[0m\u001b[0;34m\u001b[0m\u001b[0;34m\u001b[0m\u001b[0m\n\u001b[0m\u001b[1;32m    561\u001b[0m                 \u001b[0;32mreturn\u001b[0m\u001b[0;34m\u001b[0m\u001b[0;34m\u001b[0m\u001b[0m\n\u001b[1;32m    562\u001b[0m \u001b[0;34m\u001b[0m\u001b[0m\n",
      "\u001b[0;32m~/opt/anaconda3/lib/python3.8/site-packages/dill/_dill.py\u001b[0m in \u001b[0;36msave_module_dict\u001b[0;34m(pickler, obj)\u001b[0m\n\u001b[1;32m    988\u001b[0m             \u001b[0;31m# we only care about session the first pass thru\u001b[0m\u001b[0;34m\u001b[0m\u001b[0;34m\u001b[0m\u001b[0;34m\u001b[0m\u001b[0m\n\u001b[1;32m    989\u001b[0m             \u001b[0mpickler\u001b[0m\u001b[0;34m.\u001b[0m\u001b[0m_session\u001b[0m \u001b[0;34m=\u001b[0m \u001b[0;32mFalse\u001b[0m\u001b[0;34m\u001b[0m\u001b[0;34m\u001b[0m\u001b[0m\n\u001b[0;32m--> 990\u001b[0;31m         \u001b[0mStockPickler\u001b[0m\u001b[0;34m.\u001b[0m\u001b[0msave_dict\u001b[0m\u001b[0;34m(\u001b[0m\u001b[0mpickler\u001b[0m\u001b[0;34m,\u001b[0m \u001b[0mobj\u001b[0m\u001b[0;34m)\u001b[0m\u001b[0;34m\u001b[0m\u001b[0;34m\u001b[0m\u001b[0m\n\u001b[0m\u001b[1;32m    991\u001b[0m         \u001b[0mlog\u001b[0m\u001b[0;34m.\u001b[0m\u001b[0minfo\u001b[0m\u001b[0;34m(\u001b[0m\u001b[0;34m\"# D2\"\u001b[0m\u001b[0;34m)\u001b[0m\u001b[0;34m\u001b[0m\u001b[0;34m\u001b[0m\u001b[0m\n\u001b[1;32m    992\u001b[0m     \u001b[0;32mreturn\u001b[0m\u001b[0;34m\u001b[0m\u001b[0;34m\u001b[0m\u001b[0m\n",
      "\u001b[0;32m~/opt/anaconda3/lib/python3.8/pickle.py\u001b[0m in \u001b[0;36msave_dict\u001b[0;34m(self, obj)\u001b[0m\n\u001b[1;32m    969\u001b[0m \u001b[0;34m\u001b[0m\u001b[0m\n\u001b[1;32m    970\u001b[0m         \u001b[0mself\u001b[0m\u001b[0;34m.\u001b[0m\u001b[0mmemoize\u001b[0m\u001b[0;34m(\u001b[0m\u001b[0mobj\u001b[0m\u001b[0;34m)\u001b[0m\u001b[0;34m\u001b[0m\u001b[0;34m\u001b[0m\u001b[0m\n\u001b[0;32m--> 971\u001b[0;31m         \u001b[0mself\u001b[0m\u001b[0;34m.\u001b[0m\u001b[0m_batch_setitems\u001b[0m\u001b[0;34m(\u001b[0m\u001b[0mobj\u001b[0m\u001b[0;34m.\u001b[0m\u001b[0mitems\u001b[0m\u001b[0;34m(\u001b[0m\u001b[0;34m)\u001b[0m\u001b[0;34m)\u001b[0m\u001b[0;34m\u001b[0m\u001b[0;34m\u001b[0m\u001b[0m\n\u001b[0m\u001b[1;32m    972\u001b[0m \u001b[0;34m\u001b[0m\u001b[0m\n\u001b[1;32m    973\u001b[0m     \u001b[0mdispatch\u001b[0m\u001b[0;34m[\u001b[0m\u001b[0mdict\u001b[0m\u001b[0;34m]\u001b[0m \u001b[0;34m=\u001b[0m \u001b[0msave_dict\u001b[0m\u001b[0;34m\u001b[0m\u001b[0;34m\u001b[0m\u001b[0m\n",
      "\u001b[0;32m~/opt/anaconda3/lib/python3.8/pickle.py\u001b[0m in \u001b[0;36m_batch_setitems\u001b[0;34m(self, items)\u001b[0m\n\u001b[1;32m    995\u001b[0m                 \u001b[0;32mfor\u001b[0m \u001b[0mk\u001b[0m\u001b[0;34m,\u001b[0m \u001b[0mv\u001b[0m \u001b[0;32min\u001b[0m \u001b[0mtmp\u001b[0m\u001b[0;34m:\u001b[0m\u001b[0;34m\u001b[0m\u001b[0;34m\u001b[0m\u001b[0m\n\u001b[1;32m    996\u001b[0m                     \u001b[0msave\u001b[0m\u001b[0;34m(\u001b[0m\u001b[0mk\u001b[0m\u001b[0;34m)\u001b[0m\u001b[0;34m\u001b[0m\u001b[0;34m\u001b[0m\u001b[0m\n\u001b[0;32m--> 997\u001b[0;31m                     \u001b[0msave\u001b[0m\u001b[0;34m(\u001b[0m\u001b[0mv\u001b[0m\u001b[0;34m)\u001b[0m\u001b[0;34m\u001b[0m\u001b[0;34m\u001b[0m\u001b[0m\n\u001b[0m\u001b[1;32m    998\u001b[0m                 \u001b[0mwrite\u001b[0m\u001b[0;34m(\u001b[0m\u001b[0mSETITEMS\u001b[0m\u001b[0;34m)\u001b[0m\u001b[0;34m\u001b[0m\u001b[0;34m\u001b[0m\u001b[0m\n\u001b[1;32m    999\u001b[0m             \u001b[0;32melif\u001b[0m \u001b[0mn\u001b[0m\u001b[0;34m:\u001b[0m\u001b[0;34m\u001b[0m\u001b[0;34m\u001b[0m\u001b[0m\n",
      "\u001b[0;32m~/opt/anaconda3/lib/python3.8/pickle.py\u001b[0m in \u001b[0;36msave\u001b[0;34m(self, obj, save_persistent_id)\u001b[0m\n\u001b[1;32m    601\u001b[0m \u001b[0;34m\u001b[0m\u001b[0m\n\u001b[1;32m    602\u001b[0m         \u001b[0;31m# Save the reduce() output and finally memoize the object\u001b[0m\u001b[0;34m\u001b[0m\u001b[0;34m\u001b[0m\u001b[0;34m\u001b[0m\u001b[0m\n\u001b[0;32m--> 603\u001b[0;31m         \u001b[0mself\u001b[0m\u001b[0;34m.\u001b[0m\u001b[0msave_reduce\u001b[0m\u001b[0;34m(\u001b[0m\u001b[0mobj\u001b[0m\u001b[0;34m=\u001b[0m\u001b[0mobj\u001b[0m\u001b[0;34m,\u001b[0m \u001b[0;34m*\u001b[0m\u001b[0mrv\u001b[0m\u001b[0;34m)\u001b[0m\u001b[0;34m\u001b[0m\u001b[0;34m\u001b[0m\u001b[0m\n\u001b[0m\u001b[1;32m    604\u001b[0m \u001b[0;34m\u001b[0m\u001b[0m\n\u001b[1;32m    605\u001b[0m     \u001b[0;32mdef\u001b[0m \u001b[0mpersistent_id\u001b[0m\u001b[0;34m(\u001b[0m\u001b[0mself\u001b[0m\u001b[0;34m,\u001b[0m \u001b[0mobj\u001b[0m\u001b[0;34m)\u001b[0m\u001b[0;34m:\u001b[0m\u001b[0;34m\u001b[0m\u001b[0;34m\u001b[0m\u001b[0m\n",
      "\u001b[0;32m~/opt/anaconda3/lib/python3.8/pickle.py\u001b[0m in \u001b[0;36msave_reduce\u001b[0;34m(self, func, args, state, listitems, dictitems, state_setter, obj)\u001b[0m\n\u001b[1;32m    715\u001b[0m         \u001b[0;32mif\u001b[0m \u001b[0mstate\u001b[0m \u001b[0;32mis\u001b[0m \u001b[0;32mnot\u001b[0m \u001b[0;32mNone\u001b[0m\u001b[0;34m:\u001b[0m\u001b[0;34m\u001b[0m\u001b[0;34m\u001b[0m\u001b[0m\n\u001b[1;32m    716\u001b[0m             \u001b[0;32mif\u001b[0m \u001b[0mstate_setter\u001b[0m \u001b[0;32mis\u001b[0m \u001b[0;32mNone\u001b[0m\u001b[0;34m:\u001b[0m\u001b[0;34m\u001b[0m\u001b[0;34m\u001b[0m\u001b[0m\n\u001b[0;32m--> 717\u001b[0;31m                 \u001b[0msave\u001b[0m\u001b[0;34m(\u001b[0m\u001b[0mstate\u001b[0m\u001b[0;34m)\u001b[0m\u001b[0;34m\u001b[0m\u001b[0;34m\u001b[0m\u001b[0m\n\u001b[0m\u001b[1;32m    718\u001b[0m                 \u001b[0mwrite\u001b[0m\u001b[0;34m(\u001b[0m\u001b[0mBUILD\u001b[0m\u001b[0;34m)\u001b[0m\u001b[0;34m\u001b[0m\u001b[0;34m\u001b[0m\u001b[0m\n\u001b[1;32m    719\u001b[0m             \u001b[0;32melse\u001b[0m\u001b[0;34m:\u001b[0m\u001b[0;34m\u001b[0m\u001b[0;34m\u001b[0m\u001b[0m\n",
      "\u001b[0;32m~/opt/anaconda3/lib/python3.8/pickle.py\u001b[0m in \u001b[0;36msave\u001b[0;34m(self, obj, save_persistent_id)\u001b[0m\n\u001b[1;32m    558\u001b[0m             \u001b[0mf\u001b[0m \u001b[0;34m=\u001b[0m \u001b[0mself\u001b[0m\u001b[0;34m.\u001b[0m\u001b[0mdispatch\u001b[0m\u001b[0;34m.\u001b[0m\u001b[0mget\u001b[0m\u001b[0;34m(\u001b[0m\u001b[0mt\u001b[0m\u001b[0;34m)\u001b[0m\u001b[0;34m\u001b[0m\u001b[0;34m\u001b[0m\u001b[0m\n\u001b[1;32m    559\u001b[0m             \u001b[0;32mif\u001b[0m \u001b[0mf\u001b[0m \u001b[0;32mis\u001b[0m \u001b[0;32mnot\u001b[0m \u001b[0;32mNone\u001b[0m\u001b[0;34m:\u001b[0m\u001b[0;34m\u001b[0m\u001b[0;34m\u001b[0m\u001b[0m\n\u001b[0;32m--> 560\u001b[0;31m                 \u001b[0mf\u001b[0m\u001b[0;34m(\u001b[0m\u001b[0mself\u001b[0m\u001b[0;34m,\u001b[0m \u001b[0mobj\u001b[0m\u001b[0;34m)\u001b[0m  \u001b[0;31m# Call unbound method with explicit self\u001b[0m\u001b[0;34m\u001b[0m\u001b[0;34m\u001b[0m\u001b[0m\n\u001b[0m\u001b[1;32m    561\u001b[0m                 \u001b[0;32mreturn\u001b[0m\u001b[0;34m\u001b[0m\u001b[0;34m\u001b[0m\u001b[0m\n\u001b[1;32m    562\u001b[0m \u001b[0;34m\u001b[0m\u001b[0m\n",
      "\u001b[0;32m~/opt/anaconda3/lib/python3.8/pickle.py\u001b[0m in \u001b[0;36msave_tuple\u001b[0;34m(self, obj)\u001b[0m\n\u001b[1;32m    899\u001b[0m         \u001b[0mwrite\u001b[0m\u001b[0;34m(\u001b[0m\u001b[0mMARK\u001b[0m\u001b[0;34m)\u001b[0m\u001b[0;34m\u001b[0m\u001b[0;34m\u001b[0m\u001b[0m\n\u001b[1;32m    900\u001b[0m         \u001b[0;32mfor\u001b[0m \u001b[0melement\u001b[0m \u001b[0;32min\u001b[0m \u001b[0mobj\u001b[0m\u001b[0;34m:\u001b[0m\u001b[0;34m\u001b[0m\u001b[0;34m\u001b[0m\u001b[0m\n\u001b[0;32m--> 901\u001b[0;31m             \u001b[0msave\u001b[0m\u001b[0;34m(\u001b[0m\u001b[0melement\u001b[0m\u001b[0;34m)\u001b[0m\u001b[0;34m\u001b[0m\u001b[0;34m\u001b[0m\u001b[0m\n\u001b[0m\u001b[1;32m    902\u001b[0m \u001b[0;34m\u001b[0m\u001b[0m\n\u001b[1;32m    903\u001b[0m         \u001b[0;32mif\u001b[0m \u001b[0mid\u001b[0m\u001b[0;34m(\u001b[0m\u001b[0mobj\u001b[0m\u001b[0;34m)\u001b[0m \u001b[0;32min\u001b[0m \u001b[0mmemo\u001b[0m\u001b[0;34m:\u001b[0m\u001b[0;34m\u001b[0m\u001b[0;34m\u001b[0m\u001b[0m\n",
      "\u001b[0;32m~/opt/anaconda3/lib/python3.8/pickle.py\u001b[0m in \u001b[0;36msave\u001b[0;34m(self, obj, save_persistent_id)\u001b[0m\n\u001b[1;32m    558\u001b[0m             \u001b[0mf\u001b[0m \u001b[0;34m=\u001b[0m \u001b[0mself\u001b[0m\u001b[0;34m.\u001b[0m\u001b[0mdispatch\u001b[0m\u001b[0;34m.\u001b[0m\u001b[0mget\u001b[0m\u001b[0;34m(\u001b[0m\u001b[0mt\u001b[0m\u001b[0;34m)\u001b[0m\u001b[0;34m\u001b[0m\u001b[0;34m\u001b[0m\u001b[0m\n\u001b[1;32m    559\u001b[0m             \u001b[0;32mif\u001b[0m \u001b[0mf\u001b[0m \u001b[0;32mis\u001b[0m \u001b[0;32mnot\u001b[0m \u001b[0;32mNone\u001b[0m\u001b[0;34m:\u001b[0m\u001b[0;34m\u001b[0m\u001b[0;34m\u001b[0m\u001b[0m\n\u001b[0;32m--> 560\u001b[0;31m                 \u001b[0mf\u001b[0m\u001b[0;34m(\u001b[0m\u001b[0mself\u001b[0m\u001b[0;34m,\u001b[0m \u001b[0mobj\u001b[0m\u001b[0;34m)\u001b[0m  \u001b[0;31m# Call unbound method with explicit self\u001b[0m\u001b[0;34m\u001b[0m\u001b[0;34m\u001b[0m\u001b[0m\n\u001b[0m\u001b[1;32m    561\u001b[0m                 \u001b[0;32mreturn\u001b[0m\u001b[0;34m\u001b[0m\u001b[0;34m\u001b[0m\u001b[0m\n\u001b[1;32m    562\u001b[0m \u001b[0;34m\u001b[0m\u001b[0m\n",
      "\u001b[0;32m~/opt/anaconda3/lib/python3.8/pickle.py\u001b[0m in \u001b[0;36msave_list\u001b[0;34m(self, obj)\u001b[0m\n\u001b[1;32m    929\u001b[0m \u001b[0;34m\u001b[0m\u001b[0m\n\u001b[1;32m    930\u001b[0m         \u001b[0mself\u001b[0m\u001b[0;34m.\u001b[0m\u001b[0mmemoize\u001b[0m\u001b[0;34m(\u001b[0m\u001b[0mobj\u001b[0m\u001b[0;34m)\u001b[0m\u001b[0;34m\u001b[0m\u001b[0;34m\u001b[0m\u001b[0m\n\u001b[0;32m--> 931\u001b[0;31m         \u001b[0mself\u001b[0m\u001b[0;34m.\u001b[0m\u001b[0m_batch_appends\u001b[0m\u001b[0;34m(\u001b[0m\u001b[0mobj\u001b[0m\u001b[0;34m)\u001b[0m\u001b[0;34m\u001b[0m\u001b[0;34m\u001b[0m\u001b[0m\n\u001b[0m\u001b[1;32m    932\u001b[0m \u001b[0;34m\u001b[0m\u001b[0m\n\u001b[1;32m    933\u001b[0m     \u001b[0mdispatch\u001b[0m\u001b[0;34m[\u001b[0m\u001b[0mlist\u001b[0m\u001b[0;34m]\u001b[0m \u001b[0;34m=\u001b[0m \u001b[0msave_list\u001b[0m\u001b[0;34m\u001b[0m\u001b[0;34m\u001b[0m\u001b[0m\n",
      "\u001b[0;32m~/opt/anaconda3/lib/python3.8/pickle.py\u001b[0m in \u001b[0;36m_batch_appends\u001b[0;34m(self, items)\u001b[0m\n\u001b[1;32m    956\u001b[0m                 \u001b[0mwrite\u001b[0m\u001b[0;34m(\u001b[0m\u001b[0mAPPENDS\u001b[0m\u001b[0;34m)\u001b[0m\u001b[0;34m\u001b[0m\u001b[0;34m\u001b[0m\u001b[0m\n\u001b[1;32m    957\u001b[0m             \u001b[0;32melif\u001b[0m \u001b[0mn\u001b[0m\u001b[0;34m:\u001b[0m\u001b[0;34m\u001b[0m\u001b[0;34m\u001b[0m\u001b[0m\n\u001b[0;32m--> 958\u001b[0;31m                 \u001b[0msave\u001b[0m\u001b[0;34m(\u001b[0m\u001b[0mtmp\u001b[0m\u001b[0;34m[\u001b[0m\u001b[0;36m0\u001b[0m\u001b[0;34m]\u001b[0m\u001b[0;34m)\u001b[0m\u001b[0;34m\u001b[0m\u001b[0;34m\u001b[0m\u001b[0m\n\u001b[0m\u001b[1;32m    959\u001b[0m                 \u001b[0mwrite\u001b[0m\u001b[0;34m(\u001b[0m\u001b[0mAPPEND\u001b[0m\u001b[0;34m)\u001b[0m\u001b[0;34m\u001b[0m\u001b[0;34m\u001b[0m\u001b[0m\n\u001b[1;32m    960\u001b[0m             \u001b[0;31m# else tmp is empty, and we're done\u001b[0m\u001b[0;34m\u001b[0m\u001b[0;34m\u001b[0m\u001b[0;34m\u001b[0m\u001b[0m\n",
      "\u001b[0;32m~/opt/anaconda3/lib/python3.8/pickle.py\u001b[0m in \u001b[0;36msave\u001b[0;34m(self, obj, save_persistent_id)\u001b[0m\n\u001b[1;32m    601\u001b[0m \u001b[0;34m\u001b[0m\u001b[0m\n\u001b[1;32m    602\u001b[0m         \u001b[0;31m# Save the reduce() output and finally memoize the object\u001b[0m\u001b[0;34m\u001b[0m\u001b[0;34m\u001b[0m\u001b[0;34m\u001b[0m\u001b[0m\n\u001b[0;32m--> 603\u001b[0;31m         \u001b[0mself\u001b[0m\u001b[0;34m.\u001b[0m\u001b[0msave_reduce\u001b[0m\u001b[0;34m(\u001b[0m\u001b[0mobj\u001b[0m\u001b[0;34m=\u001b[0m\u001b[0mobj\u001b[0m\u001b[0;34m,\u001b[0m \u001b[0;34m*\u001b[0m\u001b[0mrv\u001b[0m\u001b[0;34m)\u001b[0m\u001b[0;34m\u001b[0m\u001b[0;34m\u001b[0m\u001b[0m\n\u001b[0m\u001b[1;32m    604\u001b[0m \u001b[0;34m\u001b[0m\u001b[0m\n\u001b[1;32m    605\u001b[0m     \u001b[0;32mdef\u001b[0m \u001b[0mpersistent_id\u001b[0m\u001b[0;34m(\u001b[0m\u001b[0mself\u001b[0m\u001b[0;34m,\u001b[0m \u001b[0mobj\u001b[0m\u001b[0;34m)\u001b[0m\u001b[0;34m:\u001b[0m\u001b[0;34m\u001b[0m\u001b[0;34m\u001b[0m\u001b[0m\n",
      "\u001b[0;32m~/opt/anaconda3/lib/python3.8/pickle.py\u001b[0m in \u001b[0;36msave_reduce\u001b[0;34m(self, func, args, state, listitems, dictitems, state_setter, obj)\u001b[0m\n\u001b[1;32m    715\u001b[0m         \u001b[0;32mif\u001b[0m \u001b[0mstate\u001b[0m \u001b[0;32mis\u001b[0m \u001b[0;32mnot\u001b[0m \u001b[0;32mNone\u001b[0m\u001b[0;34m:\u001b[0m\u001b[0;34m\u001b[0m\u001b[0;34m\u001b[0m\u001b[0m\n\u001b[1;32m    716\u001b[0m             \u001b[0;32mif\u001b[0m \u001b[0mstate_setter\u001b[0m \u001b[0;32mis\u001b[0m \u001b[0;32mNone\u001b[0m\u001b[0;34m:\u001b[0m\u001b[0;34m\u001b[0m\u001b[0;34m\u001b[0m\u001b[0m\n\u001b[0;32m--> 717\u001b[0;31m                 \u001b[0msave\u001b[0m\u001b[0;34m(\u001b[0m\u001b[0mstate\u001b[0m\u001b[0;34m)\u001b[0m\u001b[0;34m\u001b[0m\u001b[0;34m\u001b[0m\u001b[0m\n\u001b[0m\u001b[1;32m    718\u001b[0m                 \u001b[0mwrite\u001b[0m\u001b[0;34m(\u001b[0m\u001b[0mBUILD\u001b[0m\u001b[0;34m)\u001b[0m\u001b[0;34m\u001b[0m\u001b[0;34m\u001b[0m\u001b[0m\n\u001b[1;32m    719\u001b[0m             \u001b[0;32melse\u001b[0m\u001b[0;34m:\u001b[0m\u001b[0;34m\u001b[0m\u001b[0;34m\u001b[0m\u001b[0m\n",
      "\u001b[0;32m~/opt/anaconda3/lib/python3.8/pickle.py\u001b[0m in \u001b[0;36msave\u001b[0;34m(self, obj, save_persistent_id)\u001b[0m\n\u001b[1;32m    558\u001b[0m             \u001b[0mf\u001b[0m \u001b[0;34m=\u001b[0m \u001b[0mself\u001b[0m\u001b[0;34m.\u001b[0m\u001b[0mdispatch\u001b[0m\u001b[0;34m.\u001b[0m\u001b[0mget\u001b[0m\u001b[0;34m(\u001b[0m\u001b[0mt\u001b[0m\u001b[0;34m)\u001b[0m\u001b[0;34m\u001b[0m\u001b[0;34m\u001b[0m\u001b[0m\n\u001b[1;32m    559\u001b[0m             \u001b[0;32mif\u001b[0m \u001b[0mf\u001b[0m \u001b[0;32mis\u001b[0m \u001b[0;32mnot\u001b[0m \u001b[0;32mNone\u001b[0m\u001b[0;34m:\u001b[0m\u001b[0;34m\u001b[0m\u001b[0;34m\u001b[0m\u001b[0m\n\u001b[0;32m--> 560\u001b[0;31m                 \u001b[0mf\u001b[0m\u001b[0;34m(\u001b[0m\u001b[0mself\u001b[0m\u001b[0;34m,\u001b[0m \u001b[0mobj\u001b[0m\u001b[0;34m)\u001b[0m  \u001b[0;31m# Call unbound method with explicit self\u001b[0m\u001b[0;34m\u001b[0m\u001b[0;34m\u001b[0m\u001b[0m\n\u001b[0m\u001b[1;32m    561\u001b[0m                 \u001b[0;32mreturn\u001b[0m\u001b[0;34m\u001b[0m\u001b[0;34m\u001b[0m\u001b[0m\n\u001b[1;32m    562\u001b[0m \u001b[0;34m\u001b[0m\u001b[0m\n",
      "\u001b[0;32m~/opt/anaconda3/lib/python3.8/pickle.py\u001b[0m in \u001b[0;36msave_tuple\u001b[0;34m(self, obj)\u001b[0m\n\u001b[1;32m    899\u001b[0m         \u001b[0mwrite\u001b[0m\u001b[0;34m(\u001b[0m\u001b[0mMARK\u001b[0m\u001b[0;34m)\u001b[0m\u001b[0;34m\u001b[0m\u001b[0;34m\u001b[0m\u001b[0m\n\u001b[1;32m    900\u001b[0m         \u001b[0;32mfor\u001b[0m \u001b[0melement\u001b[0m \u001b[0;32min\u001b[0m \u001b[0mobj\u001b[0m\u001b[0;34m:\u001b[0m\u001b[0;34m\u001b[0m\u001b[0;34m\u001b[0m\u001b[0m\n\u001b[0;32m--> 901\u001b[0;31m             \u001b[0msave\u001b[0m\u001b[0;34m(\u001b[0m\u001b[0melement\u001b[0m\u001b[0;34m)\u001b[0m\u001b[0;34m\u001b[0m\u001b[0;34m\u001b[0m\u001b[0m\n\u001b[0m\u001b[1;32m    902\u001b[0m \u001b[0;34m\u001b[0m\u001b[0m\n\u001b[1;32m    903\u001b[0m         \u001b[0;32mif\u001b[0m \u001b[0mid\u001b[0m\u001b[0;34m(\u001b[0m\u001b[0mobj\u001b[0m\u001b[0;34m)\u001b[0m \u001b[0;32min\u001b[0m \u001b[0mmemo\u001b[0m\u001b[0;34m:\u001b[0m\u001b[0;34m\u001b[0m\u001b[0;34m\u001b[0m\u001b[0m\n",
      "\u001b[0;32m~/opt/anaconda3/lib/python3.8/pickle.py\u001b[0m in \u001b[0;36msave\u001b[0;34m(self, obj, save_persistent_id)\u001b[0m\n\u001b[1;32m    558\u001b[0m             \u001b[0mf\u001b[0m \u001b[0;34m=\u001b[0m \u001b[0mself\u001b[0m\u001b[0;34m.\u001b[0m\u001b[0mdispatch\u001b[0m\u001b[0;34m.\u001b[0m\u001b[0mget\u001b[0m\u001b[0;34m(\u001b[0m\u001b[0mt\u001b[0m\u001b[0;34m)\u001b[0m\u001b[0;34m\u001b[0m\u001b[0;34m\u001b[0m\u001b[0m\n\u001b[1;32m    559\u001b[0m             \u001b[0;32mif\u001b[0m \u001b[0mf\u001b[0m \u001b[0;32mis\u001b[0m \u001b[0;32mnot\u001b[0m \u001b[0;32mNone\u001b[0m\u001b[0;34m:\u001b[0m\u001b[0;34m\u001b[0m\u001b[0;34m\u001b[0m\u001b[0m\n\u001b[0;32m--> 560\u001b[0;31m                 \u001b[0mf\u001b[0m\u001b[0;34m(\u001b[0m\u001b[0mself\u001b[0m\u001b[0;34m,\u001b[0m \u001b[0mobj\u001b[0m\u001b[0;34m)\u001b[0m  \u001b[0;31m# Call unbound method with explicit self\u001b[0m\u001b[0;34m\u001b[0m\u001b[0;34m\u001b[0m\u001b[0m\n\u001b[0m\u001b[1;32m    561\u001b[0m                 \u001b[0;32mreturn\u001b[0m\u001b[0;34m\u001b[0m\u001b[0;34m\u001b[0m\u001b[0m\n\u001b[1;32m    562\u001b[0m \u001b[0;34m\u001b[0m\u001b[0m\n",
      "\u001b[0;32m~/opt/anaconda3/lib/python3.8/pickle.py\u001b[0m in \u001b[0;36msave_bytes\u001b[0;34m(self, obj)\u001b[0m\n\u001b[1;32m    799\u001b[0m             \u001b[0mself\u001b[0m\u001b[0;34m.\u001b[0m\u001b[0mwrite\u001b[0m\u001b[0;34m(\u001b[0m\u001b[0mSHORT_BINBYTES\u001b[0m \u001b[0;34m+\u001b[0m \u001b[0mpack\u001b[0m\u001b[0;34m(\u001b[0m\u001b[0;34m\"<B\"\u001b[0m\u001b[0;34m,\u001b[0m \u001b[0mn\u001b[0m\u001b[0;34m)\u001b[0m \u001b[0;34m+\u001b[0m \u001b[0mobj\u001b[0m\u001b[0;34m)\u001b[0m\u001b[0;34m\u001b[0m\u001b[0;34m\u001b[0m\u001b[0m\n\u001b[1;32m    800\u001b[0m         \u001b[0;32melif\u001b[0m \u001b[0mn\u001b[0m \u001b[0;34m>\u001b[0m \u001b[0;36m0xffffffff\u001b[0m \u001b[0;32mand\u001b[0m \u001b[0mself\u001b[0m\u001b[0;34m.\u001b[0m\u001b[0mproto\u001b[0m \u001b[0;34m>=\u001b[0m \u001b[0;36m4\u001b[0m\u001b[0;34m:\u001b[0m\u001b[0;34m\u001b[0m\u001b[0;34m\u001b[0m\u001b[0m\n\u001b[0;32m--> 801\u001b[0;31m             \u001b[0mself\u001b[0m\u001b[0;34m.\u001b[0m\u001b[0m_write_large_bytes\u001b[0m\u001b[0;34m(\u001b[0m\u001b[0mBINBYTES8\u001b[0m \u001b[0;34m+\u001b[0m \u001b[0mpack\u001b[0m\u001b[0;34m(\u001b[0m\u001b[0;34m\"<Q\"\u001b[0m\u001b[0;34m,\u001b[0m \u001b[0mn\u001b[0m\u001b[0;34m)\u001b[0m\u001b[0;34m,\u001b[0m \u001b[0mobj\u001b[0m\u001b[0;34m)\u001b[0m\u001b[0;34m\u001b[0m\u001b[0;34m\u001b[0m\u001b[0m\n\u001b[0m\u001b[1;32m    802\u001b[0m         \u001b[0;32melif\u001b[0m \u001b[0mn\u001b[0m \u001b[0;34m>=\u001b[0m \u001b[0mself\u001b[0m\u001b[0;34m.\u001b[0m\u001b[0mframer\u001b[0m\u001b[0;34m.\u001b[0m\u001b[0m_FRAME_SIZE_TARGET\u001b[0m\u001b[0;34m:\u001b[0m\u001b[0;34m\u001b[0m\u001b[0;34m\u001b[0m\u001b[0m\n\u001b[1;32m    803\u001b[0m             \u001b[0mself\u001b[0m\u001b[0;34m.\u001b[0m\u001b[0m_write_large_bytes\u001b[0m\u001b[0;34m(\u001b[0m\u001b[0mBINBYTES\u001b[0m \u001b[0;34m+\u001b[0m \u001b[0mpack\u001b[0m\u001b[0;34m(\u001b[0m\u001b[0;34m\"<I\"\u001b[0m\u001b[0;34m,\u001b[0m \u001b[0mn\u001b[0m\u001b[0;34m)\u001b[0m\u001b[0;34m,\u001b[0m \u001b[0mobj\u001b[0m\u001b[0;34m)\u001b[0m\u001b[0;34m\u001b[0m\u001b[0;34m\u001b[0m\u001b[0m\n",
      "\u001b[0;32m~/opt/anaconda3/lib/python3.8/pickle.py\u001b[0m in \u001b[0;36mwrite_large_bytes\u001b[0;34m(self, header, payload)\u001b[0m\n\u001b[1;32m    258\u001b[0m         \u001b[0;31m# it possible to optimize file.read calls in the loader.\u001b[0m\u001b[0;34m\u001b[0m\u001b[0;34m\u001b[0m\u001b[0;34m\u001b[0m\u001b[0m\n\u001b[1;32m    259\u001b[0m         \u001b[0mwrite\u001b[0m\u001b[0;34m(\u001b[0m\u001b[0mheader\u001b[0m\u001b[0;34m)\u001b[0m\u001b[0;34m\u001b[0m\u001b[0;34m\u001b[0m\u001b[0m\n\u001b[0;32m--> 260\u001b[0;31m         \u001b[0mwrite\u001b[0m\u001b[0;34m(\u001b[0m\u001b[0mpayload\u001b[0m\u001b[0;34m)\u001b[0m\u001b[0;34m\u001b[0m\u001b[0;34m\u001b[0m\u001b[0m\n\u001b[0m\u001b[1;32m    261\u001b[0m \u001b[0;34m\u001b[0m\u001b[0m\n\u001b[1;32m    262\u001b[0m \u001b[0;34m\u001b[0m\u001b[0m\n",
      "\u001b[0;31mOSError\u001b[0m: [Errno 28] No space left on device"
     ]
    }
   ],
   "source": [
    "import dill\n",
    "with open(\"data/df_merge_pivot.dill\", \"wb\") as f:\n",
    "    dill.dump(df_merge_pivot, f)"
   ]
  },
  {
   "cell_type": "code",
   "execution_count": 8,
   "metadata": {},
   "outputs": [],
   "source": [
    "df_merge_pivot.to_csv(\"data/df_merge_pivot.csv\")"
   ]
  },
  {
   "cell_type": "code",
   "execution_count": 12,
   "metadata": {},
   "outputs": [],
   "source": [
    "#df_merge_pivot = pd.read_csv(\"data/df_merge_pivot.csv\")"
   ]
  },
  {
   "cell_type": "code",
   "execution_count": 27,
   "metadata": {},
   "outputs": [
    {
     "data": {
      "text/plain": [
       "matrix([[0., 0., 0., ..., 0., 0., 0.],\n",
       "        [0., 0., 0., ..., 0., 0., 0.],\n",
       "        [0., 0., 0., ..., 0., 0., 0.],\n",
       "        ...,\n",
       "        [0., 0., 0., ..., 0., 0., 0.],\n",
       "        [0., 0., 0., ..., 0., 0., 0.],\n",
       "        [0., 0., 0., ..., 0., 0., 0.]])"
      ]
     },
     "execution_count": 27,
     "metadata": {},
     "output_type": "execute_result"
    }
   ],
   "source": [
    "df_merge_matrix = csr_matrix(df_merge_pivot)\n",
    "df_merge_matrix.todense()"
   ]
  },
  {
   "cell_type": "code",
   "execution_count": 28,
   "metadata": {},
   "outputs": [],
   "source": [
    "scipy.sparse.save_npz('data/sparse_matrix_with_URL_1.npz', df_merge_matrix)"
   ]
  },
  {
   "cell_type": "code",
   "execution_count": 29,
   "metadata": {},
   "outputs": [],
   "source": [
    "#df_merge_matrix = csr_matrix(df_merge_pivot)\n",
    "sparse_matrix = scipy.sparse.load_npz('data/sparse_matrix_with_URL_1.npz')\n",
    "#sparse_matrix"
   ]
  },
  {
   "cell_type": "code",
   "execution_count": 30,
   "metadata": {},
   "outputs": [
    {
     "data": {
      "text/plain": [
       "NearestNeighbors(algorithm='brute', metric='cosine')"
      ]
     },
     "execution_count": 30,
     "metadata": {},
     "output_type": "execute_result"
    }
   ],
   "source": [
    "model_knn = NearestNeighbors(metric='cosine', algorithm='brute')\n",
    "#model_knn = NearestNeighbors(metric='cosine', algorithm='ball_tree')\n",
    "model_knn.fit(sparse_matrix)\n",
    "\n",
    "#distances, indices = model_knn.kneighbors(df_merge_pivot.loc[\"Harry Potter And The Goblet Of Fire\", :].values.reshape(1, -1))"
   ]
  },
  {
   "cell_type": "code",
   "execution_count": null,
   "metadata": {},
   "outputs": [],
   "source": []
  },
  {
   "cell_type": "code",
   "execution_count": 10,
   "metadata": {},
   "outputs": [],
   "source": [
    "import dill"
   ]
  },
  {
   "cell_type": "code",
   "execution_count": 31,
   "metadata": {},
   "outputs": [],
   "source": [
    "with open(\"data/model_knn_1.dill\", \"wb\") as f:\n",
    "    dill.dump(model_knn, f)"
   ]
  },
  {
   "cell_type": "code",
   "execution_count": 32,
   "metadata": {},
   "outputs": [],
   "source": [
    "with open(\"data/model_knn_1.dill\", \"rb\") as f:\n",
    "    model_knn = dill.load(f)"
   ]
  },
  {
   "cell_type": "code",
   "execution_count": 13,
   "metadata": {},
   "outputs": [
    {
     "data": {
      "text/plain": [
       "NearestNeighbors(algorithm='brute', metric='cosine')"
      ]
     },
     "execution_count": 13,
     "metadata": {},
     "output_type": "execute_result"
    }
   ],
   "source": [
    "model_knn"
   ]
  },
  {
   "cell_type": "markdown",
   "metadata": {},
   "source": [
    "## Preprocessing for Vectorizer + FeatureUnion Using Description & ReviewText"
   ]
  },
  {
   "cell_type": "code",
   "execution_count": 15,
   "metadata": {},
   "outputs": [],
   "source": [
    "# Dataframe sorted for each book/title\n",
    "df_merge_review_URL = pd.read_csv('data/df_merge_review_title_with_URL_1.csv')"
   ]
  },
  {
   "cell_type": "code",
   "execution_count": 39,
   "metadata": {},
   "outputs": [
    {
     "data": {
      "text/html": [
       "<div>\n",
       "<style scoped>\n",
       "    .dataframe tbody tr th:only-of-type {\n",
       "        vertical-align: middle;\n",
       "    }\n",
       "\n",
       "    .dataframe tbody tr th {\n",
       "        vertical-align: top;\n",
       "    }\n",
       "\n",
       "    .dataframe thead th {\n",
       "        text-align: right;\n",
       "    }\n",
       "</style>\n",
       "<table border=\"1\" class=\"dataframe\">\n",
       "  <thead>\n",
       "    <tr style=\"text-align: right;\">\n",
       "      <th></th>\n",
       "      <th>asin</th>\n",
       "      <th>reviewText</th>\n",
       "      <th>description</th>\n",
       "      <th>overall</th>\n",
       "      <th>title</th>\n",
       "      <th>URL_x</th>\n",
       "      <th>URL_y</th>\n",
       "    </tr>\n",
       "  </thead>\n",
       "  <tbody>\n",
       "    <tr>\n",
       "      <th>0</th>\n",
       "      <td>000171287X</td>\n",
       "      <td>for getting your kid introduced to his/her ABC...</td>\n",
       "      <td>\"In the B Book, the youngest child will be ent...</td>\n",
       "      <td>4.583333</td>\n",
       "      <td>The Berenstains' B Book (Bright &amp;amp; Early Bo...</td>\n",
       "      <td>https://www.amazon.com/dp/000171287X</td>\n",
       "      <td>https://www.amazon.com/dp/000171287X</td>\n",
       "    </tr>\n",
       "    <tr>\n",
       "      <th>1</th>\n",
       "      <td>0001714538</td>\n",
       "      <td>This book is so cute and so much fun! We borro...</td>\n",
       "      <td>'By Stan Berenstain, Illustrated by Stan Beren...</td>\n",
       "      <td>3.714286</td>\n",
       "      <td>The Berenstain Bears On the Moon (Bright and E...</td>\n",
       "      <td>https://www.amazon.com/dp/0001714538</td>\n",
       "      <td>https://www.amazon.com/dp/0001714538</td>\n",
       "    </tr>\n",
       "    <tr>\n",
       "      <th>2</th>\n",
       "      <td>0006479286</td>\n",
       "      <td>As I read this book in the wake of rereading T...</td>\n",
       "      <td>\"'STEPHEN KING MEETING WITH RUTH RENDELL' - Fr...</td>\n",
       "      <td>3.888889</td>\n",
       "      <td>On the Edge of Darkness</td>\n",
       "      <td>https://www.amazon.com/dp/0006479286</td>\n",
       "      <td>https://www.amazon.com/dp/0006479286</td>\n",
       "    </tr>\n",
       "    <tr>\n",
       "      <th>3</th>\n",
       "      <td>0006485944</td>\n",
       "      <td>I got 80% of the way thru this book and put it...</td>\n",
       "      <td>'Grade 6-9-In a bone-dry summer during the Gre...</td>\n",
       "      <td>4.285714</td>\n",
       "      <td>Dust</td>\n",
       "      <td>https://www.amazon.com/dp/0006485944</td>\n",
       "      <td>https://www.amazon.com/dp/0006485944</td>\n",
       "    </tr>\n",
       "    <tr>\n",
       "      <th>4</th>\n",
       "      <td>0006547192</td>\n",
       "      <td>Shikasta is my all-time favorite sci-fi book -...</td>\n",
       "      <td>\"'Magnificent...an astounding book that sets o...</td>\n",
       "      <td>4.200000</td>\n",
       "      <td>Shikasta : Re-Colonised Planet 5</td>\n",
       "      <td>https://www.amazon.com/dp/0006547192</td>\n",
       "      <td>https://www.amazon.com/dp/0006547192</td>\n",
       "    </tr>\n",
       "    <tr>\n",
       "      <th>5</th>\n",
       "      <td>0006733271</td>\n",
       "      <td>I read the first of these back in fifth grade,...</td>\n",
       "      <td>NaN</td>\n",
       "      <td>4.833333</td>\n",
       "      <td>Chronicles of Prydain</td>\n",
       "      <td>https://www.amazon.com/dp/0006733271</td>\n",
       "      <td>https://www.amazon.com/dp/0006733271</td>\n",
       "    </tr>\n",
       "    <tr>\n",
       "      <th>6</th>\n",
       "      <td>0006751032</td>\n",
       "      <td>After reading War Horse I wanted to read more ...</td>\n",
       "      <td>'Bertie rescues an orphaned white lion cub fro...</td>\n",
       "      <td>4.800000</td>\n",
       "      <td>The Butterfly Lion</td>\n",
       "      <td>https://www.amazon.com/dp/0006751032</td>\n",
       "      <td>https://www.amazon.com/dp/0006751032</td>\n",
       "    </tr>\n",
       "    <tr>\n",
       "      <th>7</th>\n",
       "      <td>0006917801</td>\n",
       "      <td>I, now 34 years old, like most of the other re...</td>\n",
       "      <td>NaN</td>\n",
       "      <td>4.880000</td>\n",
       "      <td>Alfred Hitchcock and The Three Investigators i...</td>\n",
       "      <td>https://www.amazon.com/dp/0006917801</td>\n",
       "      <td>https://www.amazon.com/dp/0006917801</td>\n",
       "    </tr>\n",
       "    <tr>\n",
       "      <th>8</th>\n",
       "      <td>0007111347</td>\n",
       "      <td>While I can see that some readers would be tur...</td>\n",
       "      <td>\"Praise for Laurie R King: 'A compelling, effe...</td>\n",
       "      <td>4.365854</td>\n",
       "      <td>Folly</td>\n",
       "      <td>https://www.amazon.com/dp/0007111347</td>\n",
       "      <td>https://www.amazon.com/dp/0007111347</td>\n",
       "    </tr>\n",
       "    <tr>\n",
       "      <th>9</th>\n",
       "      <td>0007111444</td>\n",
       "      <td>I got this book to keep my son entertained in ...</td>\n",
       "      <td>'The pigs are off to the beach for a picnic bu...</td>\n",
       "      <td>5.000000</td>\n",
       "      <td>Cars and Trucks and Things That Go</td>\n",
       "      <td>https://www.amazon.com/dp/0007111444</td>\n",
       "      <td>https://www.amazon.com/dp/0007111444</td>\n",
       "    </tr>\n",
       "    <tr>\n",
       "      <th>10</th>\n",
       "      <td>0007150342</td>\n",
       "      <td>We stumbled across this book at the library an...</td>\n",
       "      <td>'', 'the best recent picture book by light yea...</td>\n",
       "      <td>4.777778</td>\n",
       "      <td>How to Catch a Star</td>\n",
       "      <td>https://www.amazon.com/dp/0007150342</td>\n",
       "      <td>https://www.amazon.com/dp/0007150342</td>\n",
       "    </tr>\n",
       "    <tr>\n",
       "      <th>11</th>\n",
       "      <td>0007158505</td>\n",
       "      <td>This is one of my favorites. It includes sever...</td>\n",
       "      <td>'', \"Dr. Seuss ignites a child's imagination w...</td>\n",
       "      <td>4.855072</td>\n",
       "      <td>The Sneetches and Other Stories: Yellow Back B...</td>\n",
       "      <td>https://www.amazon.com/dp/0007158505</td>\n",
       "      <td>https://www.amazon.com/dp/0007158505</td>\n",
       "    </tr>\n",
       "    <tr>\n",
       "      <th>12</th>\n",
       "      <td>0007163932</td>\n",
       "      <td>The concept of high sensitivity as an extreme ...</td>\n",
       "      <td>\"15-20% of children are Highly Sensitive -- an...</td>\n",
       "      <td>4.500000</td>\n",
       "      <td>The Highly Sensitive Child: Helping Our Childr...</td>\n",
       "      <td>https://www.amazon.com/dp/0007163932</td>\n",
       "      <td>https://www.amazon.com/dp/0007163932</td>\n",
       "    </tr>\n",
       "    <tr>\n",
       "      <th>13</th>\n",
       "      <td>0007182325</td>\n",
       "      <td>This is one of my favorite books to read to my...</td>\n",
       "      <td>'', \"&lt;STRONG&gt;OLIVER JEFFERS&lt;/STRONG&gt;graduated ...</td>\n",
       "      <td>4.466667</td>\n",
       "      <td>The Way Back Home</td>\n",
       "      <td>https://www.amazon.com/dp/0007182325</td>\n",
       "      <td>https://www.amazon.com/dp/0007182325</td>\n",
       "    </tr>\n",
       "    <tr>\n",
       "      <th>14</th>\n",
       "      <td>0007199058</td>\n",
       "      <td>Captivating book that I've read too many times...</td>\n",
       "      <td>\"This beautiful and deeply moving tale recount...</td>\n",
       "      <td>4.711538</td>\n",
       "      <td>One Child</td>\n",
       "      <td>https://www.amazon.com/dp/0007199058</td>\n",
       "      <td>https://www.amazon.com/dp/0007199058</td>\n",
       "    </tr>\n",
       "    <tr>\n",
       "      <th>15</th>\n",
       "      <td>0007206976</td>\n",
       "      <td>This was one of Torey's better books. I am so ...</td>\n",
       "      <td>\"Torey Hayden returns with this deeply-moving ...</td>\n",
       "      <td>4.565217</td>\n",
       "      <td>Tiger's Child</td>\n",
       "      <td>https://www.amazon.com/dp/0007206976</td>\n",
       "      <td>https://www.amazon.com/dp/0007206976</td>\n",
       "    </tr>\n",
       "    <tr>\n",
       "      <th>16</th>\n",
       "      <td>0007222017</td>\n",
       "      <td>I read this book over the course of two days. ...</td>\n",
       "      <td>'', 'If Judys story doesnt become a book, DVD,...</td>\n",
       "      <td>5.000000</td>\n",
       "      <td>Street Kid:  One Child's Desperate Fight for S...</td>\n",
       "      <td>https://www.amazon.com/dp/0007222017</td>\n",
       "      <td>https://www.amazon.com/dp/0007222017</td>\n",
       "    </tr>\n",
       "    <tr>\n",
       "      <th>17</th>\n",
       "      <td>0007230028</td>\n",
       "      <td>I had bought the trilogy together, so when I f...</td>\n",
       "      <td>'Favoured Child</td>\n",
       "      <td>3.315789</td>\n",
       "      <td>The Favoured Child</td>\n",
       "      <td>https://www.amazon.com/dp/0007230028</td>\n",
       "      <td>https://www.amazon.com/dp/0007230028</td>\n",
       "    </tr>\n",
       "    <tr>\n",
       "      <th>18</th>\n",
       "      <td>0007231318</td>\n",
       "      <td>This series is so good except for this terribl...</td>\n",
       "      <td>NaN</td>\n",
       "      <td>4.000000</td>\n",
       "      <td>Bec (The Demonata)</td>\n",
       "      <td>https://www.amazon.com/dp/0007231318</td>\n",
       "      <td>https://www.amazon.com/dp/0007231318</td>\n",
       "    </tr>\n",
       "    <tr>\n",
       "      <th>19</th>\n",
       "      <td>0007236360</td>\n",
       "      <td>This is an excellent book if your heart can ta...</td>\n",
       "      <td>'', \"'Cannot fail to move those who read it.' ...</td>\n",
       "      <td>4.517699</td>\n",
       "      <td>Damaged: The Heartbreaking True Story of a For...</td>\n",
       "      <td>https://www.amazon.com/dp/0007236360</td>\n",
       "      <td>https://www.amazon.com/dp/0007236360</td>\n",
       "    </tr>\n",
       "    <tr>\n",
       "      <th>20</th>\n",
       "      <td>0007248075</td>\n",
       "      <td>Almost unbelievable. Would like to have known ...</td>\n",
       "      <td>'', \"A chilling account of life in the grip of...</td>\n",
       "      <td>4.262295</td>\n",
       "      <td>Not Without My Sister: The True Story of Three...</td>\n",
       "      <td>https://www.amazon.com/dp/0007248075</td>\n",
       "      <td>https://www.amazon.com/dp/0007248075</td>\n",
       "    </tr>\n",
       "    <tr>\n",
       "      <th>21</th>\n",
       "      <td>0007279043</td>\n",
       "      <td>I received this book for my birthday from a go...</td>\n",
       "      <td>'&lt;P&gt;David Williams is a Welshman and was educa...</td>\n",
       "      <td>4.500000</td>\n",
       "      <td>The Boy in the Dress</td>\n",
       "      <td>https://www.amazon.com/dp/0007279043</td>\n",
       "      <td>https://www.amazon.com/dp/0007279043</td>\n",
       "    </tr>\n",
       "    <tr>\n",
       "      <th>22</th>\n",
       "      <td>0007299109</td>\n",
       "      <td>This is one of my favorite books. The illustra...</td>\n",
       "      <td>'Praise for The Cow That Laid an Egg: `The Cow...</td>\n",
       "      <td>5.000000</td>\n",
       "      <td>Cow That Laid an Egg</td>\n",
       "      <td>https://www.amazon.com/dp/0007299109</td>\n",
       "      <td>https://www.amazon.com/dp/0007299109</td>\n",
       "    </tr>\n",
       "    <tr>\n",
       "      <th>23</th>\n",
       "      <td>0007312164</td>\n",
       "      <td>When I read Noah Boyd's first book the Brickla...</td>\n",
       "      <td>\"'Noah Boyd brings his FBI experience to this ...</td>\n",
       "      <td>4.000000</td>\n",
       "      <td>Last Chance to Die</td>\n",
       "      <td>https://www.amazon.com/dp/0007312164</td>\n",
       "      <td>https://www.amazon.com/dp/0007312164</td>\n",
       "    </tr>\n",
       "    <tr>\n",
       "      <th>24</th>\n",
       "      <td>0007312547</td>\n",
       "      <td>I love this book!  The illustrations are soooo...</td>\n",
       "      <td>'', \"MEOMI is Vicki Wong &amp;#40;Vancouver, Canad...</td>\n",
       "      <td>4.909091</td>\n",
       "      <td>Octonauts &amp;amp; the Frown Fish</td>\n",
       "      <td>https://www.amazon.com/dp/0007312547</td>\n",
       "      <td>https://www.amazon.com/dp/0007312547</td>\n",
       "    </tr>\n",
       "    <tr>\n",
       "      <th>25</th>\n",
       "      <td>0007333463</td>\n",
       "      <td>I wish this isn't the end of the series!!!!!!!...</td>\n",
       "      <td>'', 'Stacy Gregg is the author of successful p...</td>\n",
       "      <td>4.833333</td>\n",
       "      <td>The Prize (Pony Club Rivals, Book 4)</td>\n",
       "      <td>https://www.amazon.com/dp/0007333463</td>\n",
       "      <td>https://www.amazon.com/dp/0007333463</td>\n",
       "    </tr>\n",
       "    <tr>\n",
       "      <th>26</th>\n",
       "      <td>0007347073</td>\n",
       "      <td>My 2 year old boy loves this book.  It is one ...</td>\n",
       "      <td>'Cuddle up and share this feel-good book from ...</td>\n",
       "      <td>4.285714</td>\n",
       "      <td>How Do Dinosaurs Say I Love You?</td>\n",
       "      <td>https://www.amazon.com/dp/0007347073</td>\n",
       "      <td>https://www.amazon.com/dp/0007347073</td>\n",
       "    </tr>\n",
       "    <tr>\n",
       "      <th>27</th>\n",
       "      <td>0007367759</td>\n",
       "      <td>In the late 1950s Eric Newby, who had been liv...</td>\n",
       "      <td>\"&lt;P&gt;Eric Newby began his travelling career in ...</td>\n",
       "      <td>4.548387</td>\n",
       "      <td>A Short Walk in the Hindu Kush</td>\n",
       "      <td>https://www.amazon.com/dp/0007367759</td>\n",
       "      <td>https://www.amazon.com/dp/0007367759</td>\n",
       "    </tr>\n",
       "    <tr>\n",
       "      <th>28</th>\n",
       "      <td>0007446128</td>\n",
       "      <td>Glittery cover, beautiful illustrations, and a...</td>\n",
       "      <td>NaN</td>\n",
       "      <td>4.954545</td>\n",
       "      <td>Fancy Nancy and the Mermaid Ballet</td>\n",
       "      <td>https://www.amazon.com/dp/0007446128</td>\n",
       "      <td>https://www.amazon.com/dp/0007446128</td>\n",
       "    </tr>\n",
       "    <tr>\n",
       "      <th>29</th>\n",
       "      <td>0007450168</td>\n",
       "      <td>My granddaughter loved the book as a child and...</td>\n",
       "      <td>'&lt;P&gt; the most researched-crammed fantasy ever ...</td>\n",
       "      <td>4.833333</td>\n",
       "      <td>The Complete Brambly Hedge (Brambly Hedge)</td>\n",
       "      <td>https://www.amazon.com/dp/0007450168</td>\n",
       "      <td>https://www.amazon.com/dp/0007450168</td>\n",
       "    </tr>\n",
       "  </tbody>\n",
       "</table>\n",
       "</div>"
      ],
      "text/plain": [
       "          asin                                         reviewText  \\\n",
       "0   000171287X  for getting your kid introduced to his/her ABC...   \n",
       "1   0001714538  This book is so cute and so much fun! We borro...   \n",
       "2   0006479286  As I read this book in the wake of rereading T...   \n",
       "3   0006485944  I got 80% of the way thru this book and put it...   \n",
       "4   0006547192  Shikasta is my all-time favorite sci-fi book -...   \n",
       "5   0006733271  I read the first of these back in fifth grade,...   \n",
       "6   0006751032  After reading War Horse I wanted to read more ...   \n",
       "7   0006917801  I, now 34 years old, like most of the other re...   \n",
       "8   0007111347  While I can see that some readers would be tur...   \n",
       "9   0007111444  I got this book to keep my son entertained in ...   \n",
       "10  0007150342  We stumbled across this book at the library an...   \n",
       "11  0007158505  This is one of my favorites. It includes sever...   \n",
       "12  0007163932  The concept of high sensitivity as an extreme ...   \n",
       "13  0007182325  This is one of my favorite books to read to my...   \n",
       "14  0007199058  Captivating book that I've read too many times...   \n",
       "15  0007206976  This was one of Torey's better books. I am so ...   \n",
       "16  0007222017  I read this book over the course of two days. ...   \n",
       "17  0007230028  I had bought the trilogy together, so when I f...   \n",
       "18  0007231318  This series is so good except for this terribl...   \n",
       "19  0007236360  This is an excellent book if your heart can ta...   \n",
       "20  0007248075  Almost unbelievable. Would like to have known ...   \n",
       "21  0007279043  I received this book for my birthday from a go...   \n",
       "22  0007299109  This is one of my favorite books. The illustra...   \n",
       "23  0007312164  When I read Noah Boyd's first book the Brickla...   \n",
       "24  0007312547  I love this book!  The illustrations are soooo...   \n",
       "25  0007333463  I wish this isn't the end of the series!!!!!!!...   \n",
       "26  0007347073  My 2 year old boy loves this book.  It is one ...   \n",
       "27  0007367759  In the late 1950s Eric Newby, who had been liv...   \n",
       "28  0007446128  Glittery cover, beautiful illustrations, and a...   \n",
       "29  0007450168  My granddaughter loved the book as a child and...   \n",
       "\n",
       "                                          description   overall  \\\n",
       "0   \"In the B Book, the youngest child will be ent...  4.583333   \n",
       "1   'By Stan Berenstain, Illustrated by Stan Beren...  3.714286   \n",
       "2   \"'STEPHEN KING MEETING WITH RUTH RENDELL' - Fr...  3.888889   \n",
       "3   'Grade 6-9-In a bone-dry summer during the Gre...  4.285714   \n",
       "4   \"'Magnificent...an astounding book that sets o...  4.200000   \n",
       "5                                                 NaN  4.833333   \n",
       "6   'Bertie rescues an orphaned white lion cub fro...  4.800000   \n",
       "7                                                 NaN  4.880000   \n",
       "8   \"Praise for Laurie R King: 'A compelling, effe...  4.365854   \n",
       "9   'The pigs are off to the beach for a picnic bu...  5.000000   \n",
       "10  '', 'the best recent picture book by light yea...  4.777778   \n",
       "11  '', \"Dr. Seuss ignites a child's imagination w...  4.855072   \n",
       "12  \"15-20% of children are Highly Sensitive -- an...  4.500000   \n",
       "13  '', \"<STRONG>OLIVER JEFFERS</STRONG>graduated ...  4.466667   \n",
       "14  \"This beautiful and deeply moving tale recount...  4.711538   \n",
       "15  \"Torey Hayden returns with this deeply-moving ...  4.565217   \n",
       "16  '', 'If Judys story doesnt become a book, DVD,...  5.000000   \n",
       "17                                    'Favoured Child  3.315789   \n",
       "18                                                NaN  4.000000   \n",
       "19  '', \"'Cannot fail to move those who read it.' ...  4.517699   \n",
       "20  '', \"A chilling account of life in the grip of...  4.262295   \n",
       "21  '<P>David Williams is a Welshman and was educa...  4.500000   \n",
       "22  'Praise for The Cow That Laid an Egg: `The Cow...  5.000000   \n",
       "23  \"'Noah Boyd brings his FBI experience to this ...  4.000000   \n",
       "24  '', \"MEOMI is Vicki Wong &#40;Vancouver, Canad...  4.909091   \n",
       "25  '', 'Stacy Gregg is the author of successful p...  4.833333   \n",
       "26  'Cuddle up and share this feel-good book from ...  4.285714   \n",
       "27  \"<P>Eric Newby began his travelling career in ...  4.548387   \n",
       "28                                                NaN  4.954545   \n",
       "29  '<P> the most researched-crammed fantasy ever ...  4.833333   \n",
       "\n",
       "                                                title  \\\n",
       "0   The Berenstains' B Book (Bright &amp; Early Bo...   \n",
       "1   The Berenstain Bears On the Moon (Bright and E...   \n",
       "2                             On the Edge of Darkness   \n",
       "3                                                Dust   \n",
       "4                    Shikasta : Re-Colonised Planet 5   \n",
       "5                               Chronicles of Prydain   \n",
       "6                                  The Butterfly Lion   \n",
       "7   Alfred Hitchcock and The Three Investigators i...   \n",
       "8                                               Folly   \n",
       "9                  Cars and Trucks and Things That Go   \n",
       "10                                How to Catch a Star   \n",
       "11  The Sneetches and Other Stories: Yellow Back B...   \n",
       "12  The Highly Sensitive Child: Helping Our Childr...   \n",
       "13                                  The Way Back Home   \n",
       "14                                          One Child   \n",
       "15                                      Tiger's Child   \n",
       "16  Street Kid:  One Child's Desperate Fight for S...   \n",
       "17                                 The Favoured Child   \n",
       "18                                 Bec (The Demonata)   \n",
       "19  Damaged: The Heartbreaking True Story of a For...   \n",
       "20  Not Without My Sister: The True Story of Three...   \n",
       "21                               The Boy in the Dress   \n",
       "22                               Cow That Laid an Egg   \n",
       "23                                 Last Chance to Die   \n",
       "24                     Octonauts &amp; the Frown Fish   \n",
       "25               The Prize (Pony Club Rivals, Book 4)   \n",
       "26                   How Do Dinosaurs Say I Love You?   \n",
       "27                     A Short Walk in the Hindu Kush   \n",
       "28                 Fancy Nancy and the Mermaid Ballet   \n",
       "29         The Complete Brambly Hedge (Brambly Hedge)   \n",
       "\n",
       "                                   URL_x                                 URL_y  \n",
       "0   https://www.amazon.com/dp/000171287X  https://www.amazon.com/dp/000171287X  \n",
       "1   https://www.amazon.com/dp/0001714538  https://www.amazon.com/dp/0001714538  \n",
       "2   https://www.amazon.com/dp/0006479286  https://www.amazon.com/dp/0006479286  \n",
       "3   https://www.amazon.com/dp/0006485944  https://www.amazon.com/dp/0006485944  \n",
       "4   https://www.amazon.com/dp/0006547192  https://www.amazon.com/dp/0006547192  \n",
       "5   https://www.amazon.com/dp/0006733271  https://www.amazon.com/dp/0006733271  \n",
       "6   https://www.amazon.com/dp/0006751032  https://www.amazon.com/dp/0006751032  \n",
       "7   https://www.amazon.com/dp/0006917801  https://www.amazon.com/dp/0006917801  \n",
       "8   https://www.amazon.com/dp/0007111347  https://www.amazon.com/dp/0007111347  \n",
       "9   https://www.amazon.com/dp/0007111444  https://www.amazon.com/dp/0007111444  \n",
       "10  https://www.amazon.com/dp/0007150342  https://www.amazon.com/dp/0007150342  \n",
       "11  https://www.amazon.com/dp/0007158505  https://www.amazon.com/dp/0007158505  \n",
       "12  https://www.amazon.com/dp/0007163932  https://www.amazon.com/dp/0007163932  \n",
       "13  https://www.amazon.com/dp/0007182325  https://www.amazon.com/dp/0007182325  \n",
       "14  https://www.amazon.com/dp/0007199058  https://www.amazon.com/dp/0007199058  \n",
       "15  https://www.amazon.com/dp/0007206976  https://www.amazon.com/dp/0007206976  \n",
       "16  https://www.amazon.com/dp/0007222017  https://www.amazon.com/dp/0007222017  \n",
       "17  https://www.amazon.com/dp/0007230028  https://www.amazon.com/dp/0007230028  \n",
       "18  https://www.amazon.com/dp/0007231318  https://www.amazon.com/dp/0007231318  \n",
       "19  https://www.amazon.com/dp/0007236360  https://www.amazon.com/dp/0007236360  \n",
       "20  https://www.amazon.com/dp/0007248075  https://www.amazon.com/dp/0007248075  \n",
       "21  https://www.amazon.com/dp/0007279043  https://www.amazon.com/dp/0007279043  \n",
       "22  https://www.amazon.com/dp/0007299109  https://www.amazon.com/dp/0007299109  \n",
       "23  https://www.amazon.com/dp/0007312164  https://www.amazon.com/dp/0007312164  \n",
       "24  https://www.amazon.com/dp/0007312547  https://www.amazon.com/dp/0007312547  \n",
       "25  https://www.amazon.com/dp/0007333463  https://www.amazon.com/dp/0007333463  \n",
       "26  https://www.amazon.com/dp/0007347073  https://www.amazon.com/dp/0007347073  \n",
       "27  https://www.amazon.com/dp/0007367759  https://www.amazon.com/dp/0007367759  \n",
       "28  https://www.amazon.com/dp/0007446128  https://www.amazon.com/dp/0007446128  \n",
       "29  https://www.amazon.com/dp/0007450168  https://www.amazon.com/dp/0007450168  "
      ]
     },
     "execution_count": 39,
     "metadata": {},
     "output_type": "execute_result"
    }
   ],
   "source": [
    "df_merge_review_URL.head(30)"
   ]
  },
  {
   "cell_type": "code",
   "execution_count": 16,
   "metadata": {},
   "outputs": [],
   "source": [
    "# Prepare data as a dictionary that can be fed into DictVectorizer\n",
    "class DictEncoder(base.BaseEstimator, base.TransformerMixin):\n",
    "    \n",
    "    def __init__(self, col):\n",
    "        self.col = col\n",
    "    \n",
    "    def fit(self, X, y=None):\n",
    "        return self\n",
    "    \n",
    "    def transform(self, X):\n",
    "        \n",
    "        def to_dict(l):\n",
    "            try:\n",
    "                return {x: 1 for x in l}\n",
    "            except TypeError:\n",
    "                return {}\n",
    "        \n",
    "        return X[self.col].apply(to_dict)"
   ]
  },
  {
   "cell_type": "code",
   "execution_count": 17,
   "metadata": {},
   "outputs": [],
   "source": [
    "merge_review_pipe = Pipeline([\n",
    "    ('encoder', DictEncoder('reviewText')),\n",
    "    ('vectorizer', DictVectorizer())\n",
    "])\n",
    "merge_desc_pipe = Pipeline([\n",
    "    ('encoder', DictEncoder('description')),\n",
    "    ('vectorizer', DictVectorizer())\n",
    "])"
   ]
  },
  {
   "cell_type": "markdown",
   "metadata": {},
   "source": [
    "## Preprocessing for Word2Vec Model"
   ]
  },
  {
   "cell_type": "code",
   "execution_count": 18,
   "metadata": {},
   "outputs": [
    {
     "name": "stdout",
     "output_type": "stream",
     "text": [
      "Shape of feature matrix: (4233, 100, 30)\n"
     ]
    }
   ],
   "source": [
    "w2v_review_each_book = Word2Vec.load('combined_review_children_books_w2v_1.model')\n",
    "\n",
    "def vectorize_combined_reviews(data, maxlen=100, embedding_dim=30):\n",
    "    \"\"\"\n",
    "    Returns a 3D array of shape\n",
    "    n reviews x maxlen x embedding_dim. \n",
    "    \"\"\"\n",
    "    # Create empty array\n",
    "    vectorized_data = np.zeros(shape=(len(data), maxlen, embedding_dim))\n",
    "    \n",
    "    for row, review in enumerate(data):\n",
    "        # Preprocess each review\n",
    "        tokens = simple_preprocess(review)\n",
    "        \n",
    "        # Truncate long reviews\n",
    "        if len(tokens) > maxlen:\n",
    "            tokens = tokens[:maxlen]\n",
    "        \n",
    "        # Get vector for each token in review\n",
    "        for col, token in enumerate(tokens):\n",
    "            try:\n",
    "                word_vector = w2v_review_each_book.wv[token]\n",
    "                # Add vector to array\n",
    "                vectorized_data[row, col] = word_vector[:embedding_dim]\n",
    "            except KeyError:\n",
    "                pass\n",
    "    \n",
    "    return vectorized_data\n",
    "\n",
    "maxlen = 100        # Our predetermined limit\n",
    "embedding_dim = 30 # The first 30 values in our w2v vectors\n",
    "\n",
    "X = vectorize_combined_reviews(df_merge_review_URL.reviewText, maxlen, embedding_dim)\n",
    "\n",
    "print('Shape of feature matrix:', X.shape)"
   ]
  },
  {
   "cell_type": "code",
   "execution_count": 19,
   "metadata": {},
   "outputs": [],
   "source": [
    "# calculate mean of vectors for each book\n",
    "average_vec = []\n",
    "\n",
    "for i in range(len(X)):\n",
    "    average = np.mean(X[i], axis=0)\n",
    "    average_vec.append(average)"
   ]
  },
  {
   "cell_type": "code",
   "execution_count": 20,
   "metadata": {},
   "outputs": [],
   "source": [
    "with open(\"data/average_vec_1.dill\", \"wb\") as f:\n",
    "    dill.dump(average_vec, f)"
   ]
  },
  {
   "cell_type": "code",
   "execution_count": null,
   "metadata": {},
   "outputs": [],
   "source": []
  },
  {
   "cell_type": "markdown",
   "metadata": {},
   "source": [
    "### Collection of Recommendation Models"
   ]
  },
  {
   "cell_type": "code",
   "execution_count": 41,
   "metadata": {},
   "outputs": [],
   "source": [
    "# Recommender from user ratings - collaborative filtering. pivot table + NearestNeighbors\n",
    "def book_recommender_collab(string):\n",
    "    \n",
    "    title = df_merge_pivot[df_merge_pivot.index.str.contains(string)].index[0]\n",
    "    \n",
    "    #distances, indices = model_knn.kneighbors(df_merge_pivot.loc[title, :].values.reshape(1, -1), n_neighbors=21908)\n",
    "    distances, indices = model_knn.kneighbors(df_merge_pivot.loc[title, :].values.reshape(1, -1), n_neighbors=3924)\n",
    "    titles = df_merge_pivot.index[np.array(indices.flatten())]\n",
    "    \n",
    "    return titles, distances.flatten()\n",
    "    # for i in range(0, len(distances.flatten())):\n",
    "    #     if i == 0:\n",
    "    #         print(f'Recommendations for {title}:')\n",
    "    #     else:\n",
    "    #         #print('{0}: {1}, with distance of {2}:'.format(i, df_merge_pivot.index[indices.flatten()[i]], distances.flatten()[i]))\n",
    "    #         print(f\"{i}: {df_merge_pivot.index[indices.flatten()[i]]}, with distance of {distances.flatten()[i]}\")"
   ]
  },
  {
   "cell_type": "code",
   "execution_count": 43,
   "metadata": {},
   "outputs": [
    {
     "data": {
      "text/plain": [
       "(Index(['The Way Back Home', 'Young Cam Jansen and the Speedy Car Mystery',\n",
       "        'My Secret Camera', 'Adventure Annie Goes to Kindergarten',\n",
       "        'Little White Rabbit', 'Pat the Cat (Pat the Bunny) (Touch-and-Feel)',\n",
       "        'Postcards From Puffin: 100 Book Covers in One Box', 'Betsy Red Hoodie',\n",
       "        'Fairy Wings', 'The Ghost of Nicholas Greebe (Picture Puffins)',\n",
       "        ...\n",
       "        'Horrible Harry in Room 2B', 'How Do Apples Grow?',\n",
       "        'How the Other Half Lives: Studies Among the Tenements of New York',\n",
       "        'How to Lose All Your Friends (Picture Puffins)', 'Human Development',\n",
       "        'I Can Read and Speak in Spanish (Book + Audio CD)',\n",
       "        'I Like Me! (Picture Puffin Books)',\n",
       "        'IMMIGRANT KIDS (PAPERBACK) 1995C PUFFIN', 'A Fairy Went a-Marketing',\n",
       "        'Zero Tolerance'],\n",
       "       dtype='object', name='title', length=3924),\n",
       " array([1.11022302e-16, 8.46237528e-01, 8.48881206e-01, ...,\n",
       "        1.00000000e+00, 1.00000000e+00, 1.00000000e+00]))"
      ]
     },
     "execution_count": 43,
     "metadata": {},
     "output_type": "execute_result"
    }
   ],
   "source": [
    "bambi_rec_collab = book_recommender_collab(\"The Way\")\n",
    "bambi_rec_collab"
   ]
  },
  {
   "cell_type": "code",
   "execution_count": 23,
   "metadata": {},
   "outputs": [],
   "source": [
    "# Recommender using reviewText and description for each book. vectorizer + FeatureUnion + NearestNeighbors\n",
    "def book_recommender_text_features(w1, w2, string):\n",
    "    \"\"\"\n",
    "    book recommendation system using\n",
    "    w1: weight for review feature\n",
    "    w2: weight for description feature\n",
    "    string: substring of a title\n",
    "    \"\"\"\n",
    "    union_merge = FeatureUnion([('reviewText', merge_review_pipe),\n",
    "                      ('description', merge_desc_pipe)],\n",
    "                    transformer_weights={\n",
    "            'reviewText': w1,\n",
    "            'description': w2\n",
    "        })\n",
    "    features_merge_review = union_merge.fit_transform(df_merge_review_URL)\n",
    "    \n",
    "#     with open(\"data/features_merge_review.dill\", \"wb\") as f:\n",
    "#         dill.dump(features_merge_review, f)\n",
    "        \n",
    "    # with open(\"data/features_merge_review.dill\", \"rb\") as f:\n",
    "    #     features_merge_review = dill.load(f)\n",
    "        \n",
    "    union_merge_review_model = NearestNeighbors(metric='cosine', algorithm='brute')\n",
    "    union_merge_review_model.fit(features_merge_review)\n",
    "    \n",
    "#     with open(\"data/union_merge_review_model.dill\", \"wb\") as f:\n",
    "#         dill.dump(union_merge_review_model, f)\n",
    "        \n",
    "    # with open(\"data/union_merge_review_model.dill\", \"rb\") as f:\n",
    "    #     union_merge_review_model = dill.load(f)\n",
    "        \n",
    "    index1 = df_merge_review_URL[df_merge_review_URL.title.str.contains(string)].index[0]\n",
    "    title1 = df_merge_review_URL[df_merge_review_URL.title.str.contains(string)]['title'].values[0]\n",
    "    \n",
    "    #distances, indices = union_merge_review_model.kneighbors(features_merge_review[index1], n_neighbors=6)\n",
    "    distances, indices = union_merge_review_model.kneighbors(features_merge_review[index1], n_neighbors=df_merge_review_URL.shape[0])\n",
    "    titles = df_merge_review_URL['title'][df_merge_review_URL.index[np.array(indices.flatten())]].tolist()\n",
    "    #print(titles)\n",
    "    \n",
    "    #return distances, indices, titles\n",
    "    return titles, distances.flatten()\n",
    "    # for i in range(0, len(distances.flatten())):\n",
    "    #     if i == 0:\n",
    "    #         print(f\"Recommendations for {title1}\")\n",
    "    #     else:\n",
    "    #         print(f\"{i}: {df_merge_review['title'][df_merge_review.index[indices.flatten()[i]]]}, with distance of {distances.flatten()[i]}\")"
   ]
  },
  {
   "cell_type": "code",
   "execution_count": 46,
   "metadata": {},
   "outputs": [],
   "source": [
    "bambi_rec_vect = book_recommender_text_features(0.2, 1, \"The Way\")\n",
    "#bambi_rec_vect"
   ]
  },
  {
   "cell_type": "code",
   "execution_count": 47,
   "metadata": {},
   "outputs": [],
   "source": [
    "# Recommender using Word2Vec model\n",
    "\n",
    "def book_recommender_wv(string):\n",
    "    # finding cosine similarity for the vectors\n",
    "    cosine_similarities = cosine_similarity(average_vec, average_vec)\n",
    "    \n",
    "    with open(\"data/cosine_similarities_1.dill\", \"wb\") as f:\n",
    "        dill.dump(cosine_similarities, f)\n",
    "        \n",
    "    with open(\"data/cosine_similarities_1.dill\", \"rb\") as f:\n",
    "        cosine_similarities = dill.load(f)\n",
    "    \n",
    "    #print(type(cosine_similarities))\n",
    "    \n",
    "    #title\n",
    "    #books = df_merge_review_URL[['title']]\n",
    "    #print(books)\n",
    "    #Reverse mapping of the index\n",
    "    indices = pd.Series(df_merge_review_URL.index, index = df_merge_review_URL['title']).drop_duplicates()\n",
    "    #print(indices)\n",
    "    \n",
    "    title = df_merge_review_URL[df_merge_review_URL.title.str.contains(string) == True].index[0]\n",
    "    idx = indices[title]\n",
    "    #print(title, idx) # title == idx?\n",
    "    # sim_scores = list(enumerate(cosine_similarities[idx]))\n",
    "    # sim_scores = sorted(sim_scores, key = lambda x: x[1], reverse = True)\n",
    "    sim_scores = list(enumerate(1-cosine_similarities[idx]))\n",
    "    #print(sim_scores)\n",
    "    ##sim_scores = sorted(sim_scores, key = lambda x: x[1])\n",
    "    #print(sim_scores)\n",
    "    titles = df_merge_review_URL['title'][df_merge_review_URL.index[np.array(indices)]].tolist()\n",
    "    #sim_scores = sim_scores[1:6]\n",
    "    return titles, sim_scores\n",
    "#     book_indices = [i[0] for i in sim_scores]\n",
    "#     recommend = books.iloc[book_indices]\n",
    "#     #print(recommend, len(recommend))\n",
    "#     for index, row in recommend.iterrows():\n",
    "#         print(row['title'], index, row)\n",
    "        \n",
    "#     return np.min(cosine_similarities), np.max(cosine_similarities)"
   ]
  },
  {
   "cell_type": "code",
   "execution_count": 48,
   "metadata": {},
   "outputs": [],
   "source": [
    "bambi_rec_wv = book_recommender_wv(\"The Way\")"
   ]
  },
  {
   "cell_type": "code",
   "execution_count": 50,
   "metadata": {},
   "outputs": [],
   "source": [
    "#bambi_rec_wv"
   ]
  },
  {
   "cell_type": "code",
   "execution_count": null,
   "metadata": {},
   "outputs": [],
   "source": []
  },
  {
   "cell_type": "code",
   "execution_count": null,
   "metadata": {},
   "outputs": [],
   "source": []
  },
  {
   "cell_type": "code",
   "execution_count": 23,
   "metadata": {},
   "outputs": [],
   "source": [
    "def to_dataframe(rec_tuple):\n",
    "    df = pd.DataFrame(rec_tuple).T\n",
    "    df.columns = [\"title\", \"distance\", \"URL\", \"image\"]\n",
    "    return df"
   ]
  },
  {
   "cell_type": "code",
   "execution_count": null,
   "metadata": {},
   "outputs": [],
   "source": []
  },
  {
   "cell_type": "code",
   "execution_count": 29,
   "metadata": {},
   "outputs": [
    {
     "ename": "NameError",
     "evalue": "name 'df_wv' is not defined",
     "output_type": "error",
     "traceback": [
      "\u001b[0;31m---------------------------------------------------------------------------\u001b[0m",
      "\u001b[0;31mNameError\u001b[0m                                 Traceback (most recent call last)",
      "\u001b[0;32m/var/folders/sf/_m3jncf51zgdm38790_vm2pw0000gn/T/ipykernel_1307/201080228.py\u001b[0m in \u001b[0;36m<module>\u001b[0;34m\u001b[0m\n\u001b[0;32m----> 1\u001b[0;31m \u001b[0mdf_wv\u001b[0m\u001b[0;34m[\u001b[0m\u001b[0;34m'distance'\u001b[0m\u001b[0;34m]\u001b[0m \u001b[0;34m=\u001b[0m \u001b[0mdf_wv\u001b[0m\u001b[0;34m[\u001b[0m\u001b[0;34m'distance'\u001b[0m\u001b[0;34m]\u001b[0m\u001b[0;34m.\u001b[0m\u001b[0mstr\u001b[0m\u001b[0;34m[\u001b[0m\u001b[0;36m1\u001b[0m\u001b[0;34m]\u001b[0m\u001b[0;34m\u001b[0m\u001b[0;34m\u001b[0m\u001b[0m\n\u001b[0m",
      "\u001b[0;31mNameError\u001b[0m: name 'df_wv' is not defined"
     ]
    }
   ],
   "source": [
    "df_wv['distance'] = df_wv['distance'].str[1]"
   ]
  },
  {
   "cell_type": "markdown",
   "metadata": {},
   "source": [
    "## Combined Model"
   ]
  },
  {
   "cell_type": "code",
   "execution_count": 24,
   "metadata": {},
   "outputs": [],
   "source": [
    "from functools import reduce\n",
    "import timeit"
   ]
  },
  {
   "cell_type": "code",
   "execution_count": 25,
   "metadata": {},
   "outputs": [],
   "source": [
    "def combined_model(w_collab=1.0, w_vect_desc=1.0, w_vect_review=0.2, w_feature_union=1.0, w_wv=1.0, string=\"Bambi\", n_rec=5):\n",
    "    df_collab = to_dataframe(book_recommender_collab(string))\n",
    "    df_vect = to_dataframe(book_recommender_text_features(w_vect_desc, w_vect_review, string))\n",
    "    df_wv = to_dataframe(book_recommender_wv(string))\n",
    "    df_wv['distance'] = df_wv['distance'].str[1]\n",
    "    \n",
    "    df_join = reduce(lambda left, right: pd.merge(left,right,on=['title'],\n",
    "                                            how='outer'), [df_collab, df_vect, df_wv])\n",
    "    df_join.columns = ['title', 'dist_collab', 'dist_vect', 'dist_wv', 'URL', 'image']\n",
    "    \n",
    "    df_join['dist_metric'] = w_collab * df_join['dist_collab'] + w_feature_union * df_join['dist_vect'] \\\n",
    "            + w_wv * df_join['dist_wv']\n",
    "#     df_join.sort_values('dist_metric')[[\"title\", \"dist_metric\", \"URL\", \"image\"]].head(10)\n",
    "    \n",
    "#     # Top 5 book recommendation\n",
    "#     rec = df_join[['title', 'image_url']].iloc[movie_indices]\n",
    "       \n",
    "#     # It reads the top 5 recommend book url and print the images\n",
    "    \n",
    "#     for i in rec['image_url']:\n",
    "#         response = requests.get(i)\n",
    "#         img = Image.open(BytesIO(response.content))\n",
    "#         plt.figure()\n",
    "#         print(plt.imshow(img))\n",
    "    return df_join.sort_values('dist_metric')[[\"title\", \"URL\"]].head(n_rec)\n",
    "    \n",
    "#     ind_f = np.argsort(metric)[:n_rec]\n",
    "    \n",
    "#     for i in range(n_rec):\n",
    "#         if i == 0:\n",
    "#             print(f\"Recommendations for {title}\")\n",
    "#         else:\n",
    "#             print(f\"{i}: {df_merge_review['title'][df_merge_review.index[ind_final.flatten()[i]]]}\")"
   ]
  },
  {
   "cell_type": "code",
   "execution_count": 26,
   "metadata": {},
   "outputs": [
    {
     "ename": "ValueError",
     "evalue": "Length mismatch: Expected axis has 2 elements, new values have 4 elements",
     "output_type": "error",
     "traceback": [
      "\u001b[0;31m---------------------------------------------------------------------------\u001b[0m",
      "\u001b[0;31mValueError\u001b[0m                                Traceback (most recent call last)",
      "\u001b[0;32m/var/folders/sf/_m3jncf51zgdm38790_vm2pw0000gn/T/ipykernel_788/1165528953.py\u001b[0m in \u001b[0;36m<module>\u001b[0;34m\u001b[0m\n\u001b[0;32m----> 1\u001b[0;31m \u001b[0mcombined_model\u001b[0m\u001b[0;34m(\u001b[0m\u001b[0mw_collab\u001b[0m\u001b[0;34m=\u001b[0m\u001b[0;36m1.0\u001b[0m\u001b[0;34m,\u001b[0m \u001b[0mw_vect_desc\u001b[0m\u001b[0;34m=\u001b[0m\u001b[0;36m1.0\u001b[0m\u001b[0;34m,\u001b[0m \u001b[0mw_vect_review\u001b[0m\u001b[0;34m=\u001b[0m\u001b[0;36m0.2\u001b[0m\u001b[0;34m,\u001b[0m \u001b[0mw_feature_union\u001b[0m\u001b[0;34m=\u001b[0m\u001b[0;36m1.0\u001b[0m\u001b[0;34m,\u001b[0m \u001b[0mw_wv\u001b[0m\u001b[0;34m=\u001b[0m\u001b[0;36m1.0\u001b[0m\u001b[0;34m,\u001b[0m \u001b[0mstring\u001b[0m\u001b[0;34m=\u001b[0m\u001b[0;34m\"Bambi\"\u001b[0m\u001b[0;34m,\u001b[0m \u001b[0mn_rec\u001b[0m\u001b[0;34m=\u001b[0m\u001b[0;36m5\u001b[0m\u001b[0;34m)\u001b[0m\u001b[0;34m\u001b[0m\u001b[0;34m\u001b[0m\u001b[0m\n\u001b[0m",
      "\u001b[0;32m/var/folders/sf/_m3jncf51zgdm38790_vm2pw0000gn/T/ipykernel_788/3758382537.py\u001b[0m in \u001b[0;36mcombined_model\u001b[0;34m(w_collab, w_vect_desc, w_vect_review, w_feature_union, w_wv, string, n_rec)\u001b[0m\n\u001b[1;32m      1\u001b[0m \u001b[0;32mdef\u001b[0m \u001b[0mcombined_model\u001b[0m\u001b[0;34m(\u001b[0m\u001b[0mw_collab\u001b[0m\u001b[0;34m=\u001b[0m\u001b[0;36m1.0\u001b[0m\u001b[0;34m,\u001b[0m \u001b[0mw_vect_desc\u001b[0m\u001b[0;34m=\u001b[0m\u001b[0;36m1.0\u001b[0m\u001b[0;34m,\u001b[0m \u001b[0mw_vect_review\u001b[0m\u001b[0;34m=\u001b[0m\u001b[0;36m0.2\u001b[0m\u001b[0;34m,\u001b[0m \u001b[0mw_feature_union\u001b[0m\u001b[0;34m=\u001b[0m\u001b[0;36m1.0\u001b[0m\u001b[0;34m,\u001b[0m \u001b[0mw_wv\u001b[0m\u001b[0;34m=\u001b[0m\u001b[0;36m1.0\u001b[0m\u001b[0;34m,\u001b[0m \u001b[0mstring\u001b[0m\u001b[0;34m=\u001b[0m\u001b[0;34m\"Bambi\"\u001b[0m\u001b[0;34m,\u001b[0m \u001b[0mn_rec\u001b[0m\u001b[0;34m=\u001b[0m\u001b[0;36m5\u001b[0m\u001b[0;34m)\u001b[0m\u001b[0;34m:\u001b[0m\u001b[0;34m\u001b[0m\u001b[0;34m\u001b[0m\u001b[0m\n\u001b[0;32m----> 2\u001b[0;31m     \u001b[0mdf_collab\u001b[0m \u001b[0;34m=\u001b[0m \u001b[0mto_dataframe\u001b[0m\u001b[0;34m(\u001b[0m\u001b[0mbook_recommender_collab\u001b[0m\u001b[0;34m(\u001b[0m\u001b[0mstring\u001b[0m\u001b[0;34m)\u001b[0m\u001b[0;34m)\u001b[0m\u001b[0;34m\u001b[0m\u001b[0;34m\u001b[0m\u001b[0m\n\u001b[0m\u001b[1;32m      3\u001b[0m     \u001b[0mdf_vect\u001b[0m \u001b[0;34m=\u001b[0m \u001b[0mto_dataframe\u001b[0m\u001b[0;34m(\u001b[0m\u001b[0mbook_recommender_text_features\u001b[0m\u001b[0;34m(\u001b[0m\u001b[0mw_vect_desc\u001b[0m\u001b[0;34m,\u001b[0m \u001b[0mw_vect_review\u001b[0m\u001b[0;34m,\u001b[0m \u001b[0mstring\u001b[0m\u001b[0;34m)\u001b[0m\u001b[0;34m)\u001b[0m\u001b[0;34m\u001b[0m\u001b[0;34m\u001b[0m\u001b[0m\n\u001b[1;32m      4\u001b[0m     \u001b[0mdf_wv\u001b[0m \u001b[0;34m=\u001b[0m \u001b[0mto_dataframe\u001b[0m\u001b[0;34m(\u001b[0m\u001b[0mbook_recommender_wv\u001b[0m\u001b[0;34m(\u001b[0m\u001b[0mstring\u001b[0m\u001b[0;34m)\u001b[0m\u001b[0;34m)\u001b[0m\u001b[0;34m\u001b[0m\u001b[0;34m\u001b[0m\u001b[0m\n\u001b[1;32m      5\u001b[0m     \u001b[0mdf_wv\u001b[0m\u001b[0;34m[\u001b[0m\u001b[0;34m'distance'\u001b[0m\u001b[0;34m]\u001b[0m \u001b[0;34m=\u001b[0m \u001b[0mdf_wv\u001b[0m\u001b[0;34m[\u001b[0m\u001b[0;34m'distance'\u001b[0m\u001b[0;34m]\u001b[0m\u001b[0;34m.\u001b[0m\u001b[0mstr\u001b[0m\u001b[0;34m[\u001b[0m\u001b[0;36m1\u001b[0m\u001b[0;34m]\u001b[0m\u001b[0;34m\u001b[0m\u001b[0;34m\u001b[0m\u001b[0m\n",
      "\u001b[0;32m/var/folders/sf/_m3jncf51zgdm38790_vm2pw0000gn/T/ipykernel_788/2653647670.py\u001b[0m in \u001b[0;36mto_dataframe\u001b[0;34m(rec_tuple)\u001b[0m\n\u001b[1;32m      1\u001b[0m \u001b[0;32mdef\u001b[0m \u001b[0mto_dataframe\u001b[0m\u001b[0;34m(\u001b[0m\u001b[0mrec_tuple\u001b[0m\u001b[0;34m)\u001b[0m\u001b[0;34m:\u001b[0m\u001b[0;34m\u001b[0m\u001b[0;34m\u001b[0m\u001b[0m\n\u001b[1;32m      2\u001b[0m     \u001b[0mdf\u001b[0m \u001b[0;34m=\u001b[0m \u001b[0mpd\u001b[0m\u001b[0;34m.\u001b[0m\u001b[0mDataFrame\u001b[0m\u001b[0;34m(\u001b[0m\u001b[0mrec_tuple\u001b[0m\u001b[0;34m)\u001b[0m\u001b[0;34m.\u001b[0m\u001b[0mT\u001b[0m\u001b[0;34m\u001b[0m\u001b[0;34m\u001b[0m\u001b[0m\n\u001b[0;32m----> 3\u001b[0;31m     \u001b[0mdf\u001b[0m\u001b[0;34m.\u001b[0m\u001b[0mcolumns\u001b[0m \u001b[0;34m=\u001b[0m \u001b[0;34m[\u001b[0m\u001b[0;34m\"title\"\u001b[0m\u001b[0;34m,\u001b[0m \u001b[0;34m\"distance\"\u001b[0m\u001b[0;34m,\u001b[0m \u001b[0;34m\"URL\"\u001b[0m\u001b[0;34m,\u001b[0m \u001b[0;34m\"image\"\u001b[0m\u001b[0;34m]\u001b[0m\u001b[0;34m\u001b[0m\u001b[0;34m\u001b[0m\u001b[0m\n\u001b[0m\u001b[1;32m      4\u001b[0m     \u001b[0;32mreturn\u001b[0m \u001b[0mdf\u001b[0m\u001b[0;34m\u001b[0m\u001b[0;34m\u001b[0m\u001b[0m\n",
      "\u001b[0;32m~/opt/anaconda3/lib/python3.8/site-packages/pandas/core/generic.py\u001b[0m in \u001b[0;36m__setattr__\u001b[0;34m(self, name, value)\u001b[0m\n\u001b[1;32m   5152\u001b[0m         \u001b[0;32mtry\u001b[0m\u001b[0;34m:\u001b[0m\u001b[0;34m\u001b[0m\u001b[0;34m\u001b[0m\u001b[0m\n\u001b[1;32m   5153\u001b[0m             \u001b[0mobject\u001b[0m\u001b[0;34m.\u001b[0m\u001b[0m__getattribute__\u001b[0m\u001b[0;34m(\u001b[0m\u001b[0mself\u001b[0m\u001b[0;34m,\u001b[0m \u001b[0mname\u001b[0m\u001b[0;34m)\u001b[0m\u001b[0;34m\u001b[0m\u001b[0;34m\u001b[0m\u001b[0m\n\u001b[0;32m-> 5154\u001b[0;31m             \u001b[0;32mreturn\u001b[0m \u001b[0mobject\u001b[0m\u001b[0;34m.\u001b[0m\u001b[0m__setattr__\u001b[0m\u001b[0;34m(\u001b[0m\u001b[0mself\u001b[0m\u001b[0;34m,\u001b[0m \u001b[0mname\u001b[0m\u001b[0;34m,\u001b[0m \u001b[0mvalue\u001b[0m\u001b[0;34m)\u001b[0m\u001b[0;34m\u001b[0m\u001b[0;34m\u001b[0m\u001b[0m\n\u001b[0m\u001b[1;32m   5155\u001b[0m         \u001b[0;32mexcept\u001b[0m \u001b[0mAttributeError\u001b[0m\u001b[0;34m:\u001b[0m\u001b[0;34m\u001b[0m\u001b[0;34m\u001b[0m\u001b[0m\n\u001b[1;32m   5156\u001b[0m             \u001b[0;32mpass\u001b[0m\u001b[0;34m\u001b[0m\u001b[0;34m\u001b[0m\u001b[0m\n",
      "\u001b[0;32mpandas/_libs/properties.pyx\u001b[0m in \u001b[0;36mpandas._libs.properties.AxisProperty.__set__\u001b[0;34m()\u001b[0m\n",
      "\u001b[0;32m~/opt/anaconda3/lib/python3.8/site-packages/pandas/core/generic.py\u001b[0m in \u001b[0;36m_set_axis\u001b[0;34m(self, axis, labels)\u001b[0m\n\u001b[1;32m    562\u001b[0m     \u001b[0;32mdef\u001b[0m \u001b[0m_set_axis\u001b[0m\u001b[0;34m(\u001b[0m\u001b[0mself\u001b[0m\u001b[0;34m,\u001b[0m \u001b[0maxis\u001b[0m\u001b[0;34m:\u001b[0m \u001b[0mint\u001b[0m\u001b[0;34m,\u001b[0m \u001b[0mlabels\u001b[0m\u001b[0;34m:\u001b[0m \u001b[0mIndex\u001b[0m\u001b[0;34m)\u001b[0m \u001b[0;34m->\u001b[0m \u001b[0;32mNone\u001b[0m\u001b[0;34m:\u001b[0m\u001b[0;34m\u001b[0m\u001b[0;34m\u001b[0m\u001b[0m\n\u001b[1;32m    563\u001b[0m         \u001b[0mlabels\u001b[0m \u001b[0;34m=\u001b[0m \u001b[0mensure_index\u001b[0m\u001b[0;34m(\u001b[0m\u001b[0mlabels\u001b[0m\u001b[0;34m)\u001b[0m\u001b[0;34m\u001b[0m\u001b[0;34m\u001b[0m\u001b[0m\n\u001b[0;32m--> 564\u001b[0;31m         \u001b[0mself\u001b[0m\u001b[0;34m.\u001b[0m\u001b[0m_mgr\u001b[0m\u001b[0;34m.\u001b[0m\u001b[0mset_axis\u001b[0m\u001b[0;34m(\u001b[0m\u001b[0maxis\u001b[0m\u001b[0;34m,\u001b[0m \u001b[0mlabels\u001b[0m\u001b[0;34m)\u001b[0m\u001b[0;34m\u001b[0m\u001b[0;34m\u001b[0m\u001b[0m\n\u001b[0m\u001b[1;32m    565\u001b[0m         \u001b[0mself\u001b[0m\u001b[0;34m.\u001b[0m\u001b[0m_clear_item_cache\u001b[0m\u001b[0;34m(\u001b[0m\u001b[0;34m)\u001b[0m\u001b[0;34m\u001b[0m\u001b[0;34m\u001b[0m\u001b[0m\n\u001b[1;32m    566\u001b[0m \u001b[0;34m\u001b[0m\u001b[0m\n",
      "\u001b[0;32m~/opt/anaconda3/lib/python3.8/site-packages/pandas/core/internals/managers.py\u001b[0m in \u001b[0;36mset_axis\u001b[0;34m(self, axis, new_labels)\u001b[0m\n\u001b[1;32m    224\u001b[0m \u001b[0;34m\u001b[0m\u001b[0m\n\u001b[1;32m    225\u001b[0m         \u001b[0;32mif\u001b[0m \u001b[0mnew_len\u001b[0m \u001b[0;34m!=\u001b[0m \u001b[0mold_len\u001b[0m\u001b[0;34m:\u001b[0m\u001b[0;34m\u001b[0m\u001b[0;34m\u001b[0m\u001b[0m\n\u001b[0;32m--> 226\u001b[0;31m             raise ValueError(\n\u001b[0m\u001b[1;32m    227\u001b[0m                 \u001b[0;34mf\"Length mismatch: Expected axis has {old_len} elements, new \"\u001b[0m\u001b[0;34m\u001b[0m\u001b[0;34m\u001b[0m\u001b[0m\n\u001b[1;32m    228\u001b[0m                 \u001b[0;34mf\"values have {new_len} elements\"\u001b[0m\u001b[0;34m\u001b[0m\u001b[0;34m\u001b[0m\u001b[0m\n",
      "\u001b[0;31mValueError\u001b[0m: Length mismatch: Expected axis has 2 elements, new values have 4 elements"
     ]
    }
   ],
   "source": [
    "combined_model(w_collab=1.0, w_vect_desc=1.0, w_vect_review=0.2, w_feature_union=1.0, w_wv=1.0, string=\"Bambi\", n_rec=5)"
   ]
  },
  {
   "cell_type": "code",
   "execution_count": null,
   "metadata": {},
   "outputs": [],
   "source": [
    "# Book indicies\n",
    "    book_indices = [i[0] for i in sig]\n",
    "   \n",
    "    # Top 5 book recommendation\n",
    "    rec = df_join[['title', 'url']].iloc[book_indices]\n",
    "       \n",
    "    # It reads the top 5 recommend book url and print the images\n",
    "    \n",
    "    for i in rec['url']:\n",
    "        response = requests.get(i)\n",
    "        img = Image.open(BytesIO(response.content))\n",
    "        plt.figure()\n",
    "        print(plt.imshow(img))"
   ]
  },
  {
   "cell_type": "code",
   "execution_count": null,
   "metadata": {},
   "outputs": [],
   "source": [
    "print(\"What is your child's favorite book?\")\n",
    "string = input()"
   ]
  },
  {
   "cell_type": "code",
   "execution_count": 16,
   "metadata": {},
   "outputs": [
    {
     "name": "stdout",
     "output_type": "stream",
     "text": [
      "What is the most important thing you consider in reading other reviews?\n"
     ]
    }
   ],
   "source": [
    "# from bokeh.plotting import figure, show\n",
    "# from bokeh.layouts import row, column, layout\n",
    "# from bokeh.models import CustomJS, ColumnDataSource\n",
    "# from bokeh.models.widgets import Dropdown, CheckboxGroup\n",
    "\n",
    "# print(\"What is the most important thing you consider in reading other reviews?\")\n",
    "# LABELS = [\"What others users who liked the book chose\", \n",
    "#           \"Similar book descriptions and review contents\", \n",
    "#           \"Similar review contents\"]\n",
    "# first_weight = CheckboxGroup(labels=LABELS, active=[0, 1])\n",
    "# first_weight.js_on_click(CustomJS(code=\"\"\"\n",
    "#     console.log('checkbox_group: active=' + this.active, this.toString())\n",
    "# \"\"\"))\n",
    "# #first_weight.on_change('LABELS', combined_model)\n",
    "# show(first_weight)\n",
    "# #show(row(dropdown, checkbox_group))"
   ]
  },
  {
   "cell_type": "code",
   "execution_count": 1,
   "metadata": {},
   "outputs": [
    {
     "ename": "NameError",
     "evalue": "name 'df_merge_review' is not defined",
     "output_type": "error",
     "traceback": [
      "\u001b[0;31m---------------------------------------------------------------------------\u001b[0m",
      "\u001b[0;31mNameError\u001b[0m                                 Traceback (most recent call last)",
      "\u001b[0;32m/var/folders/sf/_m3jncf51zgdm38790_vm2pw0000gn/T/ipykernel_32968/3183471261.py\u001b[0m in \u001b[0;36m<module>\u001b[0;34m\u001b[0m\n\u001b[1;32m      4\u001b[0m \u001b[0;32mfrom\u001b[0m \u001b[0mbokeh\u001b[0m\u001b[0;34m.\u001b[0m\u001b[0mmodels\u001b[0m\u001b[0;34m.\u001b[0m\u001b[0mwidgets\u001b[0m \u001b[0;32mimport\u001b[0m \u001b[0mDropdown\u001b[0m\u001b[0;34m,\u001b[0m \u001b[0mCheckboxGroup\u001b[0m\u001b[0;34m\u001b[0m\u001b[0;34m\u001b[0m\u001b[0m\n\u001b[1;32m      5\u001b[0m \u001b[0;34m\u001b[0m\u001b[0m\n\u001b[0;32m----> 6\u001b[0;31m \u001b[0mmenu\u001b[0m \u001b[0;34m=\u001b[0m \u001b[0msorted\u001b[0m\u001b[0;34m(\u001b[0m\u001b[0mdf_merge_review\u001b[0m\u001b[0;34m[\u001b[0m\u001b[0;34m'title'\u001b[0m\u001b[0;34m]\u001b[0m\u001b[0;34m.\u001b[0m\u001b[0mto_list\u001b[0m\u001b[0;34m(\u001b[0m\u001b[0;34m)\u001b[0m\u001b[0;34m)\u001b[0m\u001b[0;34m\u001b[0m\u001b[0;34m\u001b[0m\u001b[0m\n\u001b[0m\u001b[1;32m      7\u001b[0m \u001b[0mdropdown\u001b[0m \u001b[0;34m=\u001b[0m \u001b[0mDropdown\u001b[0m\u001b[0;34m(\u001b[0m\u001b[0mlabel\u001b[0m\u001b[0;34m=\u001b[0m\u001b[0;34m\"Book Titles\"\u001b[0m\u001b[0;34m,\u001b[0m \u001b[0mbutton_type\u001b[0m\u001b[0;34m=\u001b[0m\u001b[0;34m\"warning\"\u001b[0m\u001b[0;34m,\u001b[0m \u001b[0mmenu\u001b[0m\u001b[0;34m=\u001b[0m\u001b[0mmenu\u001b[0m\u001b[0;34m)\u001b[0m\u001b[0;34m\u001b[0m\u001b[0;34m\u001b[0m\u001b[0m\n\u001b[1;32m      8\u001b[0m \u001b[0;31m#dropdown.js_on_event(\"menu_item_click\", CustomJS(code=\"console.log('dropdown: ' + this.item, this.toString())\"))\u001b[0m\u001b[0;34m\u001b[0m\u001b[0;34m\u001b[0m\u001b[0;34m\u001b[0m\u001b[0m\n",
      "\u001b[0;31mNameError\u001b[0m: name 'df_merge_review' is not defined"
     ]
    }
   ],
   "source": [
    "# from bokeh.plotting import figure, show\n",
    "# from bokeh.layouts import row, column, layout\n",
    "# from bokeh.models import CustomJS, ColumnDataSource\n",
    "# from bokeh.models.widgets import Dropdown, CheckboxGroup\n",
    "\n",
    "# menu = sorted(df_merge_review['title'].to_list())\n",
    "# dropdown = Dropdown(label=\"Book Titles\", button_type=\"warning\", menu=menu)\n",
    "# #dropdown.js_on_event(\"menu_item_click\", CustomJS(code=\"console.log('dropdown: ' + this.item, this.toString())\"))\n",
    "\n",
    "# dropdown.on_change('value', combined_model)\n",
    "\n",
    "\n",
    "# LABELS = [\"Collaborative Filtering\", \"Vectorizer\", \"Word2Vec\"]\n",
    "\n",
    "# checkbox_group = CheckboxGroup(labels=LABELS, active=[0, 1])\n",
    "# # checkbox_group.js_on_click(CustomJS(code=\"\"\"\n",
    "# #     console.log('checkbox_group: active=' + this.active, this.toString())\n",
    "# # \"\"\"))\n",
    "# checkbox_group.on_change('value', combined_model)\n",
    "\n",
    "# show(row(dropdown, checkbox_group))\n",
    "\n",
    "# #combined_model(checkbox_group.feature, dropdown.title)\n"
   ]
  },
  {
   "cell_type": "code",
   "execution_count": 15,
   "metadata": {},
   "outputs": [
    {
     "name": "stdout",
     "output_type": "stream",
     "text": [
      " * Serving Flask app \"__main__\" (lazy loading)\n",
      " * Environment: production\n",
      "\u001b[31m   WARNING: This is a development server. Do not use it in a production deployment.\u001b[0m\n",
      "\u001b[2m   Use a production WSGI server instead.\u001b[0m\n",
      " * Debug mode: off\n"
     ]
    },
    {
     "name": "stderr",
     "output_type": "stream",
     "text": [
      " * Running on http://127.0.0.1:5000/ (Press CTRL+C to quit)\n",
      "127.0.0.1 - - [04/Mar/2022 13:31:31] \"GET / HTTP/1.1\" 200 -\n"
     ]
    }
   ],
   "source": [
    "from flask import Flask, request\n",
    "\n",
    "app = Flask(__name__)\n",
    "\n",
    "@app.route('/', methods=['GET', 'POST'])\n",
    "def index():\n",
    "    if request.method == 'POST':\n",
    "        print(request.form.getlist('hello'))\n",
    "\n",
    "    return '''<form method=\"post\">\n",
    "<input type=\"checkbox\" name=\"hello\" value=\"world\" checked>\n",
    "<input type=\"checkbox\" name=\"hello\" value=\"davidism\" checked>\n",
    "<input type=\"submit\">\n",
    "</form>'''\n",
    "\n",
    "app.run()"
   ]
  },
  {
   "cell_type": "code",
   "execution_count": null,
   "metadata": {},
   "outputs": [],
   "source": []
  }
 ],
 "metadata": {
  "kernelspec": {
   "display_name": "Python 3 (ipykernel)",
   "language": "python",
   "name": "python3"
  },
  "language_info": {
   "codemirror_mode": {
    "name": "ipython",
    "version": 3
   },
   "file_extension": ".py",
   "mimetype": "text/x-python",
   "name": "python",
   "nbconvert_exporter": "python",
   "pygments_lexer": "ipython3",
   "version": "3.8.12"
  }
 },
 "nbformat": 4,
 "nbformat_minor": 4
}
