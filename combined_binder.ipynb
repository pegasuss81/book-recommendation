{
 "cells": [
  {
   "cell_type": "markdown",
   "id": "851f67f1",
   "metadata": {},
   "source": [
    "# Book Recommendation System with Amazon Review Data\n",
    "\n"
   ]
  },
  {
   "cell_type": "code",
   "execution_count": 2,
   "id": "87ce49d5-b5ad-43c5-adab-a142bbd65c81",
   "metadata": {},
   "outputs": [],
   "source": [
    "import os\n",
    "import ujson as json\n",
    "import gzip\n",
    "import pandas as pd\n",
    "\n",
    "from urllib.request import urlopen\n",
    "import requests\n",
    "from bs4 import BeautifulSoup"
   ]
  },
  {
   "cell_type": "code",
   "execution_count": 3,
   "id": "a30f1816-8f02-4106-98a0-4e85a9d24cc3",
   "metadata": {},
   "outputs": [],
   "source": [
    "import numpy as np\n",
    "import matplotlib.pyplot as plt\n",
    "\n",
    "from sklearn import base\n",
    "from sklearn.feature_extraction import DictVectorizer\n",
    "from sklearn.neighbors import NearestNeighbors\n",
    "from sklearn.metrics import mean_squared_error\n",
    "from sklearn.model_selection import train_test_split\n",
    "from sklearn.pipeline import Pipeline, FeatureUnion\n",
    "from sklearn.metrics.pairwise import cosine_similarity\n",
    "from sklearn.decomposition import PCA\n",
    "from scipy.sparse import csr_matrix\n",
    "import scipy.sparse"
   ]
  },
  {
   "cell_type": "code",
   "execution_count": 4,
   "id": "c8848645-44f6-45ae-b4ef-5d6d035fb800",
   "metadata": {},
   "outputs": [],
   "source": [
    "from gensim.models import Word2Vec\n",
    "from gensim.utils import simple_preprocess\n",
    "import re\n",
    "\n",
    "from spacy.lang.en.stop_words import STOP_WORDS\n",
    "import spacy\n",
    "\n",
    "import dill\n",
    "\n",
    "from functools import reduce\n",
    "\n",
    "import ipywidgets as widgets\n",
    "from ipywidgets import interactive, interact"
   ]
  },
  {
   "cell_type": "markdown",
   "id": "e113a6ab-c38b-41bd-aa5e-d13d10f56f8b",
   "metadata": {},
   "source": [
    "Below we want to load necessary data files to expedite the recommendation process. The detailed steps of each model is found in notebooks branch.\n",
    "\n",
    "## 1. Data Preprocessing for the Collaborative Filtering"
   ]
  },
  {
   "cell_type": "code",
   "execution_count": 5,
   "id": "7ad6d7f8-f7e7-48f7-bdc2-6edb95ee2896",
   "metadata": {},
   "outputs": [],
   "source": [
    "# Dataframe for every review\n",
    "df_merge_new_in = pd.read_csv('data/df_merge_with_URL.csv')"
   ]
  },
  {
   "cell_type": "code",
   "execution_count": 6,
   "id": "b271339b-6a05-4136-a22a-9e99977a6f81",
   "metadata": {},
   "outputs": [],
   "source": [
    "chunk_size = 5000\n",
    "chunks = [x for x in range(0, df_merge_new_in.shape[0], chunk_size)]\n",
    "\n",
    "df_merge_pivot = pd.concat([df_merge_new_in.iloc[ chunks[i]:chunks[i + 1] - 1 ].pivot_table(index='title', columns='reviewerID', values='overall') for i in range(0, len(chunks) - 1)])"
   ]
  },
  {
   "cell_type": "code",
   "execution_count": 7,
   "id": "dcb81fe8-935a-4eaf-8470-ae71e97ea868",
   "metadata": {},
   "outputs": [],
   "source": [
    "df_merge_pivot.fillna(0, inplace=True)"
   ]
  },
  {
   "cell_type": "code",
   "execution_count": 32,
   "id": "29e6b06c-018e-45b1-b29f-572c6ef3e385",
   "metadata": {},
   "outputs": [],
   "source": [
    "# Nearest Neighbors Model\n",
    "with open(\"data/model_knn.dill\", \"rb\") as f:\n",
    "    model_knn = dill.load(f)"
   ]
  },
  {
   "cell_type": "markdown",
   "id": "8842d0da-ab80-4b0c-b647-c864e8c6f71e",
   "metadata": {},
   "source": [
    "## 2. Preprocessing for Vectorizer + FeatureUnion Using Description & ReviewText\n",
    "\n",
    "Here we use the DictVectorizer to check the frequency of words in both book descriptions and text reviews. We can use FeatureUnion and give weights to \"reviewText\" and book \"description\" to combine the result from the two features. "
   ]
  },
  {
   "cell_type": "code",
   "execution_count": 9,
   "id": "d427db70-138d-4091-a089-138e7914d286",
   "metadata": {},
   "outputs": [],
   "source": [
    "# Dataframe sorted for each book/title\n",
    "df_merge_review_URL = pd.read_csv('data/df_merge_review_title_with_URL.csv')"
   ]
  },
  {
   "cell_type": "code",
   "execution_count": 10,
   "id": "c935c541-c10a-42c3-8268-7399e76d555d",
   "metadata": {},
   "outputs": [],
   "source": [
    "# Prepare data as a dictionary that can be fed into DictVectorizer\n",
    "class DictEncoder(base.BaseEstimator, base.TransformerMixin):\n",
    "    \n",
    "    def __init__(self, col):\n",
    "        self.col = col\n",
    "    \n",
    "    def fit(self, X, y=None):\n",
    "        return self\n",
    "    \n",
    "    def transform(self, X):\n",
    "        \n",
    "        def to_dict(l):\n",
    "            try:\n",
    "                return {x: 1 for x in l}\n",
    "            except TypeError:\n",
    "                return {}\n",
    "        \n",
    "        return X[self.col].apply(to_dict)"
   ]
  },
  {
   "cell_type": "code",
   "execution_count": 11,
   "id": "0ed56263-6b96-4d59-a3dc-eb1bfbfe62d5",
   "metadata": {},
   "outputs": [],
   "source": [
    "merge_review_pipe = Pipeline([\n",
    "    ('encoder', DictEncoder('reviewText')),\n",
    "    ('vectorizer', DictVectorizer())\n",
    "])\n",
    "merge_desc_pipe = Pipeline([\n",
    "    ('encoder', DictEncoder('description')),\n",
    "    ('vectorizer', DictVectorizer())\n",
    "])"
   ]
  },
  {
   "cell_type": "markdown",
   "id": "9c02960c",
   "metadata": {},
   "source": [
    "## 3. Preprocessing for Word2Vec Model\n",
    "\n"
   ]
  },
  {
   "cell_type": "code",
   "execution_count": 13,
   "id": "793f02dc-fd41-45c5-af11-2c3413786ec7",
   "metadata": {},
   "outputs": [],
   "source": [
    "# finding cosine similarity for the vectors\n",
    "with open(\"data/cosine_similarities.dill\", \"rb\") as f:\n",
    "    cosine_similarities = dill.load(f)\n",
    "    "
   ]
  },
  {
   "cell_type": "markdown",
   "id": "d25fd494-cf79-41d0-9203-d9a477beebf8",
   "metadata": {},
   "source": [
    "## Collection of Recommendation Models"
   ]
  },
  {
   "cell_type": "code",
   "execution_count": 14,
   "id": "4fe95f21-48aa-4374-8477-9c278fb8d128",
   "metadata": {},
   "outputs": [],
   "source": [
    "# Recommender from user ratings - collaborative filtering. pivot table + NearestNeighbors\n",
    "def book_recommender_collab(string):\n",
    "    \n",
    "    title = df_merge_pivot[df_merge_pivot.index.str.lower().str.contains(str.lower(string))].index[0]\n",
    "    \n",
    "    distances, indices = model_knn.kneighbors(df_merge_pivot.loc[title, :].values.reshape(1, -1), n_neighbors=21908)\n",
    "    titles = df_merge_pivot.index[np.array(indices.flatten())]\n",
    "    \n",
    "    return titles, distances.flatten()"
   ]
  },
  {
   "cell_type": "code",
   "execution_count": 16,
   "id": "c1a8d472-060a-4deb-97c4-75853bb2e650",
   "metadata": {},
   "outputs": [],
   "source": [
    "# Recommender using reviewText and description for each book. vectorizer + FeatureUnion + NearestNeighbors\n",
    "def book_recommender_text_features(w1, w2, string):\n",
    "    \"\"\"\n",
    "    book recommendation system using\n",
    "    w1: weight for review feature\n",
    "    w2: weight for description feature\n",
    "    string: substring of a title\n",
    "    \"\"\"\n",
    "    union_merge = FeatureUnion([('reviewText', merge_review_pipe),\n",
    "                      ('description', merge_desc_pipe)],\n",
    "                    transformer_weights={\n",
    "            'reviewText': w1,\n",
    "            'description': w2\n",
    "        })\n",
    "    features_merge_review = union_merge.fit_transform(df_merge_review_URL)\n",
    "     \n",
    "    union_merge_review_model = NearestNeighbors(metric='cosine', algorithm='brute')\n",
    "    union_merge_review_model.fit(features_merge_review)\n",
    "        \n",
    "    index1 = df_merge_review_URL[df_merge_review_URL.title.str.lower().str.contains(str.lower(string))].index[0]\n",
    "    title1 = df_merge_review_URL[df_merge_review_URL.title.str.lower().str.contains(str.lower(string))]['title'].values[0]\n",
    "    \n",
    "    distances, indices = union_merge_review_model.kneighbors(features_merge_review[index1], n_neighbors=df_merge_review_URL.shape[0])\n",
    "    titles = df_merge_review_URL['title'][df_merge_review_URL.index[np.array(indices.flatten())]].tolist()\n",
    "   \n",
    "    return titles, distances.flatten()"
   ]
  },
  {
   "cell_type": "code",
   "execution_count": 18,
   "id": "6140bee8-f1de-4f86-b609-9b2fc071db3a",
   "metadata": {},
   "outputs": [],
   "source": [
    "# Recommender using Word2Vec model\n",
    "def book_recommender_wv(string):\n",
    "    #Reverse mapping of the index\n",
    "    indices = pd.Series(df_merge_review_URL.index, index = df_merge_review_URL['title']).drop_duplicates()\n",
    "    \n",
    "    title = df_merge_review_URL[df_merge_review_URL.title.str.lower().str.contains(str.lower(string)) == True].index[0]\n",
    "    idx = indices[title]\n",
    "    \n",
    "    sim_scores = list(enumerate(1-cosine_similarities[idx]))\n",
    "    \n",
    "    titles = df_merge_review_URL['title'][df_merge_review_URL.index[np.array(indices)]].tolist()\n",
    "   \n",
    "    return titles, sim_scores"
   ]
  },
  {
   "cell_type": "code",
   "execution_count": 20,
   "id": "30dcde69-0d74-4434-9931-7d1405fa6c43",
   "metadata": {},
   "outputs": [],
   "source": [
    "def to_dataframe(rec_tuple):\n",
    "    df = pd.DataFrame(rec_tuple).T\n",
    "    df.columns = [\"title\", \"distance\"]\n",
    "    #df.columns = [\"title\", \"distance\", \"URL\", \"image\"]\n",
    "    return df"
   ]
  },
  {
   "cell_type": "markdown",
   "id": "e4c14421-13e8-46fa-b07f-baf74fa190e4",
   "metadata": {},
   "source": [
    "## Combined Model\n",
    "\n",
    "Here we combine all three models and calculate the distance metric given weights that are provided by a user. "
   ]
  },
  {
   "cell_type": "code",
   "execution_count": 21,
   "id": "5de12e90-c3be-4678-916f-50c8753ad7af",
   "metadata": {},
   "outputs": [],
   "source": [
    "def combined_model(w_collab=1.0, w_vect_desc=1.0, w_vect_review=0.2, w_feature_union=1.0, w_wv=1.0, string=\"Bambi\", n_rec=5):\n",
    "    df_collab = to_dataframe(book_recommender_collab(string))\n",
    "    df_vect = to_dataframe(book_recommender_text_features(w_vect_desc, w_vect_review, string))\n",
    "    df_wv = to_dataframe(book_recommender_wv(str.lower(string)))\n",
    "    df_wv['distance'] = df_wv['distance'].str[1]\n",
    "    \n",
    "    df_join = reduce(lambda left, right: pd.merge(left,right,on=['title'],\n",
    "                                            how='outer'), [df_collab, df_vect, df_wv])\n",
    "    df_join.columns = ['title', 'dist_collab', 'dist_vect', 'dist_wv']\n",
    "    #df_join.columns = ['title', 'dist_collab', 'dist_vect', 'dist_wv', 'URL', 'image']\n",
    "    df_join['dist_metric'] = w_collab * df_join['dist_collab'] + w_feature_union * df_join['dist_vect'] \\\n",
    "            + w_wv * df_join['dist_wv']\n",
    "#     df_join.sort_values('dist_metric')[[\"title\", \"dist_metric\", \"URL\", \"image\"]].head(10)\n",
    "    \n",
    "#     # Top 5 book recommendation\n",
    "#     rec = df_join[['title', 'image_url']].iloc[movie_indices]\n",
    "       \n",
    "#     # It reads the top 5 recommend book url and print the images\n",
    "    \n",
    "#     for i in rec['image_url']:\n",
    "#         response = requests.get(i)\n",
    "#         img = Image.open(BytesIO(response.content))\n",
    "#         plt.figure()\n",
    "#         print(plt.imshow(img))\n",
    "    return df_join.sort_values('dist_metric')[[\"title\"]].head(n_rec)"
   ]
  },
  {
   "cell_type": "code",
   "execution_count": 22,
   "id": "7793519f-e5e4-4327-b997-f540606cdb1b",
   "metadata": {},
   "outputs": [],
   "source": [
    "title_text = widgets.Text(\n",
    "    value='the way back home',\n",
    "    placeholder='Type something',\n",
    "    description=\"What is your child's favorite book?\",\n",
    "    disabled=False,\n",
    "    style= {'description_width': 'initial'}\n",
    ")"
   ]
  },
  {
   "cell_type": "code",
   "execution_count": 26,
   "id": "013d460f-7b5f-4049-a906-76aced24773f",
   "metadata": {},
   "outputs": [],
   "source": [
    "button = widgets.Button(\n",
    "    description='Submit',\n",
    "    disabled=False,\n",
    "    button_style='', \n",
    "    tooltip='Run report',\n",
    "    icon='check' \n",
    ")"
   ]
  },
  {
   "cell_type": "code",
   "execution_count": 28,
   "id": "8e25943a",
   "metadata": {},
   "outputs": [],
   "source": [
    "#layout = widgets.Layout(width='auto', height='40px') #set width and height\n",
    "first_weight = widgets.IntSlider(\n",
    "    value=5, min=0, max=10, \n",
    "    description=\"Similar reviewers\", \n",
    "    style= {'description_width': 'initial'})\n",
    "second_weight = widgets.IntSlider(\n",
    "    value=5, min=0, max=10, \n",
    "    description=\"Similar book descriptions\", \n",
    "    style= {'description_width': 'initial'})\n",
    "third_weight = widgets.IntSlider(\n",
    "    value=5, min=0, max=10, \n",
    "    description=\"Similar text reviews\", \n",
    "    style= {'description_width': 'initial'})\n",
    "\n",
    "n_rec = widgets.IntSlider(\n",
    "    value=5, min=0, max=10, \n",
    "    description=\"number of recommendations\", \n",
    "    style= {'description_width': 'initial'})"
   ]
  },
  {
   "cell_type": "code",
   "execution_count": 29,
   "id": "215eb4bf",
   "metadata": {},
   "outputs": [
    {
     "data": {
      "application/vnd.jupyter.widget-view+json": {
       "model_id": "1a4797d1ad7d4f2c8d9b376f0c87922a",
       "version_major": 2,
       "version_minor": 0
      },
      "text/plain": [
       "VBox(children=(Text(value='the way back home', description=\"What is your child's favorite book?\", placeholder=…"
      ]
     },
     "metadata": {},
     "output_type": "display_data"
    }
   ],
   "source": [
    "box = widgets.VBox([title_text, widgets.VBox([first_weight, second_weight, third_weight]), n_rec, button])\n",
    "display(box)"
   ]
  },
  {
   "cell_type": "code",
   "execution_count": 31,
   "id": "079d3bdf",
   "metadata": {},
   "outputs": [
    {
     "data": {
      "application/vnd.jupyter.widget-view+json": {
       "model_id": "bbab6c65e4604494911165e5ecfc115d",
       "version_major": 2,
       "version_minor": 0
      },
      "text/plain": [
       "interactive(children=(IntSlider(value=5, description='w_collab', max=15, min=-5), FloatSlider(value=1.0, descr…"
      ]
     },
     "metadata": {},
     "output_type": "display_data"
    }
   ],
   "source": [
    "recommendations = interact(combined_model, w_collab=first_weight.value, w_vect_desc=1.0, w_vect_review=0.2, w_feature_union=second_weight.value, w_wv=third_weight.value, string=title_text, n_rec=n_rec.value)"
   ]
  }
 ],
 "metadata": {
  "kernelspec": {
   "display_name": "Python 3 (ipykernel)",
   "language": "python",
   "name": "python3"
  },
  "language_info": {
   "codemirror_mode": {
    "name": "ipython",
    "version": 3
   },
   "file_extension": ".py",
   "mimetype": "text/x-python",
   "name": "python",
   "nbconvert_exporter": "python",
   "pygments_lexer": "ipython3",
   "version": "3.8.12"
  }
 },
 "nbformat": 4,
 "nbformat_minor": 5
}
