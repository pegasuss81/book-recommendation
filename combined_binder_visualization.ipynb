{
 "cells": [
  {
   "cell_type": "markdown",
   "id": "57c29060",
   "metadata": {},
   "source": [
    "# Book Recommendation System with Amazon Review Data\n",
    "\n"
   ]
  },
  {
   "cell_type": "markdown",
   "id": "21973c4a",
   "metadata": {},
   "source": [
    "This is a book recommendation system specialized in children's books. The Amazon review data has several features that can be used in the machine learning models. We use here the overall book ratings, book descriptions and text reviews. \n",
    "\n",
    "- \"Overall ratings\" are used in the collaborative filtering, based on what other similar users (who like similar books) chose.\n",
    "- Both \"book descriptions\" and \"text reviews\" can be used in the vectorizer model and put together in FeatureUnion. It is found that using book description feature gives (qualitatively) better result in recommendation. \n",
    "- \"Text reviews\" are used in the NLP word embedding model. Word embedding is effective in picking up semantic meaning of the words in the corpus. We calculate word vectors for each book and then cosine similarities to determine the \"distances\" between all books. "
   ]
  },
  {
   "cell_type": "code",
   "execution_count": 1,
   "id": "87ce49d5-b5ad-43c5-adab-a142bbd65c81",
   "metadata": {},
   "outputs": [],
   "source": [
    "# import libraries\n",
    "import os\n",
    "import ujson as json\n",
    "import gzip\n",
    "import pandas as pd\n",
    "\n",
    "from urllib.request import urlopen\n",
    "import requests\n",
    "from bs4 import BeautifulSoup"
   ]
  },
  {
   "cell_type": "code",
   "execution_count": 2,
   "id": "a30f1816-8f02-4106-98a0-4e85a9d24cc3",
   "metadata": {},
   "outputs": [],
   "source": [
    "import numpy as np\n",
    "import matplotlib.pyplot as plt\n",
    "\n",
    "from sklearn import base\n",
    "from sklearn.feature_extraction import DictVectorizer\n",
    "from sklearn.neighbors import NearestNeighbors\n",
    "from sklearn.metrics import mean_squared_error\n",
    "from sklearn.model_selection import train_test_split\n",
    "from sklearn.pipeline import Pipeline, FeatureUnion\n",
    "from sklearn.metrics.pairwise import cosine_similarity\n",
    "from sklearn.decomposition import PCA\n",
    "from scipy.sparse import csr_matrix\n",
    "import scipy.sparse"
   ]
  },
  {
   "cell_type": "code",
   "execution_count": 3,
   "id": "c8848645-44f6-45ae-b4ef-5d6d035fb800",
   "metadata": {},
   "outputs": [],
   "source": [
    "from gensim.models import Word2Vec\n",
    "from gensim.utils import simple_preprocess\n",
    "import re\n",
    "\n",
    "from spacy.lang.en.stop_words import STOP_WORDS\n",
    "import spacy\n",
    "\n",
    "import dill\n",
    "\n",
    "from functools import reduce\n",
    "\n",
    "import ipywidgets as widgets\n",
    "from ipywidgets import interactive, interact"
   ]
  },
  {
   "cell_type": "markdown",
   "id": "e113a6ab-c38b-41bd-aa5e-d13d10f56f8b",
   "metadata": {},
   "source": [
    "Below we want to load necessary data files to expedite the recommendation process. The detailed steps of each model is found in notebooks branch.\n",
    "\n",
    "## 1. Data Preprocessing for the Collaborative Filtering\n",
    "\n",
    "See the details here. https://github.com/pegasuss81/book-recommendation/blob/notebooks/Ratings_model.ipynb \n",
    "\n",
    "Basically from the cleaned dataframe, it creates a pivot table with index=\"title\", columns=\"reviewer\", and values=\"overall rating\". Getting a sparse matrix from this pivot table, we use Nearest Neighbors model to select the N nearest books from the book of choice."
   ]
  },
  {
   "cell_type": "code",
   "execution_count": 4,
   "id": "7ad6d7f8-f7e7-48f7-bdc2-6edb95ee2896",
   "metadata": {},
   "outputs": [],
   "source": [
    "# Dataframe for every review\n",
    "df_merge_new_in = pd.read_csv('data/df_merge_with_URL.csv')"
   ]
  },
  {
   "cell_type": "code",
   "execution_count": 5,
   "id": "b271339b-6a05-4136-a22a-9e99977a6f81",
   "metadata": {},
   "outputs": [],
   "source": [
    "chunk_size = 5000\n",
    "chunks = [x for x in range(0, df_merge_new_in.shape[0], chunk_size)]\n",
    "\n",
    "df_merge_pivot = pd.concat([df_merge_new_in.iloc[ chunks[i]:chunks[i + 1] - 1 ].pivot_table(index='title', columns='reviewerID', values='overall') for i in range(0, len(chunks) - 1)])"
   ]
  },
  {
   "cell_type": "code",
   "execution_count": 6,
   "id": "dcb81fe8-935a-4eaf-8470-ae71e97ea868",
   "metadata": {},
   "outputs": [],
   "source": [
    "df_merge_pivot.fillna(0, inplace=True)"
   ]
  },
  {
   "cell_type": "markdown",
   "id": "60ef88da",
   "metadata": {},
   "source": [
    "We load the pre-saved nearst neighbors model."
   ]
  },
  {
   "cell_type": "code",
   "execution_count": 7,
   "id": "29e6b06c-018e-45b1-b29f-572c6ef3e385",
   "metadata": {},
   "outputs": [],
   "source": [
    "# Nearest Neighbors Model\n",
    "with open(\"data/model_knn.dill\", \"rb\") as f:\n",
    "    model_knn = dill.load(f)"
   ]
  },
  {
   "cell_type": "markdown",
   "id": "8842d0da-ab80-4b0c-b647-c864e8c6f71e",
   "metadata": {},
   "source": [
    "## 2. Preprocessing for Vectorizer + FeatureUnion Using Description & ReviewText\n",
    "\n",
    "Here we use the DictVectorizer to check the frequency of words in both book descriptions and text reviews. We can use FeatureUnion and give weights to \"reviewText\" and book \"description\" to combine the result from the two features. "
   ]
  },
  {
   "cell_type": "code",
   "execution_count": 8,
   "id": "d427db70-138d-4091-a089-138e7914d286",
   "metadata": {},
   "outputs": [],
   "source": [
    "# Dataframe sorted for each book/title\n",
    "df_merge_review_URL = pd.read_csv('data/df_merge_review_title_with_URL.csv')"
   ]
  },
  {
   "cell_type": "code",
   "execution_count": 9,
   "id": "c935c541-c10a-42c3-8268-7399e76d555d",
   "metadata": {},
   "outputs": [],
   "source": [
    "# Prepare data as a dictionary that can be fed into DictVectorizer\n",
    "class DictEncoder(base.BaseEstimator, base.TransformerMixin):\n",
    "    \n",
    "    def __init__(self, col):\n",
    "        self.col = col\n",
    "    \n",
    "    def fit(self, X, y=None):\n",
    "        return self\n",
    "    \n",
    "    def transform(self, X):\n",
    "        \n",
    "        def to_dict(l):\n",
    "            try:\n",
    "                return {x: 1 for x in l}\n",
    "            except TypeError:\n",
    "                return {}\n",
    "        \n",
    "        return X[self.col].apply(to_dict)"
   ]
  },
  {
   "cell_type": "code",
   "execution_count": 10,
   "id": "0ed56263-6b96-4d59-a3dc-eb1bfbfe62d5",
   "metadata": {},
   "outputs": [],
   "source": [
    "merge_review_pipe = Pipeline([\n",
    "    ('encoder', DictEncoder('reviewText')),\n",
    "    ('vectorizer', DictVectorizer())\n",
    "])\n",
    "merge_desc_pipe = Pipeline([\n",
    "    ('encoder', DictEncoder('description')),\n",
    "    ('vectorizer', DictVectorizer())\n",
    "])"
   ]
  },
  {
   "cell_type": "markdown",
   "id": "efaafbf5",
   "metadata": {},
   "source": [
    "## 3. Preprocessing for Word2Vec Model\n",
    "\n",
    "The details can be found here. https://github.com/pegasuss81/book-recommendation/blob/notebooks/nlp_model.ipynb\n",
    "\n",
    "We merge all text reviews for each book and calculate the average word vectors for each.\n",
    "The precalculated cosine similarities are loaded from the dill file below.\n"
   ]
  },
  {
   "cell_type": "code",
   "execution_count": 11,
   "id": "793f02dc-fd41-45c5-af11-2c3413786ec7",
   "metadata": {},
   "outputs": [],
   "source": [
    "# finding cosine similarity for the vectors\n",
    "with open(\"data/cosine_similarities.dill\", \"rb\") as f:\n",
    "    cosine_similarities = dill.load(f)\n",
    "    "
   ]
  },
  {
   "cell_type": "markdown",
   "id": "d25fd494-cf79-41d0-9203-d9a477beebf8",
   "metadata": {},
   "source": [
    "## Collection of Recommendation Models\n",
    "\n",
    "Below is the summary of three recommendation models that are going to be combined later with the user input. Each recommender outputs the titles and distances relative to the book of choice. "
   ]
  },
  {
   "cell_type": "markdown",
   "id": "83268544",
   "metadata": {},
   "source": [
    "#### Recommender from user ratings - collaborative filtering"
   ]
  },
  {
   "cell_type": "code",
   "execution_count": 12,
   "id": "4fe95f21-48aa-4374-8477-9c278fb8d128",
   "metadata": {},
   "outputs": [],
   "source": [
    "# Recommender from user ratings - collaborative filtering. pivot table + NearestNeighbors\n",
    "def book_recommender_collab(string):\n",
    "    \n",
    "    title = df_merge_pivot[df_merge_pivot.index.str.lower().str.contains(str.lower(string))].index[0]\n",
    "    \n",
    "    distances, indices = model_knn.kneighbors(df_merge_pivot.loc[title, :].values.reshape(1, -1), n_neighbors=21908)\n",
    "    titles = df_merge_pivot.index[np.array(indices.flatten())]\n",
    "    \n",
    "    return titles, distances.flatten()"
   ]
  },
  {
   "cell_type": "markdown",
   "id": "016c0fbe",
   "metadata": {},
   "source": [
    "#### recommender from vectorizer + FeatureUnion "
   ]
  },
  {
   "cell_type": "code",
   "execution_count": 13,
   "id": "c1a8d472-060a-4deb-97c4-75853bb2e650",
   "metadata": {},
   "outputs": [],
   "source": [
    "# Recommender using reviewText and description for each book. vectorizer + FeatureUnion + NearestNeighbors\n",
    "def book_recommender_text_features(w1, w2, string):\n",
    "    \"\"\"\n",
    "    book recommendation system using\n",
    "    w1: weight for review feature\n",
    "    w2: weight for description feature\n",
    "    string: substring of a title\n",
    "    \"\"\"\n",
    "    union_merge = FeatureUnion([('reviewText', merge_review_pipe),\n",
    "                      ('description', merge_desc_pipe)],\n",
    "                    transformer_weights={\n",
    "            'reviewText': w1,\n",
    "            'description': w2\n",
    "        })\n",
    "    features_merge_review = union_merge.fit_transform(df_merge_review_URL)\n",
    "     \n",
    "    union_merge_review_model = NearestNeighbors(metric='cosine', algorithm='brute')\n",
    "    union_merge_review_model.fit(features_merge_review)\n",
    "        \n",
    "    index1 = df_merge_review_URL[df_merge_review_URL.title.str.lower().str.contains(str.lower(string))].index[0]\n",
    "    title1 = df_merge_review_URL[df_merge_review_URL.title.str.lower().str.contains(str.lower(string))]['title'].values[0]\n",
    "    \n",
    "    distances, indices = union_merge_review_model.kneighbors(features_merge_review[index1], n_neighbors=df_merge_review_URL.shape[0])\n",
    "    titles = df_merge_review_URL['title'][df_merge_review_URL.index[np.array(indices.flatten())]].tolist()\n",
    "   \n",
    "    return titles, distances.flatten()"
   ]
  },
  {
   "cell_type": "markdown",
   "id": "b75e68de",
   "metadata": {},
   "source": [
    "#### Recommender from the Word2Vec model"
   ]
  },
  {
   "cell_type": "code",
   "execution_count": 14,
   "id": "6140bee8-f1de-4f86-b609-9b2fc071db3a",
   "metadata": {},
   "outputs": [],
   "source": [
    "# Recommender using Word2Vec model\n",
    "def book_recommender_wv(string):\n",
    "    #Reverse mapping of the index\n",
    "    indices = pd.Series(df_merge_review_URL.index, index = df_merge_review_URL['title']).drop_duplicates()\n",
    "    \n",
    "    title = df_merge_review_URL[df_merge_review_URL.title.str.lower().str.contains(str.lower(string)) == True].index[0]\n",
    "    idx = indices[title]\n",
    "    \n",
    "    sim_scores = list(enumerate(1-cosine_similarities[idx]))\n",
    "    \n",
    "    titles = df_merge_review_URL['title'][df_merge_review_URL.index[np.array(indices)]].tolist()\n",
    "   \n",
    "    return titles, sim_scores"
   ]
  },
  {
   "cell_type": "markdown",
   "id": "61130419",
   "metadata": {},
   "source": [
    "This is to prepare the results from each model as dataframe, to later combine to calculate the \n",
    "distance metric."
   ]
  },
  {
   "cell_type": "code",
   "execution_count": 15,
   "id": "30dcde69-0d74-4434-9931-7d1405fa6c43",
   "metadata": {},
   "outputs": [],
   "source": [
    "def to_dataframe(rec_tuple):\n",
    "    df = pd.DataFrame(rec_tuple).T\n",
    "    df.columns = [\"title\", \"distance\"]\n",
    "    #df.columns = [\"title\", \"distance\", \"URL\", \"image\"]\n",
    "    return df"
   ]
  },
  {
   "cell_type": "markdown",
   "id": "e4c14421-13e8-46fa-b07f-baf74fa190e4",
   "metadata": {},
   "source": [
    "## Combined Model\n",
    "\n",
    "Here we combine all three models and calculate the distance metric.  The weights are provided by a user. "
   ]
  },
  {
   "cell_type": "code",
   "execution_count": 22,
   "id": "5de12e90-c3be-4678-916f-50c8753ad7af",
   "metadata": {},
   "outputs": [],
   "source": [
    "def combined_model(w_collab=1.0, w_vect_desc=1.0, w_vect_review=0.2, w_feature_union=1.0, w_wv=1.0, string=\"Bambi\", n_rec=5):\n",
    "    df_collab = to_dataframe(book_recommender_collab(string))\n",
    "    df_vect = to_dataframe(book_recommender_text_features(w_vect_desc, w_vect_review, string))\n",
    "    df_wv = to_dataframe(book_recommender_wv(str.lower(string)))\n",
    "    df_wv['distance'] = df_wv['distance'].str[1]\n",
    "    \n",
    "    df_join = reduce(lambda left, right: pd.merge(left,right,on=['title'],\n",
    "                                            how='outer'), [df_collab, df_vect, df_wv])\n",
    "    df_join.columns = ['title', 'dist_collab', 'dist_vect', 'dist_wv']\n",
    "    #df_join.columns = ['title', 'dist_collab', 'dist_vect', 'dist_wv', 'URL', 'image']\n",
    "    df_join['dist_metric'] = w_collab * df_join['dist_collab'] + w_feature_union * df_join['dist_vect'] \\\n",
    "            + w_wv * df_join['dist_wv']\n",
    "\n",
    "    return df_join.sort_values('dist_metric')[[\"title\"]].head(n_rec), df_join"
   ]
  },
  {
   "cell_type": "code",
   "execution_count": 17,
   "id": "7793519f-e5e4-4327-b997-f540606cdb1b",
   "metadata": {},
   "outputs": [],
   "source": [
    "title_text = widgets.Text(\n",
    "    value='The snowy day',\n",
    "    placeholder='Type something',\n",
    "    description=\"What is your child's favorite book?\",\n",
    "    disabled=False,\n",
    "    style= {'description_width': 'initial'}\n",
    ")"
   ]
  },
  {
   "cell_type": "code",
   "execution_count": 18,
   "id": "013d460f-7b5f-4049-a906-76aced24773f",
   "metadata": {},
   "outputs": [],
   "source": [
    "button = widgets.Button(\n",
    "    description='Submit',\n",
    "    disabled=False,\n",
    "    button_style='', \n",
    "    tooltip='Run report',\n",
    "    icon='check' \n",
    ")"
   ]
  },
  {
   "cell_type": "code",
   "execution_count": 19,
   "id": "8e25943a",
   "metadata": {},
   "outputs": [],
   "source": [
    "#layout = widgets.Layout(width='auto', height='40px') #set width and height\n",
    "first_weight = widgets.IntSlider(\n",
    "    value=5, min=0, max=10, \n",
    "    description=\"Similar reviewers\", \n",
    "    style= {'description_width': 'initial'})\n",
    "second_weight = widgets.IntSlider(\n",
    "    value=5, min=0, max=10, \n",
    "    description=\"Similar book descriptions\", \n",
    "    style= {'description_width': 'initial'})\n",
    "third_weight = widgets.IntSlider(\n",
    "    value=5, min=0, max=10, \n",
    "    description=\"Similar text reviews\", \n",
    "    style= {'description_width': 'initial'})\n",
    "\n",
    "n_rec = widgets.IntSlider(\n",
    "    value=5, min=0, max=10, \n",
    "    description=\"number of recommendations\", \n",
    "    style= {'description_width': 'initial'})"
   ]
  },
  {
   "cell_type": "code",
   "execution_count": 20,
   "id": "215eb4bf",
   "metadata": {},
   "outputs": [
    {
     "data": {
      "application/vnd.jupyter.widget-view+json": {
       "model_id": "528f050d213a4d4a8b4f32c9a5c5ad8e",
       "version_major": 2,
       "version_minor": 0
      },
      "text/plain": [
       "VBox(children=(Text(value='The snowy day', description=\"What is your child's favorite book?\", placeholder='Typ…"
      ]
     },
     "metadata": {},
     "output_type": "display_data"
    }
   ],
   "source": [
    "box = widgets.VBox([title_text, widgets.VBox([first_weight, second_weight, third_weight]), n_rec, button])\n",
    "display(box)"
   ]
  },
  {
   "cell_type": "code",
   "execution_count": 21,
   "id": "079d3bdf",
   "metadata": {
    "scrolled": false
   },
   "outputs": [
    {
     "data": {
      "application/vnd.jupyter.widget-view+json": {
       "model_id": "d7074f995d63454d87f69393481bd813",
       "version_major": 2,
       "version_minor": 0
      },
      "text/plain": [
       "interactive(children=(IntSlider(value=5, description='w_collab', max=15, min=-5), FloatSlider(value=1.0, descr…"
      ]
     },
     "metadata": {},
     "output_type": "display_data"
    }
   ],
   "source": [
    "recommendations = interact(combined_model, w_collab=first_weight.value, w_vect_desc=1.0, w_vect_review=0.2, w_feature_union=second_weight.value, w_wv=third_weight.value, string=title_text, n_rec=n_rec.value)"
   ]
  },
  {
   "cell_type": "markdown",
   "id": "da152e61",
   "metadata": {},
   "source": [
    "## Example Results\n",
    "### The recommendation result for \"The Way Back Home\"\n",
    "<img src=\"results/TheWayBackHome.png\" style=\"width:600px\"/>\n",
    "\n",
    "### The recommendation results for \"The Snowy Day\"\n",
    "<img src=\"results/TheSnowyDay.png\" style=\"width:450px\"/>"
   ]
  },
  {
   "cell_type": "code",
   "execution_count": 24,
   "id": "d5dbff37",
   "metadata": {},
   "outputs": [],
   "source": [
    "df_join_metric, df_join = combined_model(w_collab=0.5, w_vect_desc=1.0, w_vect_review=0.2, w_feature_union=0.2, w_wv=1.0, string=\"Bambi\", n_rec=5)"
   ]
  },
  {
   "cell_type": "markdown",
   "id": "dd1de7cc",
   "metadata": {},
   "source": [
    "Now we want to quickly check how different the recommendation results would be for each model. In the plots below, we can be that the distribution of the relative distance metric for different models are quite different. We can hover over each plots to see the recommended books are a bit different for each model. (Results shown for an example of \"Bambi.\")"
   ]
  },
  {
   "cell_type": "code",
   "execution_count": 58,
   "id": "98c6cc74",
   "metadata": {
    "scrolled": true
   },
   "outputs": [
    {
     "data": {
      "text/html": [
       "\n",
       "    <div class=\"bk-root\">\n",
       "        <a href=\"https://bokeh.org\" target=\"_blank\" class=\"bk-logo bk-logo-small bk-logo-notebook\"></a>\n",
       "        <span id=\"4033\">Loading BokehJS ...</span>\n",
       "    </div>"
      ]
     },
     "metadata": {},
     "output_type": "display_data"
    },
    {
     "data": {
      "application/javascript": [
       "\n",
       "(function(root) {\n",
       "  function now() {\n",
       "    return new Date();\n",
       "  }\n",
       "\n",
       "  const force = true;\n",
       "\n",
       "  if (typeof root._bokeh_onload_callbacks === \"undefined\" || force === true) {\n",
       "    root._bokeh_onload_callbacks = [];\n",
       "    root._bokeh_is_loading = undefined;\n",
       "  }\n",
       "\n",
       "  const JS_MIME_TYPE = 'application/javascript';\n",
       "  const HTML_MIME_TYPE = 'text/html';\n",
       "  const EXEC_MIME_TYPE = 'application/vnd.bokehjs_exec.v0+json';\n",
       "  const CLASS_NAME = 'output_bokeh rendered_html';\n",
       "\n",
       "  /**\n",
       "   * Render data to the DOM node\n",
       "   */\n",
       "  function render(props, node) {\n",
       "    const script = document.createElement(\"script\");\n",
       "    node.appendChild(script);\n",
       "  }\n",
       "\n",
       "  /**\n",
       "   * Handle when an output is cleared or removed\n",
       "   */\n",
       "  function handleClearOutput(event, handle) {\n",
       "    const cell = handle.cell;\n",
       "\n",
       "    const id = cell.output_area._bokeh_element_id;\n",
       "    const server_id = cell.output_area._bokeh_server_id;\n",
       "    // Clean up Bokeh references\n",
       "    if (id != null && id in Bokeh.index) {\n",
       "      Bokeh.index[id].model.document.clear();\n",
       "      delete Bokeh.index[id];\n",
       "    }\n",
       "\n",
       "    if (server_id !== undefined) {\n",
       "      // Clean up Bokeh references\n",
       "      const cmd_clean = \"from bokeh.io.state import curstate; print(curstate().uuid_to_server['\" + server_id + \"'].get_sessions()[0].document.roots[0]._id)\";\n",
       "      cell.notebook.kernel.execute(cmd_clean, {\n",
       "        iopub: {\n",
       "          output: function(msg) {\n",
       "            const id = msg.content.text.trim();\n",
       "            if (id in Bokeh.index) {\n",
       "              Bokeh.index[id].model.document.clear();\n",
       "              delete Bokeh.index[id];\n",
       "            }\n",
       "          }\n",
       "        }\n",
       "      });\n",
       "      // Destroy server and session\n",
       "      const cmd_destroy = \"import bokeh.io.notebook as ion; ion.destroy_server('\" + server_id + \"')\";\n",
       "      cell.notebook.kernel.execute(cmd_destroy);\n",
       "    }\n",
       "  }\n",
       "\n",
       "  /**\n",
       "   * Handle when a new output is added\n",
       "   */\n",
       "  function handleAddOutput(event, handle) {\n",
       "    const output_area = handle.output_area;\n",
       "    const output = handle.output;\n",
       "\n",
       "    // limit handleAddOutput to display_data with EXEC_MIME_TYPE content only\n",
       "    if ((output.output_type != \"display_data\") || (!Object.prototype.hasOwnProperty.call(output.data, EXEC_MIME_TYPE))) {\n",
       "      return\n",
       "    }\n",
       "\n",
       "    const toinsert = output_area.element.find(\".\" + CLASS_NAME.split(' ')[0]);\n",
       "\n",
       "    if (output.metadata[EXEC_MIME_TYPE][\"id\"] !== undefined) {\n",
       "      toinsert[toinsert.length - 1].firstChild.textContent = output.data[JS_MIME_TYPE];\n",
       "      // store reference to embed id on output_area\n",
       "      output_area._bokeh_element_id = output.metadata[EXEC_MIME_TYPE][\"id\"];\n",
       "    }\n",
       "    if (output.metadata[EXEC_MIME_TYPE][\"server_id\"] !== undefined) {\n",
       "      const bk_div = document.createElement(\"div\");\n",
       "      bk_div.innerHTML = output.data[HTML_MIME_TYPE];\n",
       "      const script_attrs = bk_div.children[0].attributes;\n",
       "      for (let i = 0; i < script_attrs.length; i++) {\n",
       "        toinsert[toinsert.length - 1].firstChild.setAttribute(script_attrs[i].name, script_attrs[i].value);\n",
       "        toinsert[toinsert.length - 1].firstChild.textContent = bk_div.children[0].textContent\n",
       "      }\n",
       "      // store reference to server id on output_area\n",
       "      output_area._bokeh_server_id = output.metadata[EXEC_MIME_TYPE][\"server_id\"];\n",
       "    }\n",
       "  }\n",
       "\n",
       "  function register_renderer(events, OutputArea) {\n",
       "\n",
       "    function append_mime(data, metadata, element) {\n",
       "      // create a DOM node to render to\n",
       "      const toinsert = this.create_output_subarea(\n",
       "        metadata,\n",
       "        CLASS_NAME,\n",
       "        EXEC_MIME_TYPE\n",
       "      );\n",
       "      this.keyboard_manager.register_events(toinsert);\n",
       "      // Render to node\n",
       "      const props = {data: data, metadata: metadata[EXEC_MIME_TYPE]};\n",
       "      render(props, toinsert[toinsert.length - 1]);\n",
       "      element.append(toinsert);\n",
       "      return toinsert\n",
       "    }\n",
       "\n",
       "    /* Handle when an output is cleared or removed */\n",
       "    events.on('clear_output.CodeCell', handleClearOutput);\n",
       "    events.on('delete.Cell', handleClearOutput);\n",
       "\n",
       "    /* Handle when a new output is added */\n",
       "    events.on('output_added.OutputArea', handleAddOutput);\n",
       "\n",
       "    /**\n",
       "     * Register the mime type and append_mime function with output_area\n",
       "     */\n",
       "    OutputArea.prototype.register_mime_type(EXEC_MIME_TYPE, append_mime, {\n",
       "      /* Is output safe? */\n",
       "      safe: true,\n",
       "      /* Index of renderer in `output_area.display_order` */\n",
       "      index: 0\n",
       "    });\n",
       "  }\n",
       "\n",
       "  // register the mime type if in Jupyter Notebook environment and previously unregistered\n",
       "  if (root.Jupyter !== undefined) {\n",
       "    const events = require('base/js/events');\n",
       "    const OutputArea = require('notebook/js/outputarea').OutputArea;\n",
       "\n",
       "    if (OutputArea.prototype.mime_types().indexOf(EXEC_MIME_TYPE) == -1) {\n",
       "      register_renderer(events, OutputArea);\n",
       "    }\n",
       "  }\n",
       "\n",
       "  \n",
       "  if (typeof (root._bokeh_timeout) === \"undefined\" || force === true) {\n",
       "    root._bokeh_timeout = Date.now() + 5000;\n",
       "    root._bokeh_failed_load = false;\n",
       "  }\n",
       "\n",
       "  const NB_LOAD_WARNING = {'data': {'text/html':\n",
       "     \"<div style='background-color: #fdd'>\\n\"+\n",
       "     \"<p>\\n\"+\n",
       "     \"BokehJS does not appear to have successfully loaded. If loading BokehJS from CDN, this \\n\"+\n",
       "     \"may be due to a slow or bad network connection. Possible fixes:\\n\"+\n",
       "     \"</p>\\n\"+\n",
       "     \"<ul>\\n\"+\n",
       "     \"<li>re-rerun `output_notebook()` to attempt to load from CDN again, or</li>\\n\"+\n",
       "     \"<li>use INLINE resources instead, as so:</li>\\n\"+\n",
       "     \"</ul>\\n\"+\n",
       "     \"<code>\\n\"+\n",
       "     \"from bokeh.resources import INLINE\\n\"+\n",
       "     \"output_notebook(resources=INLINE)\\n\"+\n",
       "     \"</code>\\n\"+\n",
       "     \"</div>\"}};\n",
       "\n",
       "  function display_loaded() {\n",
       "    const el = document.getElementById(\"4033\");\n",
       "    if (el != null) {\n",
       "      el.textContent = \"BokehJS is loading...\";\n",
       "    }\n",
       "    if (root.Bokeh !== undefined) {\n",
       "      if (el != null) {\n",
       "        el.textContent = \"BokehJS \" + root.Bokeh.version + \" successfully loaded.\";\n",
       "      }\n",
       "    } else if (Date.now() < root._bokeh_timeout) {\n",
       "      setTimeout(display_loaded, 100)\n",
       "    }\n",
       "  }\n",
       "\n",
       "\n",
       "  function run_callbacks() {\n",
       "    try {\n",
       "      root._bokeh_onload_callbacks.forEach(function(callback) {\n",
       "        if (callback != null)\n",
       "          callback();\n",
       "      });\n",
       "    } finally {\n",
       "      delete root._bokeh_onload_callbacks\n",
       "    }\n",
       "    console.debug(\"Bokeh: all callbacks have finished\");\n",
       "  }\n",
       "\n",
       "  function load_libs(css_urls, js_urls, callback) {\n",
       "    if (css_urls == null) css_urls = [];\n",
       "    if (js_urls == null) js_urls = [];\n",
       "\n",
       "    root._bokeh_onload_callbacks.push(callback);\n",
       "    if (root._bokeh_is_loading > 0) {\n",
       "      console.debug(\"Bokeh: BokehJS is being loaded, scheduling callback at\", now());\n",
       "      return null;\n",
       "    }\n",
       "    if (js_urls == null || js_urls.length === 0) {\n",
       "      run_callbacks();\n",
       "      return null;\n",
       "    }\n",
       "    console.debug(\"Bokeh: BokehJS not loaded, scheduling load and callback at\", now());\n",
       "    root._bokeh_is_loading = css_urls.length + js_urls.length;\n",
       "\n",
       "    function on_load() {\n",
       "      root._bokeh_is_loading--;\n",
       "      if (root._bokeh_is_loading === 0) {\n",
       "        console.debug(\"Bokeh: all BokehJS libraries/stylesheets loaded\");\n",
       "        run_callbacks()\n",
       "      }\n",
       "    }\n",
       "\n",
       "    function on_error(url) {\n",
       "      console.error(\"failed to load \" + url);\n",
       "    }\n",
       "\n",
       "    for (let i = 0; i < css_urls.length; i++) {\n",
       "      const url = css_urls[i];\n",
       "      const element = document.createElement(\"link\");\n",
       "      element.onload = on_load;\n",
       "      element.onerror = on_error.bind(null, url);\n",
       "      element.rel = \"stylesheet\";\n",
       "      element.type = \"text/css\";\n",
       "      element.href = url;\n",
       "      console.debug(\"Bokeh: injecting link tag for BokehJS stylesheet: \", url);\n",
       "      document.body.appendChild(element);\n",
       "    }\n",
       "\n",
       "    for (let i = 0; i < js_urls.length; i++) {\n",
       "      const url = js_urls[i];\n",
       "      const element = document.createElement('script');\n",
       "      element.onload = on_load;\n",
       "      element.onerror = on_error.bind(null, url);\n",
       "      element.async = false;\n",
       "      element.src = url;\n",
       "      console.debug(\"Bokeh: injecting script tag for BokehJS library: \", url);\n",
       "      document.head.appendChild(element);\n",
       "    }\n",
       "  };\n",
       "\n",
       "  function inject_raw_css(css) {\n",
       "    const element = document.createElement(\"style\");\n",
       "    element.appendChild(document.createTextNode(css));\n",
       "    document.body.appendChild(element);\n",
       "  }\n",
       "\n",
       "  \n",
       "  const js_urls = [\"https://cdn.bokeh.org/bokeh/release/bokeh-2.4.2.min.js\", \"https://cdn.bokeh.org/bokeh/release/bokeh-gl-2.4.2.min.js\", \"https://cdn.bokeh.org/bokeh/release/bokeh-widgets-2.4.2.min.js\", \"https://cdn.bokeh.org/bokeh/release/bokeh-tables-2.4.2.min.js\", \"https://cdn.bokeh.org/bokeh/release/bokeh-mathjax-2.4.2.min.js\"];\n",
       "  const css_urls = [];\n",
       "  \n",
       "\n",
       "  const inline_js = [\n",
       "    function(Bokeh) {\n",
       "      Bokeh.set_log_level(\"info\");\n",
       "    },\n",
       "    function(Bokeh) {\n",
       "    \n",
       "    \n",
       "    }\n",
       "  ];\n",
       "\n",
       "  function run_inline_js() {\n",
       "    \n",
       "    if (root.Bokeh !== undefined || force === true) {\n",
       "      \n",
       "    for (let i = 0; i < inline_js.length; i++) {\n",
       "      inline_js[i].call(root, root.Bokeh);\n",
       "    }\n",
       "    if (force === true) {\n",
       "        display_loaded();\n",
       "      }} else if (Date.now() < root._bokeh_timeout) {\n",
       "      setTimeout(run_inline_js, 100);\n",
       "    } else if (!root._bokeh_failed_load) {\n",
       "      console.log(\"Bokeh: BokehJS failed to load within specified timeout.\");\n",
       "      root._bokeh_failed_load = true;\n",
       "    } else if (force !== true) {\n",
       "      const cell = $(document.getElementById(\"4033\")).parents('.cell').data().cell;\n",
       "      cell.output_area.append_execute_result(NB_LOAD_WARNING)\n",
       "    }\n",
       "\n",
       "  }\n",
       "\n",
       "  if (root._bokeh_is_loading === 0) {\n",
       "    console.debug(\"Bokeh: BokehJS loaded, going straight to plotting\");\n",
       "    run_inline_js();\n",
       "  } else {\n",
       "    load_libs(css_urls, js_urls, function() {\n",
       "      console.debug(\"Bokeh: BokehJS plotting callback run at\", now());\n",
       "      run_inline_js();\n",
       "    });\n",
       "  }\n",
       "}(window));"
      ],
      "application/vnd.bokehjs_load.v0+json": "\n(function(root) {\n  function now() {\n    return new Date();\n  }\n\n  const force = true;\n\n  if (typeof root._bokeh_onload_callbacks === \"undefined\" || force === true) {\n    root._bokeh_onload_callbacks = [];\n    root._bokeh_is_loading = undefined;\n  }\n\n  \n\n  \n  if (typeof (root._bokeh_timeout) === \"undefined\" || force === true) {\n    root._bokeh_timeout = Date.now() + 5000;\n    root._bokeh_failed_load = false;\n  }\n\n  const NB_LOAD_WARNING = {'data': {'text/html':\n     \"<div style='background-color: #fdd'>\\n\"+\n     \"<p>\\n\"+\n     \"BokehJS does not appear to have successfully loaded. If loading BokehJS from CDN, this \\n\"+\n     \"may be due to a slow or bad network connection. Possible fixes:\\n\"+\n     \"</p>\\n\"+\n     \"<ul>\\n\"+\n     \"<li>re-rerun `output_notebook()` to attempt to load from CDN again, or</li>\\n\"+\n     \"<li>use INLINE resources instead, as so:</li>\\n\"+\n     \"</ul>\\n\"+\n     \"<code>\\n\"+\n     \"from bokeh.resources import INLINE\\n\"+\n     \"output_notebook(resources=INLINE)\\n\"+\n     \"</code>\\n\"+\n     \"</div>\"}};\n\n  function display_loaded() {\n    const el = document.getElementById(\"4033\");\n    if (el != null) {\n      el.textContent = \"BokehJS is loading...\";\n    }\n    if (root.Bokeh !== undefined) {\n      if (el != null) {\n        el.textContent = \"BokehJS \" + root.Bokeh.version + \" successfully loaded.\";\n      }\n    } else if (Date.now() < root._bokeh_timeout) {\n      setTimeout(display_loaded, 100)\n    }\n  }\n\n\n  function run_callbacks() {\n    try {\n      root._bokeh_onload_callbacks.forEach(function(callback) {\n        if (callback != null)\n          callback();\n      });\n    } finally {\n      delete root._bokeh_onload_callbacks\n    }\n    console.debug(\"Bokeh: all callbacks have finished\");\n  }\n\n  function load_libs(css_urls, js_urls, callback) {\n    if (css_urls == null) css_urls = [];\n    if (js_urls == null) js_urls = [];\n\n    root._bokeh_onload_callbacks.push(callback);\n    if (root._bokeh_is_loading > 0) {\n      console.debug(\"Bokeh: BokehJS is being loaded, scheduling callback at\", now());\n      return null;\n    }\n    if (js_urls == null || js_urls.length === 0) {\n      run_callbacks();\n      return null;\n    }\n    console.debug(\"Bokeh: BokehJS not loaded, scheduling load and callback at\", now());\n    root._bokeh_is_loading = css_urls.length + js_urls.length;\n\n    function on_load() {\n      root._bokeh_is_loading--;\n      if (root._bokeh_is_loading === 0) {\n        console.debug(\"Bokeh: all BokehJS libraries/stylesheets loaded\");\n        run_callbacks()\n      }\n    }\n\n    function on_error(url) {\n      console.error(\"failed to load \" + url);\n    }\n\n    for (let i = 0; i < css_urls.length; i++) {\n      const url = css_urls[i];\n      const element = document.createElement(\"link\");\n      element.onload = on_load;\n      element.onerror = on_error.bind(null, url);\n      element.rel = \"stylesheet\";\n      element.type = \"text/css\";\n      element.href = url;\n      console.debug(\"Bokeh: injecting link tag for BokehJS stylesheet: \", url);\n      document.body.appendChild(element);\n    }\n\n    for (let i = 0; i < js_urls.length; i++) {\n      const url = js_urls[i];\n      const element = document.createElement('script');\n      element.onload = on_load;\n      element.onerror = on_error.bind(null, url);\n      element.async = false;\n      element.src = url;\n      console.debug(\"Bokeh: injecting script tag for BokehJS library: \", url);\n      document.head.appendChild(element);\n    }\n  };\n\n  function inject_raw_css(css) {\n    const element = document.createElement(\"style\");\n    element.appendChild(document.createTextNode(css));\n    document.body.appendChild(element);\n  }\n\n  \n  const js_urls = [\"https://cdn.bokeh.org/bokeh/release/bokeh-2.4.2.min.js\", \"https://cdn.bokeh.org/bokeh/release/bokeh-gl-2.4.2.min.js\", \"https://cdn.bokeh.org/bokeh/release/bokeh-widgets-2.4.2.min.js\", \"https://cdn.bokeh.org/bokeh/release/bokeh-tables-2.4.2.min.js\", \"https://cdn.bokeh.org/bokeh/release/bokeh-mathjax-2.4.2.min.js\"];\n  const css_urls = [];\n  \n\n  const inline_js = [\n    function(Bokeh) {\n      Bokeh.set_log_level(\"info\");\n    },\n    function(Bokeh) {\n    \n    \n    }\n  ];\n\n  function run_inline_js() {\n    \n    if (root.Bokeh !== undefined || force === true) {\n      \n    for (let i = 0; i < inline_js.length; i++) {\n      inline_js[i].call(root, root.Bokeh);\n    }\n    if (force === true) {\n        display_loaded();\n      }} else if (Date.now() < root._bokeh_timeout) {\n      setTimeout(run_inline_js, 100);\n    } else if (!root._bokeh_failed_load) {\n      console.log(\"Bokeh: BokehJS failed to load within specified timeout.\");\n      root._bokeh_failed_load = true;\n    } else if (force !== true) {\n      const cell = $(document.getElementById(\"4033\")).parents('.cell').data().cell;\n      cell.output_area.append_execute_result(NB_LOAD_WARNING)\n    }\n\n  }\n\n  if (root._bokeh_is_loading === 0) {\n    console.debug(\"Bokeh: BokehJS loaded, going straight to plotting\");\n    run_inline_js();\n  } else {\n    load_libs(css_urls, js_urls, function() {\n      console.debug(\"Bokeh: BokehJS plotting callback run at\", now());\n      run_inline_js();\n    });\n  }\n}(window));"
     },
     "metadata": {},
     "output_type": "display_data"
    },
    {
     "data": {
      "text/html": [
       "\n",
       "\n",
       "\n",
       "\n",
       "\n",
       "\n",
       "  <div class=\"bk-root\" id=\"d9a6cfe1-0143-483f-b952-0981abaab35d\" data-root-id=\"4153\"></div>\n"
      ]
     },
     "metadata": {},
     "output_type": "display_data"
    },
    {
     "data": {
      "application/javascript": [
       "(function(root) {\n",
       "  function embed_document(root) {\n",
       "    \n",
       "  const docs_json = {\"ae534d33-25c4-4aa9-9bf4-fb043eb0b28e\":{\"defs\":[],\"roots\":{\"references\":[{\"attributes\":{\"children\":[{\"id\":\"4070\"},{\"id\":\"4098\"},{\"id\":\"4126\"}]},\"id\":\"4153\",\"type\":\"Row\"},{\"attributes\":{},\"id\":\"4263\",\"type\":\"AllLabels\"},{\"attributes\":{\"high\":0.7391789149137316,\"low\":2.55351295663786e-16,\"palette\":[\"#0C0786\",\"#100787\",\"#130689\",\"#15068A\",\"#18068B\",\"#1B068C\",\"#1D068D\",\"#1F058E\",\"#21058F\",\"#230590\",\"#250591\",\"#270592\",\"#290593\",\"#2B0594\",\"#2D0494\",\"#2F0495\",\"#310496\",\"#330497\",\"#340498\",\"#360498\",\"#380499\",\"#3A049A\",\"#3B039A\",\"#3D039B\",\"#3F039C\",\"#40039C\",\"#42039D\",\"#44039E\",\"#45039E\",\"#47029F\",\"#49029F\",\"#4A02A0\",\"#4C02A1\",\"#4E02A1\",\"#4F02A2\",\"#5101A2\",\"#5201A3\",\"#5401A3\",\"#5601A3\",\"#5701A4\",\"#5901A4\",\"#5A00A5\",\"#5C00A5\",\"#5E00A5\",\"#5F00A6\",\"#6100A6\",\"#6200A6\",\"#6400A7\",\"#6500A7\",\"#6700A7\",\"#6800A7\",\"#6A00A7\",\"#6C00A8\",\"#6D00A8\",\"#6F00A8\",\"#7000A8\",\"#7200A8\",\"#7300A8\",\"#7500A8\",\"#7601A8\",\"#7801A8\",\"#7901A8\",\"#7B02A8\",\"#7C02A7\",\"#7E03A7\",\"#7F03A7\",\"#8104A7\",\"#8204A7\",\"#8405A6\",\"#8506A6\",\"#8607A6\",\"#8807A5\",\"#8908A5\",\"#8B09A4\",\"#8C0AA4\",\"#8E0CA4\",\"#8F0DA3\",\"#900EA3\",\"#920FA2\",\"#9310A1\",\"#9511A1\",\"#9612A0\",\"#9713A0\",\"#99149F\",\"#9A159E\",\"#9B179E\",\"#9D189D\",\"#9E199C\",\"#9F1A9B\",\"#A01B9B\",\"#A21C9A\",\"#A31D99\",\"#A41E98\",\"#A51F97\",\"#A72197\",\"#A82296\",\"#A92395\",\"#AA2494\",\"#AC2593\",\"#AD2692\",\"#AE2791\",\"#AF2890\",\"#B02A8F\",\"#B12B8F\",\"#B22C8E\",\"#B42D8D\",\"#B52E8C\",\"#B62F8B\",\"#B7308A\",\"#B83289\",\"#B93388\",\"#BA3487\",\"#BB3586\",\"#BC3685\",\"#BD3784\",\"#BE3883\",\"#BF3982\",\"#C03B81\",\"#C13C80\",\"#C23D80\",\"#C33E7F\",\"#C43F7E\",\"#C5407D\",\"#C6417C\",\"#C7427B\",\"#C8447A\",\"#C94579\",\"#CA4678\",\"#CB4777\",\"#CC4876\",\"#CD4975\",\"#CE4A75\",\"#CF4B74\",\"#D04D73\",\"#D14E72\",\"#D14F71\",\"#D25070\",\"#D3516F\",\"#D4526E\",\"#D5536D\",\"#D6556D\",\"#D7566C\",\"#D7576B\",\"#D8586A\",\"#D95969\",\"#DA5A68\",\"#DB5B67\",\"#DC5D66\",\"#DC5E66\",\"#DD5F65\",\"#DE6064\",\"#DF6163\",\"#DF6262\",\"#E06461\",\"#E16560\",\"#E26660\",\"#E3675F\",\"#E3685E\",\"#E46A5D\",\"#E56B5C\",\"#E56C5B\",\"#E66D5A\",\"#E76E5A\",\"#E87059\",\"#E87158\",\"#E97257\",\"#EA7356\",\"#EA7455\",\"#EB7654\",\"#EC7754\",\"#EC7853\",\"#ED7952\",\"#ED7B51\",\"#EE7C50\",\"#EF7D4F\",\"#EF7E4E\",\"#F0804D\",\"#F0814D\",\"#F1824C\",\"#F2844B\",\"#F2854A\",\"#F38649\",\"#F38748\",\"#F48947\",\"#F48A47\",\"#F58B46\",\"#F58D45\",\"#F68E44\",\"#F68F43\",\"#F69142\",\"#F79241\",\"#F79341\",\"#F89540\",\"#F8963F\",\"#F8983E\",\"#F9993D\",\"#F99A3C\",\"#FA9C3B\",\"#FA9D3A\",\"#FA9F3A\",\"#FAA039\",\"#FBA238\",\"#FBA337\",\"#FBA436\",\"#FCA635\",\"#FCA735\",\"#FCA934\",\"#FCAA33\",\"#FCAC32\",\"#FCAD31\",\"#FDAF31\",\"#FDB030\",\"#FDB22F\",\"#FDB32E\",\"#FDB52D\",\"#FDB62D\",\"#FDB82C\",\"#FDB92B\",\"#FDBB2B\",\"#FDBC2A\",\"#FDBE29\",\"#FDC029\",\"#FDC128\",\"#FDC328\",\"#FDC427\",\"#FDC626\",\"#FCC726\",\"#FCC926\",\"#FCCB25\",\"#FCCC25\",\"#FCCE25\",\"#FBD024\",\"#FBD124\",\"#FBD324\",\"#FAD524\",\"#FAD624\",\"#FAD824\",\"#F9D924\",\"#F9DB24\",\"#F8DD24\",\"#F8DF24\",\"#F7E024\",\"#F7E225\",\"#F6E425\",\"#F6E525\",\"#F5E726\",\"#F5E926\",\"#F4EA26\",\"#F3EC26\",\"#F3EE26\",\"#F2F026\",\"#F2F126\",\"#F1F326\",\"#F0F525\",\"#F0F623\",\"#EFF821\"]},\"id\":\"4125\",\"type\":\"LinearColorMapper\"},{\"attributes\":{\"coordinates\":null,\"data_source\":{\"id\":\"4067\"},\"glyph\":{\"id\":\"4120\"},\"group\":null,\"hover_glyph\":null,\"muted_glyph\":{\"id\":\"4122\"},\"nonselection_glyph\":{\"id\":\"4121\"},\"view\":{\"id\":\"4124\"}},\"id\":\"4123\",\"type\":\"GlyphRenderer\"},{\"attributes\":{},\"id\":\"4267\",\"type\":\"UnionRenderers\"},{\"attributes\":{\"fill_color\":{\"field\":\"dist_metric\",\"transform\":{\"id\":\"4069\"}},\"line_color\":{\"value\":\"#1f77b4\"},\"size\":{\"value\":10},\"x\":{\"field\":\"dist_collab\"},\"y\":{\"field\":\"dist_metric\"}},\"id\":\"4092\",\"type\":\"Circle\"},{\"attributes\":{\"axis_label\":\"dist collab\",\"coordinates\":null,\"formatter\":{\"id\":\"4253\"},\"group\":null,\"major_label_policy\":{\"id\":\"4254\"},\"ticker\":{\"id\":\"4082\"}},\"id\":\"4081\",\"type\":\"LinearAxis\"},{\"attributes\":{\"fill_alpha\":{\"value\":0.1},\"fill_color\":{\"field\":\"dist_metric\",\"transform\":{\"id\":\"4097\"}},\"hatch_alpha\":{\"value\":0.1},\"line_alpha\":{\"value\":0.1},\"line_color\":{\"value\":\"#1f77b4\"},\"size\":{\"value\":10},\"x\":{\"field\":\"dist_vect\"},\"y\":{\"field\":\"dist_metric\"}},\"id\":\"4121\",\"type\":\"Circle\"},{\"attributes\":{},\"id\":\"4077\",\"type\":\"LinearScale\"},{\"attributes\":{\"coordinates\":null,\"group\":null},\"id\":\"4071\",\"type\":\"Title\"},{\"attributes\":{},\"id\":\"4250\",\"type\":\"BasicTickFormatter\"},{\"attributes\":{\"source\":{\"id\":\"4067\"}},\"id\":\"4096\",\"type\":\"CDSView\"},{\"attributes\":{},\"id\":\"4254\",\"type\":\"AllLabels\"},{\"attributes\":{\"axis\":{\"id\":\"4113\"},\"coordinates\":null,\"dimension\":1,\"group\":null,\"ticker\":null},\"id\":\"4116\",\"type\":\"Grid\"},{\"attributes\":{},\"id\":\"4265\",\"type\":\"BasicTickFormatter\"},{\"attributes\":{\"tools\":[{\"id\":\"4068\"}]},\"id\":\"4117\",\"type\":\"Toolbar\"},{\"attributes\":{\"axis\":{\"id\":\"4141\"},\"coordinates\":null,\"dimension\":1,\"group\":null,\"ticker\":null},\"id\":\"4144\",\"type\":\"Grid\"},{\"attributes\":{\"fill_alpha\":{\"value\":0.2},\"fill_color\":{\"field\":\"dist_metric\",\"transform\":{\"id\":\"4125\"}},\"hatch_alpha\":{\"value\":0.2},\"line_alpha\":{\"value\":0.2},\"line_color\":{\"value\":\"#1f77b4\"},\"size\":{\"value\":10},\"x\":{\"field\":\"dist_wv\"},\"y\":{\"field\":\"dist_metric\"}},\"id\":\"4150\",\"type\":\"Circle\"},{\"attributes\":{\"axis_label\":\"dist vectorizer\",\"coordinates\":null,\"formatter\":{\"id\":\"4259\"},\"group\":null,\"major_label_policy\":{\"id\":\"4260\"},\"ticker\":{\"id\":\"4110\"}},\"id\":\"4109\",\"type\":\"LinearAxis\"},{\"attributes\":{\"axis_label\":\"dist metric\",\"coordinates\":null,\"formatter\":{\"id\":\"4256\"},\"group\":null,\"major_label_policy\":{\"id\":\"4257\"},\"ticker\":{\"id\":\"4114\"}},\"id\":\"4113\",\"type\":\"LinearAxis\"},{\"attributes\":{},\"id\":\"4259\",\"type\":\"BasicTickFormatter\"},{\"attributes\":{\"axis\":{\"id\":\"4085\"},\"coordinates\":null,\"dimension\":1,\"group\":null,\"ticker\":null},\"id\":\"4088\",\"type\":\"Grid\"},{\"attributes\":{},\"id\":\"4110\",\"type\":\"BasicTicker\"},{\"attributes\":{\"below\":[{\"id\":\"4081\"}],\"center\":[{\"id\":\"4084\"},{\"id\":\"4088\"}],\"height\":400,\"left\":[{\"id\":\"4085\"}],\"renderers\":[{\"id\":\"4095\"}],\"title\":{\"id\":\"4071\"},\"toolbar\":{\"id\":\"4089\"},\"width\":400,\"x_range\":{\"id\":\"4073\"},\"x_scale\":{\"id\":\"4077\"},\"y_range\":{\"id\":\"4075\"},\"y_scale\":{\"id\":\"4079\"}},\"id\":\"4070\",\"subtype\":\"Figure\",\"type\":\"Plot\"},{\"attributes\":{},\"id\":\"4114\",\"type\":\"BasicTicker\"},{\"attributes\":{\"below\":[{\"id\":\"4137\"}],\"center\":[{\"id\":\"4140\"},{\"id\":\"4144\"}],\"height\":400,\"left\":[{\"id\":\"4141\"}],\"renderers\":[{\"id\":\"4151\"}],\"title\":{\"id\":\"4127\"},\"toolbar\":{\"id\":\"4145\"},\"width\":400,\"x_range\":{\"id\":\"4129\"},\"x_scale\":{\"id\":\"4133\"},\"y_range\":{\"id\":\"4131\"},\"y_scale\":{\"id\":\"4135\"}},\"id\":\"4126\",\"subtype\":\"Figure\",\"type\":\"Plot\"},{\"attributes\":{\"fill_color\":{\"field\":\"dist_metric\",\"transform\":{\"id\":\"4097\"}},\"line_color\":{\"value\":\"#1f77b4\"},\"size\":{\"value\":10},\"x\":{\"field\":\"dist_vect\"},\"y\":{\"field\":\"dist_metric\"}},\"id\":\"4120\",\"type\":\"Circle\"},{\"attributes\":{},\"id\":\"4103\",\"type\":\"DataRange1d\"},{\"attributes\":{},\"id\":\"4133\",\"type\":\"LinearScale\"},{\"attributes\":{\"axis\":{\"id\":\"4137\"},\"coordinates\":null,\"group\":null,\"ticker\":null},\"id\":\"4140\",\"type\":\"Grid\"},{\"attributes\":{},\"id\":\"4257\",\"type\":\"AllLabels\"},{\"attributes\":{\"source\":{\"id\":\"4067\"}},\"id\":\"4152\",\"type\":\"CDSView\"},{\"attributes\":{\"axis_label\":\"dist metric\",\"coordinates\":null,\"formatter\":{\"id\":\"4250\"},\"group\":null,\"major_label_policy\":{\"id\":\"4251\"},\"ticker\":{\"id\":\"4086\"}},\"id\":\"4085\",\"type\":\"LinearAxis\"},{\"attributes\":{},\"id\":\"4251\",\"type\":\"AllLabels\"},{\"attributes\":{\"tools\":[{\"id\":\"4068\"}]},\"id\":\"4145\",\"type\":\"Toolbar\"},{\"attributes\":{\"fill_alpha\":{\"value\":0.2},\"fill_color\":{\"field\":\"dist_metric\",\"transform\":{\"id\":\"4097\"}},\"hatch_alpha\":{\"value\":0.2},\"line_alpha\":{\"value\":0.2},\"line_color\":{\"value\":\"#1f77b4\"},\"size\":{\"value\":10},\"x\":{\"field\":\"dist_vect\"},\"y\":{\"field\":\"dist_metric\"}},\"id\":\"4122\",\"type\":\"Circle\"},{\"attributes\":{},\"id\":\"4253\",\"type\":\"BasicTickFormatter\"},{\"attributes\":{},\"id\":\"4075\",\"type\":\"DataRange1d\"},{\"attributes\":{},\"id\":\"4079\",\"type\":\"LinearScale\"},{\"attributes\":{},\"id\":\"4101\",\"type\":\"DataRange1d\"},{\"attributes\":{\"coordinates\":null,\"data_source\":{\"id\":\"4067\"},\"glyph\":{\"id\":\"4092\"},\"group\":null,\"hover_glyph\":null,\"muted_glyph\":{\"id\":\"4094\"},\"nonselection_glyph\":{\"id\":\"4093\"},\"view\":{\"id\":\"4096\"}},\"id\":\"4095\",\"type\":\"GlyphRenderer\"},{\"attributes\":{\"coordinates\":null,\"group\":null},\"id\":\"4127\",\"type\":\"Title\"},{\"attributes\":{\"axis_label\":\"dist word2vec\",\"coordinates\":null,\"formatter\":{\"id\":\"4265\"},\"group\":null,\"major_label_policy\":{\"id\":\"4266\"},\"ticker\":{\"id\":\"4138\"}},\"id\":\"4137\",\"type\":\"LinearAxis\"},{\"attributes\":{},\"id\":\"4107\",\"type\":\"LinearScale\"},{\"attributes\":{\"axis_label\":\"dist metric\",\"coordinates\":null,\"formatter\":{\"id\":\"4262\"},\"group\":null,\"major_label_policy\":{\"id\":\"4263\"},\"ticker\":{\"id\":\"4142\"}},\"id\":\"4141\",\"type\":\"LinearAxis\"},{\"attributes\":{},\"id\":\"4086\",\"type\":\"BasicTicker\"},{\"attributes\":{\"axis\":{\"id\":\"4109\"},\"coordinates\":null,\"group\":null,\"ticker\":null},\"id\":\"4112\",\"type\":\"Grid\"},{\"attributes\":{},\"id\":\"4073\",\"type\":\"DataRange1d\"},{\"attributes\":{\"tools\":[{\"id\":\"4068\"}]},\"id\":\"4089\",\"type\":\"Toolbar\"},{\"attributes\":{},\"id\":\"4131\",\"type\":\"DataRange1d\"},{\"attributes\":{},\"id\":\"4256\",\"type\":\"BasicTickFormatter\"},{\"attributes\":{},\"id\":\"4260\",\"type\":\"AllLabels\"},{\"attributes\":{},\"id\":\"4138\",\"type\":\"BasicTicker\"},{\"attributes\":{\"high\":0.7391789149137316,\"low\":2.55351295663786e-16,\"palette\":[\"#0C0786\",\"#100787\",\"#130689\",\"#15068A\",\"#18068B\",\"#1B068C\",\"#1D068D\",\"#1F058E\",\"#21058F\",\"#230590\",\"#250591\",\"#270592\",\"#290593\",\"#2B0594\",\"#2D0494\",\"#2F0495\",\"#310496\",\"#330497\",\"#340498\",\"#360498\",\"#380499\",\"#3A049A\",\"#3B039A\",\"#3D039B\",\"#3F039C\",\"#40039C\",\"#42039D\",\"#44039E\",\"#45039E\",\"#47029F\",\"#49029F\",\"#4A02A0\",\"#4C02A1\",\"#4E02A1\",\"#4F02A2\",\"#5101A2\",\"#5201A3\",\"#5401A3\",\"#5601A3\",\"#5701A4\",\"#5901A4\",\"#5A00A5\",\"#5C00A5\",\"#5E00A5\",\"#5F00A6\",\"#6100A6\",\"#6200A6\",\"#6400A7\",\"#6500A7\",\"#6700A7\",\"#6800A7\",\"#6A00A7\",\"#6C00A8\",\"#6D00A8\",\"#6F00A8\",\"#7000A8\",\"#7200A8\",\"#7300A8\",\"#7500A8\",\"#7601A8\",\"#7801A8\",\"#7901A8\",\"#7B02A8\",\"#7C02A7\",\"#7E03A7\",\"#7F03A7\",\"#8104A7\",\"#8204A7\",\"#8405A6\",\"#8506A6\",\"#8607A6\",\"#8807A5\",\"#8908A5\",\"#8B09A4\",\"#8C0AA4\",\"#8E0CA4\",\"#8F0DA3\",\"#900EA3\",\"#920FA2\",\"#9310A1\",\"#9511A1\",\"#9612A0\",\"#9713A0\",\"#99149F\",\"#9A159E\",\"#9B179E\",\"#9D189D\",\"#9E199C\",\"#9F1A9B\",\"#A01B9B\",\"#A21C9A\",\"#A31D99\",\"#A41E98\",\"#A51F97\",\"#A72197\",\"#A82296\",\"#A92395\",\"#AA2494\",\"#AC2593\",\"#AD2692\",\"#AE2791\",\"#AF2890\",\"#B02A8F\",\"#B12B8F\",\"#B22C8E\",\"#B42D8D\",\"#B52E8C\",\"#B62F8B\",\"#B7308A\",\"#B83289\",\"#B93388\",\"#BA3487\",\"#BB3586\",\"#BC3685\",\"#BD3784\",\"#BE3883\",\"#BF3982\",\"#C03B81\",\"#C13C80\",\"#C23D80\",\"#C33E7F\",\"#C43F7E\",\"#C5407D\",\"#C6417C\",\"#C7427B\",\"#C8447A\",\"#C94579\",\"#CA4678\",\"#CB4777\",\"#CC4876\",\"#CD4975\",\"#CE4A75\",\"#CF4B74\",\"#D04D73\",\"#D14E72\",\"#D14F71\",\"#D25070\",\"#D3516F\",\"#D4526E\",\"#D5536D\",\"#D6556D\",\"#D7566C\",\"#D7576B\",\"#D8586A\",\"#D95969\",\"#DA5A68\",\"#DB5B67\",\"#DC5D66\",\"#DC5E66\",\"#DD5F65\",\"#DE6064\",\"#DF6163\",\"#DF6262\",\"#E06461\",\"#E16560\",\"#E26660\",\"#E3675F\",\"#E3685E\",\"#E46A5D\",\"#E56B5C\",\"#E56C5B\",\"#E66D5A\",\"#E76E5A\",\"#E87059\",\"#E87158\",\"#E97257\",\"#EA7356\",\"#EA7455\",\"#EB7654\",\"#EC7754\",\"#EC7853\",\"#ED7952\",\"#ED7B51\",\"#EE7C50\",\"#EF7D4F\",\"#EF7E4E\",\"#F0804D\",\"#F0814D\",\"#F1824C\",\"#F2844B\",\"#F2854A\",\"#F38649\",\"#F38748\",\"#F48947\",\"#F48A47\",\"#F58B46\",\"#F58D45\",\"#F68E44\",\"#F68F43\",\"#F69142\",\"#F79241\",\"#F79341\",\"#F89540\",\"#F8963F\",\"#F8983E\",\"#F9993D\",\"#F99A3C\",\"#FA9C3B\",\"#FA9D3A\",\"#FA9F3A\",\"#FAA039\",\"#FBA238\",\"#FBA337\",\"#FBA436\",\"#FCA635\",\"#FCA735\",\"#FCA934\",\"#FCAA33\",\"#FCAC32\",\"#FCAD31\",\"#FDAF31\",\"#FDB030\",\"#FDB22F\",\"#FDB32E\",\"#FDB52D\",\"#FDB62D\",\"#FDB82C\",\"#FDB92B\",\"#FDBB2B\",\"#FDBC2A\",\"#FDBE29\",\"#FDC029\",\"#FDC128\",\"#FDC328\",\"#FDC427\",\"#FDC626\",\"#FCC726\",\"#FCC926\",\"#FCCB25\",\"#FCCC25\",\"#FCCE25\",\"#FBD024\",\"#FBD124\",\"#FBD324\",\"#FAD524\",\"#FAD624\",\"#FAD824\",\"#F9D924\",\"#F9DB24\",\"#F8DD24\",\"#F8DF24\",\"#F7E024\",\"#F7E225\",\"#F6E425\",\"#F6E525\",\"#F5E726\",\"#F5E926\",\"#F4EA26\",\"#F3EC26\",\"#F3EE26\",\"#F2F026\",\"#F2F126\",\"#F1F326\",\"#F0F525\",\"#F0F623\",\"#EFF821\"]},\"id\":\"4097\",\"type\":\"LinearColorMapper\"},{\"attributes\":{},\"id\":\"4129\",\"type\":\"DataRange1d\"},{\"attributes\":{\"fill_alpha\":{\"value\":0.1},\"fill_color\":{\"field\":\"dist_metric\",\"transform\":{\"id\":\"4069\"}},\"hatch_alpha\":{\"value\":0.1},\"line_alpha\":{\"value\":0.1},\"line_color\":{\"value\":\"#1f77b4\"},\"size\":{\"value\":10},\"x\":{\"field\":\"dist_collab\"},\"y\":{\"field\":\"dist_metric\"}},\"id\":\"4093\",\"type\":\"Circle\"},{\"attributes\":{\"axis\":{\"id\":\"4081\"},\"coordinates\":null,\"group\":null,\"ticker\":null},\"id\":\"4084\",\"type\":\"Grid\"},{\"attributes\":{\"source\":{\"id\":\"4067\"}},\"id\":\"4124\",\"type\":\"CDSView\"},{\"attributes\":{\"coordinates\":null,\"group\":null},\"id\":\"4099\",\"type\":\"Title\"},{\"attributes\":{\"fill_alpha\":{\"value\":0.2},\"fill_color\":{\"field\":\"dist_metric\",\"transform\":{\"id\":\"4069\"}},\"hatch_alpha\":{\"value\":0.2},\"line_alpha\":{\"value\":0.2},\"line_color\":{\"value\":\"#1f77b4\"},\"size\":{\"value\":10},\"x\":{\"field\":\"dist_collab\"},\"y\":{\"field\":\"dist_metric\"}},\"id\":\"4094\",\"type\":\"Circle\"},{\"attributes\":{\"high\":0.7391789149137316,\"low\":2.55351295663786e-16,\"palette\":[\"#0C0786\",\"#100787\",\"#130689\",\"#15068A\",\"#18068B\",\"#1B068C\",\"#1D068D\",\"#1F058E\",\"#21058F\",\"#230590\",\"#250591\",\"#270592\",\"#290593\",\"#2B0594\",\"#2D0494\",\"#2F0495\",\"#310496\",\"#330497\",\"#340498\",\"#360498\",\"#380499\",\"#3A049A\",\"#3B039A\",\"#3D039B\",\"#3F039C\",\"#40039C\",\"#42039D\",\"#44039E\",\"#45039E\",\"#47029F\",\"#49029F\",\"#4A02A0\",\"#4C02A1\",\"#4E02A1\",\"#4F02A2\",\"#5101A2\",\"#5201A3\",\"#5401A3\",\"#5601A3\",\"#5701A4\",\"#5901A4\",\"#5A00A5\",\"#5C00A5\",\"#5E00A5\",\"#5F00A6\",\"#6100A6\",\"#6200A6\",\"#6400A7\",\"#6500A7\",\"#6700A7\",\"#6800A7\",\"#6A00A7\",\"#6C00A8\",\"#6D00A8\",\"#6F00A8\",\"#7000A8\",\"#7200A8\",\"#7300A8\",\"#7500A8\",\"#7601A8\",\"#7801A8\",\"#7901A8\",\"#7B02A8\",\"#7C02A7\",\"#7E03A7\",\"#7F03A7\",\"#8104A7\",\"#8204A7\",\"#8405A6\",\"#8506A6\",\"#8607A6\",\"#8807A5\",\"#8908A5\",\"#8B09A4\",\"#8C0AA4\",\"#8E0CA4\",\"#8F0DA3\",\"#900EA3\",\"#920FA2\",\"#9310A1\",\"#9511A1\",\"#9612A0\",\"#9713A0\",\"#99149F\",\"#9A159E\",\"#9B179E\",\"#9D189D\",\"#9E199C\",\"#9F1A9B\",\"#A01B9B\",\"#A21C9A\",\"#A31D99\",\"#A41E98\",\"#A51F97\",\"#A72197\",\"#A82296\",\"#A92395\",\"#AA2494\",\"#AC2593\",\"#AD2692\",\"#AE2791\",\"#AF2890\",\"#B02A8F\",\"#B12B8F\",\"#B22C8E\",\"#B42D8D\",\"#B52E8C\",\"#B62F8B\",\"#B7308A\",\"#B83289\",\"#B93388\",\"#BA3487\",\"#BB3586\",\"#BC3685\",\"#BD3784\",\"#BE3883\",\"#BF3982\",\"#C03B81\",\"#C13C80\",\"#C23D80\",\"#C33E7F\",\"#C43F7E\",\"#C5407D\",\"#C6417C\",\"#C7427B\",\"#C8447A\",\"#C94579\",\"#CA4678\",\"#CB4777\",\"#CC4876\",\"#CD4975\",\"#CE4A75\",\"#CF4B74\",\"#D04D73\",\"#D14E72\",\"#D14F71\",\"#D25070\",\"#D3516F\",\"#D4526E\",\"#D5536D\",\"#D6556D\",\"#D7566C\",\"#D7576B\",\"#D8586A\",\"#D95969\",\"#DA5A68\",\"#DB5B67\",\"#DC5D66\",\"#DC5E66\",\"#DD5F65\",\"#DE6064\",\"#DF6163\",\"#DF6262\",\"#E06461\",\"#E16560\",\"#E26660\",\"#E3675F\",\"#E3685E\",\"#E46A5D\",\"#E56B5C\",\"#E56C5B\",\"#E66D5A\",\"#E76E5A\",\"#E87059\",\"#E87158\",\"#E97257\",\"#EA7356\",\"#EA7455\",\"#EB7654\",\"#EC7754\",\"#EC7853\",\"#ED7952\",\"#ED7B51\",\"#EE7C50\",\"#EF7D4F\",\"#EF7E4E\",\"#F0804D\",\"#F0814D\",\"#F1824C\",\"#F2844B\",\"#F2854A\",\"#F38649\",\"#F38748\",\"#F48947\",\"#F48A47\",\"#F58B46\",\"#F58D45\",\"#F68E44\",\"#F68F43\",\"#F69142\",\"#F79241\",\"#F79341\",\"#F89540\",\"#F8963F\",\"#F8983E\",\"#F9993D\",\"#F99A3C\",\"#FA9C3B\",\"#FA9D3A\",\"#FA9F3A\",\"#FAA039\",\"#FBA238\",\"#FBA337\",\"#FBA436\",\"#FCA635\",\"#FCA735\",\"#FCA934\",\"#FCAA33\",\"#FCAC32\",\"#FCAD31\",\"#FDAF31\",\"#FDB030\",\"#FDB22F\",\"#FDB32E\",\"#FDB52D\",\"#FDB62D\",\"#FDB82C\",\"#FDB92B\",\"#FDBB2B\",\"#FDBC2A\",\"#FDBE29\",\"#FDC029\",\"#FDC128\",\"#FDC328\",\"#FDC427\",\"#FDC626\",\"#FCC726\",\"#FCC926\",\"#FCCB25\",\"#FCCC25\",\"#FCCE25\",\"#FBD024\",\"#FBD124\",\"#FBD324\",\"#FAD524\",\"#FAD624\",\"#FAD824\",\"#F9D924\",\"#F9DB24\",\"#F8DD24\",\"#F8DF24\",\"#F7E024\",\"#F7E225\",\"#F6E425\",\"#F6E525\",\"#F5E726\",\"#F5E926\",\"#F4EA26\",\"#F3EC26\",\"#F3EE26\",\"#F2F026\",\"#F2F126\",\"#F1F326\",\"#F0F525\",\"#F0F623\",\"#EFF821\"]},\"id\":\"4069\",\"type\":\"LinearColorMapper\"},{\"attributes\":{\"below\":[{\"id\":\"4109\"}],\"center\":[{\"id\":\"4112\"},{\"id\":\"4116\"}],\"height\":400,\"left\":[{\"id\":\"4113\"}],\"renderers\":[{\"id\":\"4123\"}],\"title\":{\"id\":\"4099\"},\"toolbar\":{\"id\":\"4117\"},\"width\":400,\"x_range\":{\"id\":\"4101\"},\"x_scale\":{\"id\":\"4105\"},\"y_range\":{\"id\":\"4103\"},\"y_scale\":{\"id\":\"4107\"}},\"id\":\"4098\",\"subtype\":\"Figure\",\"type\":\"Plot\"},{\"attributes\":{\"data\":{\"dist_collab\":[1.1102230246251565e-16,0.7768479690033424,0.7933107708242164,0.8189047561614555,0.8198125074608882,0.8198125074608882,0.8198125074608882,0.8259687461925225,0.8259687461925225,0.8303436607016275,0.8355120762600577,0.8355120762600577,0.8355120762600577,0.8355120762600577,0.8355120762600577,1.0,1.0,1.0,1.0,0.8402352051428943,0.8412306341162903,0.8436400207113665,0.8503624321844727,0.8542317417174415,0.860982331399728,0.863242931952235,0.8702309495042733,0.8785176173125344,0.880034852010835,0.8819045531568162],\"dist_metric\":[2.55351295663786e-16,0.5740969367316465,0.6794423511941043,0.6460934324205242,0.6346579994184395,0.5913213834355693,0.5948407487780064,0.6280272032917312,0.6305480735522226,0.648187129764033,0.7219777610896139,0.635687725760708,0.648668782892679,0.6439538959117894,0.6569349530437605,0.7179316876306792,0.7309127447626502,0.7261978577817605,0.7391789149137316,0.5878210082519288,0.6734571139471374,0.5554887997304583,0.6573617474663411,0.6329226892978564,0.6558004946505425,0.681168245736038,0.6753933578695098,0.6723235919931376,0.6023239609076523,0.6052930105500762],\"dist_vect\":[4.440892098500626e-16,0.10248593486022883,0.2128672993475048,0.11921531047418488,0.11829525484515835,0.13113821168973716,0.16272909522769208,0.11487251353392192,0.0867101375923931,0.14705009359527244,0.19521808258795514,0.12094911065655833,0.12094911065655833,0.1622799614119652,0.1622799614119652,0.12094911065655833,0.12094911065655833,0.1622799614119652,0.1622799614119652,0.12277019859769689,0.15481579473594587,0.13331469287405684,0.10982018577845365,0.16928574326155998,0.16930414200280097,0.13062136463704332,0.15018476215570997,0.12010729566153044,0.09643093474048503,0.18262707770432973],\"dist_wv\":{\"__ndarray__\":\"AAAAAAAAoDxA8u++eiTFP0zQ+e9Qv84/KFys8PY8yz+wJ6TJZ73JP8jGfv8u3cM/sM7a3XiBwz84ppTosZXIP0TDmyDdoMk/UOrv4rwPyj8GJrKXrfjQP8DIF5CIzMg/YH8EkOV1yj/AyBeQiMzIP2B/BJDldco/wMgXkIjMyD9gfwSQ5XXKP8DIF5CIzMg/YH8EkOV1yj+0aJ/qt1LCP4wO0uqEZsw/sJ+qRbxkuz/sud/DX+jKP5htJWByAsY/SJFdbGKByD/QmgTUG5nMP8j6ycAs6co/8O5zgO7Byj9sEpCifU7CP5BHS5pAXMA/\",\"dtype\":\"float64\",\"order\":\"little\",\"shape\":[30]},\"index\":[0,1,2,3,4,5,6,7,8,9,10,11,12,13,14,15,16,17,18,19,20,21,22,23,24,25,26,27,28,29],\"title\":[\"Bambi (Disney Classic) (Little Golden Book)\",\"Lady and the Tramp (Disney Lady and the Tramp) (Little Golden Book)\",\"Phineas and Ferb: Runaway Hit\",\"Dumbo (Disney Classic) (Little Golden Book)\",\"Toy Story 3 (Disney/Pixar Toy Story 3) (Little Golden Book)\",\"Monsters University Little Golden Book (Disney/Pixar Monsters University)\",\"Carl Goes Shopping\",\"The Pop-Up Mice of Mr. Brice\",\"Spider-Man: Spider-Man versus the Vulture (Spider-Man: I Can Read. Level 2)\",\"Cars 2 Little Golden Book (Disney/Pixar Cars 2)\",\"Carl's Birthday\",\"101 Dalmatians\",\"101 Dalmatians\",\"101 Dalmatians\",\"101 Dalmatians\",\"101 Dalmatians\",\"101 Dalmatians\",\"101 Dalmatians\",\"101 Dalmatians\",\"Spider-Man: Spider-Man Phonics Fun (I Can Read! Phoniccs)\",\"How Do Penguins Play?\",\"The Kitten Who Thought He Was a Mouse (Look-Look)\",\"Pinocchio (Disney Classic) (Little Golden Book)\",\"The Please and Thank You Book (Little Golden Book)\",\"Brave Little Golden Book (Disney/Pixar Brave)\",\"I am a Princess (Disney Princess) (Little Golden Book)\",\"Where Do Giggles Come From? (Little Golden Book)\",\"The King's Stilts (Classic Seuss)\",\"Toy Story 2 (Little Golden Book)\",\"Richard Scarry's The Bunny Book (Little Golden Book)\"]},\"selected\":{\"id\":\"4268\"},\"selection_policy\":{\"id\":\"4267\"}},\"id\":\"4067\",\"type\":\"ColumnDataSource\"},{\"attributes\":{},\"id\":\"4262\",\"type\":\"BasicTickFormatter\"},{\"attributes\":{},\"id\":\"4268\",\"type\":\"Selection\"},{\"attributes\":{},\"id\":\"4105\",\"type\":\"LinearScale\"},{\"attributes\":{},\"id\":\"4142\",\"type\":\"BasicTicker\"},{\"attributes\":{},\"id\":\"4082\",\"type\":\"BasicTicker\"},{\"attributes\":{},\"id\":\"4135\",\"type\":\"LinearScale\"},{\"attributes\":{\"fill_color\":{\"field\":\"dist_metric\",\"transform\":{\"id\":\"4125\"}},\"line_color\":{\"value\":\"#1f77b4\"},\"size\":{\"value\":10},\"x\":{\"field\":\"dist_wv\"},\"y\":{\"field\":\"dist_metric\"}},\"id\":\"4148\",\"type\":\"Circle\"},{\"attributes\":{},\"id\":\"4266\",\"type\":\"AllLabels\"},{\"attributes\":{\"fill_alpha\":{\"value\":0.1},\"fill_color\":{\"field\":\"dist_metric\",\"transform\":{\"id\":\"4125\"}},\"hatch_alpha\":{\"value\":0.1},\"line_alpha\":{\"value\":0.1},\"line_color\":{\"value\":\"#1f77b4\"},\"size\":{\"value\":10},\"x\":{\"field\":\"dist_wv\"},\"y\":{\"field\":\"dist_metric\"}},\"id\":\"4149\",\"type\":\"Circle\"},{\"attributes\":{\"coordinates\":null,\"data_source\":{\"id\":\"4067\"},\"glyph\":{\"id\":\"4148\"},\"group\":null,\"hover_glyph\":null,\"muted_glyph\":{\"id\":\"4150\"},\"nonselection_glyph\":{\"id\":\"4149\"},\"view\":{\"id\":\"4152\"}},\"id\":\"4151\",\"type\":\"GlyphRenderer\"},{\"attributes\":{\"callback\":null,\"tooltips\":[[\"title\",\"@title\"]]},\"id\":\"4068\",\"type\":\"HoverTool\"}],\"root_ids\":[\"4153\"]},\"title\":\"Bokeh Application\",\"version\":\"2.4.2\"}};\n",
       "  const render_items = [{\"docid\":\"ae534d33-25c4-4aa9-9bf4-fb043eb0b28e\",\"notebook_comms_target\":\"4269\",\"root_ids\":[\"4153\"],\"roots\":{\"4153\":\"d9a6cfe1-0143-483f-b952-0981abaab35d\"}}];\n",
       "  root.Bokeh.embed.embed_items_notebook(docs_json, render_items);\n",
       "\n",
       "  }\n",
       "  if (root.Bokeh !== undefined) {\n",
       "    embed_document(root);\n",
       "  } else {\n",
       "    let attempts = 0;\n",
       "    const timer = setInterval(function(root) {\n",
       "      if (root.Bokeh !== undefined) {\n",
       "        clearInterval(timer);\n",
       "        embed_document(root);\n",
       "      } else {\n",
       "        attempts++;\n",
       "        if (attempts > 100) {\n",
       "          clearInterval(timer);\n",
       "          console.log(\"Bokeh: ERROR: Unable to run BokehJS code because BokehJS library is missing\");\n",
       "        }\n",
       "      }\n",
       "    }, 10, root)\n",
       "  }\n",
       "})(window);"
      ],
      "application/vnd.bokehjs_exec.v0+json": ""
     },
     "metadata": {
      "application/vnd.bokehjs_exec.v0+json": {
       "id": "4153"
      }
     },
     "output_type": "display_data"
    },
    {
     "data": {
      "text/html": [
       "<p><code>&lt;Bokeh Notebook handle for <strong>In[58]</strong>&gt;</code></p>"
      ],
      "text/plain": [
       "<bokeh.io.notebook.CommsHandle at 0x7fa66703cc70>"
      ]
     },
     "execution_count": 58,
     "metadata": {},
     "output_type": "execute_result"
    }
   ],
   "source": [
    "from bokeh.io import output_file, show, push_notebook, output_notebook\n",
    "from bokeh.layouts import row\n",
    "from bokeh.plotting import figure\n",
    "from bokeh.models import ColumnDataSource, HoverTool, LinearColorMapper\n",
    "from bokeh.palettes import plasma\n",
    "from bokeh.transform import transform\n",
    "import numpy as np\n",
    "import random\n",
    "output_notebook()\n",
    "\n",
    "fig1 = figure(title=\"Plot 1\")\n",
    "\n",
    "source = ColumnDataSource(data=df_join.head(30)) \n",
    "hover = HoverTool(tooltips=[\n",
    "    (\"title\", \"@title\")\n",
    "])\n",
    "mapper = LinearColorMapper(palette=plasma(256), low=min(df_join.head(30)['dist_metric'].tolist()), high=max(df_join.head(30)['dist_metric'].tolist()))\n",
    "\n",
    "fig1 = figure(plot_width=400, plot_height=400, tools=[hover], title=\"\")\n",
    "fig1.circle('dist_collab','dist_metric', size=10, source=source,\n",
    "         fill_color=transform('dist_metric', mapper)) \n",
    "fig1.xaxis.axis_label = 'dist collab'\n",
    "fig1.yaxis.axis_label = 'dist metric'\n",
    "\n",
    "# create the second plot\n",
    "mapper = LinearColorMapper(palette=plasma(256), low=min(df_join.head(30)['dist_metric'].tolist()), high=max(df_join.head(30)['dist_metric'].tolist()))\n",
    "fig2 = figure(plot_width=400, plot_height=400, tools=[hover], title=\"\")\n",
    "fig2.circle('dist_vect','dist_metric', size=10, source=source,\n",
    "         fill_color=transform('dist_metric', mapper)) \n",
    "fig2.xaxis.axis_label = 'dist vectorizer'\n",
    "fig2.yaxis.axis_label = 'dist metric'\n",
    " \n",
    "# create the third plot\n",
    "mapper = LinearColorMapper(palette=plasma(256), low=min(df_join.head(30)['dist_metric'].tolist()), high=max(df_join.head(30)['dist_metric'].tolist()))\n",
    "fig3 = figure(plot_width=400, plot_height=400, tools=[hover], title=\"\")\n",
    "fig3.circle('dist_wv', 'dist_metric', size=10, source=source,\n",
    "         fill_color=transform('dist_metric', mapper)) \n",
    "fig3.xaxis.axis_label = 'dist word2vec'\n",
    "fig3.yaxis.axis_label = 'dist metric' \n",
    "# depict visualization\n",
    "output_file('results/distance_models.html')\n",
    "show(row(fig1, fig2, fig3), notebook_handle=True)"
   ]
  },
  {
   "cell_type": "markdown",
   "id": "33ae5122",
   "metadata": {},
   "source": [
    "### The recommendation results for \"The Snowy Day\"\n",
    "<img src=\"results/TheSnowyDay.png\" style=\"width:450px\"/>"
   ]
  },
  {
   "cell_type": "markdown",
   "id": "74445169",
   "metadata": {},
   "source": [
    "## Conclusion\n",
    "\n",
    "The resulting recommendations seem reasonable for our book \"the way back home.\" They are all picture books for similar age group (4-8 or 3-7 years old). The evaluation of the models are highly qualitative. \n",
    "To work more efficiently with the big data file, we can extend the project to use spark and the ML models accordingly. "
   ]
  }
 ],
 "metadata": {
  "kernelspec": {
   "display_name": "Python 3 (ipykernel)",
   "language": "python",
   "name": "python3"
  },
  "language_info": {
   "codemirror_mode": {
    "name": "ipython",
    "version": 3
   },
   "file_extension": ".py",
   "mimetype": "text/x-python",
   "name": "python",
   "nbconvert_exporter": "python",
   "pygments_lexer": "ipython3",
   "version": "3.8.12"
  }
 },
 "nbformat": 4,
 "nbformat_minor": 5
}
